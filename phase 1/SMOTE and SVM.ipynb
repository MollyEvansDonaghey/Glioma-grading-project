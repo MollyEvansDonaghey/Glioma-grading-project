{
 "cells": [
  {
   "cell_type": "markdown",
   "id": "1a945c2f",
   "metadata": {},
   "source": [
    "# Preprocessing"
   ]
  },
  {
   "cell_type": "code",
   "execution_count": 2,
   "id": "6f4020dd",
   "metadata": {},
   "outputs": [],
   "source": [
    "from imblearn.over_sampling import SMOTE\n",
    "from sklearn.svm import SVC\n",
    "from sklearn.metrics import confusion_matrix, accuracy_score\n",
    "from sklearn.model_selection import train_test_split\n",
    "from sklearn.model_selection import GridSearchCV\n",
    "from imblearn.over_sampling import ADASYN\n",
    "import pandas as pd\n",
    "from sklearn.preprocessing import LabelEncoder\n",
    "import matplotlib.pyplot as plt\n",
    "import numpy as np\n",
    "import seaborn as sns\n",
    "from sklearn.inspection import permutation_importance\n",
    "from sklearn.metrics import recall_score"
   ]
  },
  {
   "cell_type": "code",
   "execution_count": 3,
   "id": "e3ea92d3",
   "metadata": {},
   "outputs": [],
   "source": [
    "from ucimlrepo import fetch_ucirepo \n",
    "  \n",
    "# fetch dataset \n",
    "glioma_grading_clinical_and_mutation_features = fetch_ucirepo(id=759) \n",
    "  \n",
    "# data (as pandas dataframes) \n",
    "X = glioma_grading_clinical_and_mutation_features.data.features \n",
    "y = glioma_grading_clinical_and_mutation_features.data.targets "
   ]
  },
  {
   "cell_type": "code",
   "execution_count": 4,
   "id": "101292f0",
   "metadata": {},
   "outputs": [
    {
     "name": "stderr",
     "output_type": "stream",
     "text": [
      "/var/folders/hf/3rv_98fd6y5b8tx745n5n1s00000gn/T/ipykernel_23951/2568762353.py:11: SettingWithCopyWarning: \n",
      "A value is trying to be set on a copy of a slice from a DataFrame.\n",
      "Try using .loc[row_indexer,col_indexer] = value instead\n",
      "\n",
      "See the caveats in the documentation: https://pandas.pydata.org/pandas-docs/stable/user_guide/indexing.html#returning-a-view-versus-a-copy\n",
      "  X['Age_class_at_diagnosis'] = X['Age_at_diagnosis'].apply(categorise_age)\n"
     ]
    }
   ],
   "source": [
    "def categorise_age(age):\n",
    "    if age <= 19:\n",
    "        return \"Paediatric\"\n",
    "    elif 20 <= age <= 39:\n",
    "        return \"Young Adult\"\n",
    "    elif 40 <= age <= 64:\n",
    "        return \"Adult\"\n",
    "    else:\n",
    "        return \"Elderly\"\n",
    "\n",
    "X['Age_class_at_diagnosis'] = X['Age_at_diagnosis'].apply(categorise_age)"
   ]
  },
  {
   "cell_type": "code",
   "execution_count": 5,
   "id": "5a41ebe5",
   "metadata": {},
   "outputs": [
    {
     "name": "stderr",
     "output_type": "stream",
     "text": [
      "/var/folders/hf/3rv_98fd6y5b8tx745n5n1s00000gn/T/ipykernel_23951/1515168427.py:3: SettingWithCopyWarning: \n",
      "A value is trying to be set on a copy of a slice from a DataFrame.\n",
      "Try using .loc[row_indexer,col_indexer] = value instead\n",
      "\n",
      "See the caveats in the documentation: https://pandas.pydata.org/pandas-docs/stable/user_guide/indexing.html#returning-a-view-versus-a-copy\n",
      "  X['Gender'] = X['Gender'].map(gender_mapping)\n"
     ]
    }
   ],
   "source": [
    "gender_mapping = {0 : 'Male', 1 : 'Female'}\n",
    "\n",
    "X['Gender'] = X['Gender'].map(gender_mapping)"
   ]
  },
  {
   "cell_type": "code",
   "execution_count": 6,
   "id": "518bcf47",
   "metadata": {},
   "outputs": [],
   "source": [
    "X['demographic'] = X['Gender'] + ', ' + X['Race'] + ', ' + X['Age_class_at_diagnosis']\n",
    "X.drop(columns = [\"Age_class_at_diagnosis\", \"Gender\", \"Race\", \"Age_at_diagnosis\"], inplace = True)"
   ]
  },
  {
   "cell_type": "code",
   "execution_count": 7,
   "id": "80570691",
   "metadata": {},
   "outputs": [],
   "source": [
    "demo_mapping = {\n",
    " 'male, white, paediatric': 1,\n",
    " 'male, black or african american, paediatric': 2,\n",
    " 'male, asian, paediatric': 3,\n",
    " 'male, american indian or alaska native, paediatric': 4,\n",
    " 'male, white, young adult': 5,\n",
    " 'male, black or african american, young adult': 6,\n",
    " 'male, asian, young adult': 7,\n",
    " 'male, american indian or alaska native, young adult': 8,\n",
    " 'male, white, adult': 9,\n",
    " 'male, black or african american, adult': 10,\n",
    " 'male, asian, adult': 11,\n",
    " 'male, american indian or alaska native, adult': 12,\n",
    " 'male, white, elderly': 13,\n",
    " 'male, black or african american, elderly': 14,\n",
    " 'male, asian, elderly': 15,\n",
    " 'male, american indian or alaska native, elderly': 16,\n",
    " 'female, white, paediatric': 17,\n",
    " 'female, black or african american, paediatric': 18,\n",
    " 'female, asian, paediatric': 19,\n",
    " 'female, american indian or alaska native, paediatric': 20,\n",
    " 'female, white, young adult': 21,\n",
    " 'female, black or african american, young adult': 22,\n",
    " 'female, asian, young adult': 23,\n",
    " 'female, american indian or alaska native, young adult': 24,\n",
    " 'female, white, adult': 25,\n",
    " 'female, black or african american, adult': 26,\n",
    " 'female, asian, adult': 27,\n",
    " 'female, american indian or alaska native, adult': 28,\n",
    " 'female, white, elderly': 29,\n",
    " 'female, black or african american, elderly': 30,\n",
    " 'female, asian, elderly': 31,\n",
    " 'female, american indian or alaska native, elderly': 32\n",
    "}\n",
    "\n",
    "\n",
    "\n",
    "X['demographic'] = X['demographic'].str.lower().map(demo_mapping)"
   ]
  },
  {
   "cell_type": "markdown",
   "id": "4e48bfa8",
   "metadata": {},
   "source": [
    "# SVM on dataset"
   ]
  },
  {
   "cell_type": "markdown",
   "id": "d7448c94",
   "metadata": {},
   "source": [
    "### Splitting data"
   ]
  },
  {
   "cell_type": "code",
   "execution_count": 10,
   "id": "8e4345f1-5067-4666-b978-638c99f46694",
   "metadata": {},
   "outputs": [],
   "source": [
    "## Splitting the dataset \n",
    "X_train, X_test, y_train, y_test = train_test_split(X, y, test_size = 0.10, random_state = 1)\n",
    "X_train, X_val, y_train, y_val = train_test_split(X_train, y_train, test_size = 0.25, random_state = 1)"
   ]
  },
  {
   "cell_type": "markdown",
   "id": "c1672bb4",
   "metadata": {},
   "source": [
    "### Feature selection"
   ]
  },
  {
   "cell_type": "code",
   "execution_count": 12,
   "id": "e2dfcd1f",
   "metadata": {},
   "outputs": [],
   "source": [
    "from sklearn.feature_selection import mutual_info_classif\n",
    "from sklearn.linear_model import LassoCV\n",
    "from sklearn.preprocessing import StandardScaler\n",
    "\n",
    "def mrmr_feature_selection(X, y, n_features, random_state=1):\n",
    "    \"\"\"Performs mRMR feature selection.\"\"\"\n",
    "    np.random.seed(random_state)  # Set random state\n",
    "    y = y.ravel()  # Ensure y is a 1D array\n",
    "\n",
    "    mi = mutual_info_classif(X, y, random_state=random_state)  # Compute mutual information\n",
    "    selected_features = []\n",
    "    remaining_features = list(range(X.shape[1]))\n",
    "\n",
    "    # Select the most relevant feature first\n",
    "    first_feature = np.argmax(mi)\n",
    "    selected_features.append(first_feature)\n",
    "    remaining_features.remove(first_feature)\n",
    "\n",
    "    # Iteratively select remaining features\n",
    "    for _ in range(min(n_features - 1, len(remaining_features))):\n",
    "        relevance = mi[remaining_features]\n",
    "\n",
    "        # Compute redundancy safely\n",
    "        redundancy_values = []\n",
    "        for sel in selected_features:\n",
    "            for f in remaining_features:\n",
    "                corr = np.corrcoef(\n",
    "                    X.iloc[:, f] if isinstance(X, pd.DataFrame) else X[:, f],\n",
    "                    X.iloc[:, sel] if isinstance(X, pd.DataFrame) else X[:, sel]\n",
    "                )[0, 1]\n",
    "                redundancy_values.append(corr)\n",
    "\n",
    "        redundancy = np.nanmean(redundancy_values) if redundancy_values else 0  # Avoid NaN issues\n",
    "        score = relevance - redundancy  # Compute mRMR score\n",
    "\n",
    "        if len(score) == 0:\n",
    "            break  # Prevent empty sequence error\n",
    "\n",
    "        next_feature = remaining_features[np.argmax(score)]\n",
    "        selected_features.append(next_feature)\n",
    "        remaining_features.remove(next_feature)\n",
    "\n",
    "    return selected_features\n",
    "\n",
    "def embedded_lasso_selection(X, y, random_state=1):\n",
    "    \"\"\"Performs feature selection using LASSO regression.\"\"\"\n",
    "    np.random.seed(random_state)  # Set random state\n",
    "    y = y.ravel()  # Ensure y is a 1D array\n",
    "    scaler = StandardScaler()\n",
    "    X_scaled = scaler.fit_transform(X)\n",
    "\n",
    "    lasso = LassoCV(cv=5, max_iter=10000, random_state=random_state)\n",
    "    lasso.fit(X_scaled, y)\n",
    "\n",
    "    selected_features = np.where(lasso.coef_ != 0)[0]\n",
    "    return selected_features\n",
    "\n",
    "def mrmr_lasso_pipeline(X, y, top_n_mrmr=20, random_state=1):\n",
    "    \"\"\"Pipeline combining mRMR and embedded LASSO feature selection.\"\"\"\n",
    "    np.random.seed(random_state)  # Set random state\n",
    "    y = y.values.ravel()  # Ensure y is 1D\n",
    "    selected_mrmr = mrmr_feature_selection(X, y, top_n_mrmr, random_state=random_state)\n",
    "    \n",
    "    # Ensure indexing works for both Pandas and NumPy\n",
    "    X_mrmr = X.iloc[:, selected_mrmr] if isinstance(X, pd.DataFrame) else X[:, selected_mrmr]\n",
    "\n",
    "    selected_lasso = embedded_lasso_selection(X_mrmr, y, random_state=random_state)\n",
    "    final_features = [selected_mrmr[i] for i in selected_lasso]\n",
    "\n",
    "    return final_features"
   ]
  },
  {
   "cell_type": "code",
   "execution_count": 13,
   "id": "db6980d5",
   "metadata": {},
   "outputs": [],
   "source": [
    "def mrmr_lasso_pipeline(X, y, desired_n_features=13, buffer_mrmr=30, random_state=1):\n",
    "    \"\"\"\n",
    "    Selects exactly `desired_n_features` using mRMR followed by LASSO.\n",
    "    `buffer_mrmr` should be greater than `desired_n_features` to give LASSO enough features to choose from.\n",
    "    \"\"\"\n",
    "    np.random.seed(random_state)\n",
    "    y = y.values.ravel() if hasattr(y, 'values') else y.ravel()\n",
    "    \n",
    "    # Step 1: Run mRMR with more than desired features\n",
    "    selected_mrmr = mrmr_feature_selection(X, y, buffer_mrmr, random_state=random_state)\n",
    "    X_mrmr = X.iloc[:, selected_mrmr] if isinstance(X, pd.DataFrame) else X[:, selected_mrmr]\n",
    "\n",
    "    # Step 2: Run LASSO to refine\n",
    "    selected_lasso = embedded_lasso_selection(X_mrmr, y, random_state=random_state)\n",
    "\n",
    "    # Step 3: Map back to original feature indices\n",
    "    final_features = [selected_mrmr[i] for i in selected_lasso]\n",
    "\n",
    "    # Step 4: Ensure we return exactly desired_n_features\n",
    "    if len(final_features) < desired_n_features:\n",
    "        # Fill remaining features based on mRMR ranking not yet selected\n",
    "        for feat in selected_mrmr:\n",
    "            if feat not in final_features:\n",
    "                final_features.append(feat)\n",
    "            if len(final_features) == desired_n_features:\n",
    "                break\n",
    "    else:\n",
    "        final_features = final_features[:desired_n_features]\n",
    "\n",
    "    return final_features\n"
   ]
  },
  {
   "cell_type": "code",
   "execution_count": 14,
   "id": "ba5014ef",
   "metadata": {},
   "outputs": [
    {
     "name": "stdout",
     "output_type": "stream",
     "text": [
      "Selected Feature Indices: [0, 3, 5, 8, 12, 17, 15, 16, 9, 20, 2, 11, 18]\n"
     ]
    }
   ],
   "source": [
    "final_selected_features = mrmr_lasso_pipeline(X_train, y_train, random_state = 1)\n",
    "\n",
    "print(\"Selected Feature Indices:\", final_selected_features)"
   ]
  },
  {
   "cell_type": "code",
   "execution_count": 15,
   "id": "baf38c34",
   "metadata": {},
   "outputs": [],
   "source": [
    "X_train = X_train.iloc[:, [0, 3, 5, 8, 12, 17, 15, 16, 9, 20, 2, 11, 18]]"
   ]
  },
  {
   "cell_type": "code",
   "execution_count": 16,
   "id": "633accde",
   "metadata": {},
   "outputs": [],
   "source": [
    "## To make sure the y column is a 1D array\n",
    "y_test = y_test.values.ravel()\n",
    "y_train = y_train.values.ravel()\n",
    "y_val = y_val.values.ravel()"
   ]
  },
  {
   "cell_type": "markdown",
   "id": "20f328a5-b5d8-4c54-b071-abc9c0647403",
   "metadata": {},
   "source": [
    "### Gridsearch "
   ]
  },
  {
   "cell_type": "code",
   "execution_count": 18,
   "id": "495b06db",
   "metadata": {},
   "outputs": [
    {
     "name": "stdout",
     "output_type": "stream",
     "text": [
      "Fitting 3 folds for each of 80 candidates, totalling 240 fits\n",
      "Best parameters: {'C': 1, 'gamma': 'scale', 'kernel': 'linear'}\n",
      "Best recall: 0.8603982161924502\n"
     ]
    }
   ],
   "source": [
    "# Define the parameter grid\n",
    "param_grid = {\n",
    "    'C': [0.1, 1, 10, 100],  # Regularization\n",
    "    'kernel': ['linear', 'rbf', 'poly', 'sigmoid'],  # Different kernel types\n",
    "    'gamma': ['scale', 'auto', 0.01, 0.1, 1],  # Kernel coefficient\n",
    "}\n",
    "\n",
    "# Define the model\n",
    "svc = SVC()\n",
    "\n",
    "# Perform GridSearchCV\n",
    "grid_search = GridSearchCV(svc, param_grid, cv=3, scoring='f1', verbose=1, n_jobs=-1)\n",
    "grid_search.fit(X_val, y_val)\n",
    "\n",
    "\n",
    "# Best parameters and score\n",
    "print(\"Best parameters:\", grid_search.best_params_)\n",
    "print(\"Best recall:\", grid_search.best_score_)"
   ]
  },
  {
   "cell_type": "code",
   "execution_count": 19,
   "id": "3c7738dc",
   "metadata": {},
   "outputs": [],
   "source": [
    "svc_norm = SVC(C = 1, gamma = 'scale', kernel = 'linear', random_state = 1)\n",
    "\n",
    "svc_norm.fit(X_train, y_train)\n",
    "X_test = X_test.iloc[:, [0, 3, 5, 8, 12, 17, 15, 16, 9, 20, 2, 11, 18]]"
   ]
  },
  {
   "cell_type": "code",
   "execution_count": 20,
   "id": "4c381b44",
   "metadata": {},
   "outputs": [
    {
     "name": "stdout",
     "output_type": "stream",
     "text": [
      "Confusion Matrix: [[35 10]\n",
      " [ 5 34]]\n",
      "Accuracy: 0.8214285714285714\n",
      "Sensitivity: 0.8717948717948718\n"
     ]
    }
   ],
   "source": [
    "from sklearn.metrics import roc_auc_score\n",
    "prediction = svc_norm.predict(X_test)\n",
    "print(f'Confusion Matrix: {confusion_matrix(y_test, prediction)}')\n",
    "print(f'Accuracy: {accuracy_score(y_test, prediction)}')\n",
    "print(f'Sensitivity: {recall_score(y_test, prediction)}')"
   ]
  },
  {
   "cell_type": "code",
   "execution_count": 21,
   "id": "f9c7b63a",
   "metadata": {},
   "outputs": [
    {
     "name": "stderr",
     "output_type": "stream",
     "text": [
      "/Users/mollydonaghey/opt/anaconda3/lib/python3.9/site-packages/sklearn/metrics/_classification.py:1471: UndefinedMetricWarning: Recall is ill-defined and being set to 0.0 due to no true samples. Use `zero_division` parameter to control this behavior.\n",
      "  _warn_prf(average, modifier, msg_start, len(result))\n",
      "/Users/mollydonaghey/opt/anaconda3/lib/python3.9/site-packages/sklearn/metrics/_classification.py:1471: UndefinedMetricWarning: Recall is ill-defined and being set to 0.0 due to no true samples. Use `zero_division` parameter to control this behavior.\n",
      "  _warn_prf(average, modifier, msg_start, len(result))\n",
      "/Users/mollydonaghey/opt/anaconda3/lib/python3.9/site-packages/sklearn/metrics/_classification.py:1471: UndefinedMetricWarning: Recall is ill-defined and being set to 0.0 due to no true samples. Use `zero_division` parameter to control this behavior.\n",
      "  _warn_prf(average, modifier, msg_start, len(result))\n"
     ]
    }
   ],
   "source": [
    "results_df = pd.DataFrame({\n",
    "    'demographic': X_test['demographic'],\n",
    "    'actual': y_test,\n",
    "    'predicted': prediction\n",
    "})\n",
    "\n",
    "# Compute accuracy per demographic\n",
    "accuracy_per_demo_norm = results_df.groupby('demographic').apply(\n",
    "    lambda x: accuracy_score(x['actual'], x['predicted'])\n",
    ")\n",
    "\n",
    "sensitivity_per_demo_norm = results_df.groupby('demographic').apply(\n",
    "    lambda x: recall_score(x['actual'], x['predicted'])\n",
    ")"
   ]
  },
  {
   "cell_type": "markdown",
   "id": "ec0df109-8d13-415c-ad2c-d9b60ddd7d6e",
   "metadata": {},
   "source": [
    "## SHAP values"
   ]
  },
  {
   "cell_type": "code",
   "execution_count": 24,
   "id": "fdcbf244-f592-4977-87e7-0908d59c791b",
   "metadata": {},
   "outputs": [
    {
     "data": {
      "image/png": "[encoded data removed]",
      "text/plain": [
       "<Figure size 800x670 with 2 Axes>"
      ]
     },
     "metadata": {},
     "output_type": "display_data"
    }
   ],
   "source": [
    "import shap\n",
    "from shap import maskers\n",
    "\n",
    "feature_names = X_train.columns.to_list()\n",
    "\n",
    "\n",
    "masker = maskers.Independent(X_train)\n",
    "explainer = shap.LinearExplainer(svc_norm, masker=masker)   # svc_norm: SVC(kernel=\"linear\")\n",
    "shap_values = explainer.shap_values(X_test)                 # 2D array for binary\n",
    "\n",
    "# no [0] for binary\n",
    "shap.summary_plot(shap_values, X_test, feature_names=feature_names)\n"
   ]
  },
  {
   "cell_type": "markdown",
   "id": "0fcc0a7c",
   "metadata": {},
   "source": [
    "# SMOTE"
   ]
  },
  {
   "cell_type": "code",
   "execution_count": 26,
   "id": "2195f190-7bbf-447c-a01f-5b6ed3dbacd0",
   "metadata": {},
   "outputs": [],
   "source": [
    "## Splitting the dataset \n",
    "X_train, X_test, y_train, y_test = train_test_split(X, y, test_size = 0.10, random_state = 1)\n",
    "X_train, X_val, y_train, y_val = train_test_split(X_train, y_train, test_size = 0.25, random_state = 1)"
   ]
  },
  {
   "cell_type": "code",
   "execution_count": 27,
   "id": "c850d71d",
   "metadata": {},
   "outputs": [],
   "source": [
    "import pandas as pd\n",
    "from sklearn.preprocessing import LabelEncoder\n",
    "\n",
    "# Assign y to X before balancing\n",
    "X_train['Grading'] = y_train\n",
    "\n",
    "# Define the minimum required samples per demographic group\n",
    "min_samples = 2\n",
    "\n",
    "# Ensure that each demographic has at least `min_samples` samples\n",
    "X_train_balanced = X_train.groupby('demographic', group_keys=False).apply(\n",
    "    lambda x: x if len(x) >= min_samples else x.sample(min_samples, replace=True)\n",
    ")\n",
    "\n",
    "# Extract demographic column\n",
    "demographic = X_train_balanced['demographic']\n",
    "\n",
    "# Extract features (excluding demographic and Grading)\n",
    "mutations_grading = X_train_balanced.drop(columns=['demographic'])\n",
    "\n",
    "# Extract the balanced target variable\n",
    "y_train_balanced = X_train_balanced['Grading']"
   ]
  },
  {
   "cell_type": "code",
   "execution_count": 28,
   "id": "03985c3a",
   "metadata": {},
   "outputs": [],
   "source": [
    "smote_auto = SMOTE(k_neighbors=1, random_state=1, sampling_strategy='auto')\n",
    "mutations_grading_resampled_auto, demographic_resampled_auto = smote_auto.fit_resample(mutations_grading, demographic)"
   ]
  },
  {
   "cell_type": "code",
   "execution_count": 29,
   "id": "eadd02bc",
   "metadata": {},
   "outputs": [
    {
     "data": {
      "text/plain": [
       "demographic\n",
       "1     137\n",
       "15    137\n",
       "29    137\n",
       "27    137\n",
       "26    137\n",
       "25    137\n",
       "23    137\n",
       "22    137\n",
       "21    137\n",
       "14    137\n",
       "5     137\n",
       "13    137\n",
       "12    137\n",
       "11    137\n",
       "10    137\n",
       "9     137\n",
       "7     137\n",
       "6     137\n",
       "31    137\n",
       "Name: count, dtype: int64"
      ]
     },
     "execution_count": 29,
     "metadata": {},
     "output_type": "execute_result"
    }
   ],
   "source": [
    "df_train_resampled_auto = mutations_grading_resampled_auto\n",
    "df_train_resampled_auto['demographic'] = demographic_resampled_auto\n",
    "df_train_resampled_auto['demographic'].value_counts()"
   ]
  },
  {
   "cell_type": "markdown",
   "id": "26a22f34-c8b2-4097-8114-1562beb6b232",
   "metadata": {},
   "source": [
    "### Minority sampling strategy"
   ]
  },
  {
   "cell_type": "code",
   "execution_count": 32,
   "id": "d7907fb7",
   "metadata": {},
   "outputs": [],
   "source": [
    "smote = SMOTE(k_neighbors=1, random_state=1, sampling_strategy='minority')\n",
    "mutations_grading_resampled, demographic_resampled = smote.fit_resample(mutations_grading, demographic)"
   ]
  },
  {
   "cell_type": "code",
   "execution_count": 40,
   "id": "c94d78d4",
   "metadata": {},
   "outputs": [],
   "source": [
    "df_train_resampled = mutations_grading_resampled\n",
    "df_train_resampled['demographic'] = demographic_resampled"
   ]
  },
  {
   "cell_type": "code",
   "execution_count": 44,
   "id": "dc14d08e",
   "metadata": {},
   "outputs": [
    {
     "data": {
      "text/plain": [
       "demographic\n",
       "1     137\n",
       "9     137\n",
       "25    104\n",
       "5      86\n",
       "13     78\n",
       "21     62\n",
       "29     51\n",
       "10     14\n",
       "26     10\n",
       "14      8\n",
       "22      4\n",
       "11      3\n",
       "15      2\n",
       "12      2\n",
       "23      2\n",
       "7       2\n",
       "27      2\n",
       "6       2\n",
       "31      2\n",
       "Name: count, dtype: int64"
      ]
     },
     "execution_count": 44,
     "metadata": {},
     "output_type": "execute_result"
    }
   ],
   "source": [
    "df_train_resampled['demographic'].value_counts()"
   ]
  },
  {
   "cell_type": "markdown",
   "id": "88595681",
   "metadata": {},
   "source": [
    "# SVM on resampled dataset"
   ]
  },
  {
   "cell_type": "code",
   "execution_count": 46,
   "id": "deb6896a",
   "metadata": {},
   "outputs": [],
   "source": [
    "y_train_resampled = df_train_resampled['Grading']\n",
    "X_train_resampled = df_train_resampled.drop(columns = 'Grading')"
   ]
  },
  {
   "cell_type": "markdown",
   "id": "aa81f39d",
   "metadata": {},
   "source": [
    "### Feature selection"
   ]
  },
  {
   "cell_type": "code",
   "execution_count": 48,
   "id": "93a93705",
   "metadata": {},
   "outputs": [
    {
     "name": "stdout",
     "output_type": "stream",
     "text": [
      "Selected Feature Indices: [0, 20, 3, 16, 5, 12, 9, 15, 8, 17, 4, 1, 6]\n"
     ]
    }
   ],
   "source": [
    "final_selected_features = mrmr_lasso_pipeline(X_train_resampled, y_train_resampled, random_state = 1)\n",
    "\n",
    "print(\"Selected Feature Indices:\", final_selected_features)"
   ]
  },
  {
   "cell_type": "code",
   "execution_count": 49,
   "id": "f756572f",
   "metadata": {},
   "outputs": [],
   "source": [
    "X_train_resampled = X_train_resampled.iloc[:, [0, 20, 3, 16, 5, 12, 9, 15, 8, 17, 4, 1, 6]]"
   ]
  },
  {
   "cell_type": "markdown",
   "id": "5886d6bd",
   "metadata": {},
   "source": [
    "### Feature optimisation"
   ]
  },
  {
   "cell_type": "code",
   "execution_count": 51,
   "id": "b171a9b2-c654-4b22-819f-2c4eeb0b8d15",
   "metadata": {},
   "outputs": [],
   "source": [
    "y_val = y_val.values.ravel()\n",
    "y_test = y_test.values.ravel()"
   ]
  },
  {
   "cell_type": "code",
   "execution_count": 52,
   "id": "6c0c8d95",
   "metadata": {},
   "outputs": [
    {
     "name": "stdout",
     "output_type": "stream",
     "text": [
      "Fitting 3 folds for each of 80 candidates, totalling 240 fits\n",
      "Best parameters: {'C': 1, 'gamma': 'scale', 'kernel': 'linear'}\n",
      "Best recall: 0.8603982161924502\n"
     ]
    }
   ],
   "source": [
    "# Define the parameter grid\n",
    "param_grid = {\n",
    "    'C': [0.1, 1, 10, 100],  # Regularization\n",
    "    'kernel': ['linear', 'rbf', 'poly', 'sigmoid'],  # Different kernel types\n",
    "    'gamma': ['scale', 'auto', 0.01, 0.1, 1],  # Kernel coefficient\n",
    "}\n",
    "\n",
    "# Define the model\n",
    "svc = SVC()\n",
    "\n",
    "# Perform GridSearchCV\n",
    "grid_search = GridSearchCV(svc, param_grid, cv=3, scoring='f1', verbose=1, n_jobs=-1)\n",
    "grid_search.fit(X_val, y_val)\n",
    "\n",
    "\n",
    "# Best parameters and score\n",
    "print(\"Best parameters:\", grid_search.best_params_)\n",
    "print(\"Best recall:\", grid_search.best_score_)"
   ]
  },
  {
   "cell_type": "code",
   "execution_count": 53,
   "id": "2cd1aca1",
   "metadata": {},
   "outputs": [
    {
     "data": {
      "text/html": [
       "<style>#sk-container-id-1 {color: black;}#sk-container-id-1 pre{padding: 0;}#sk-container-id-1 div.sk-toggleable {background-color: white;}#sk-container-id-1 label.sk-toggleable__label {cursor: pointer;display: block;width: 100%;margin-bottom: 0;padding: 0.3em;box-sizing: border-box;text-align: center;}#sk-container-id-1 label.sk-toggleable__label-arrow:before {content: \"▸\";float: left;margin-right: 0.25em;color: #696969;}#sk-container-id-1 label.sk-toggleable__label-arrow:hover:before {color: black;}#sk-container-id-1 div.sk-estimator:hover label.sk-toggleable__label-arrow:before {color: black;}#sk-container-id-1 div.sk-toggleable__content {max-height: 0;max-width: 0;overflow: hidden;text-align: left;background-color: #f0f8ff;}#sk-container-id-1 div.sk-toggleable__content pre {margin: 0.2em;color: black;border-radius: 0.25em;background-color: #f0f8ff;}#sk-container-id-1 input.sk-toggleable__control:checked~div.sk-toggleable__content {max-height: 200px;max-width: 100%;overflow: auto;}#sk-container-id-1 input.sk-toggleable__control:checked~label.sk-toggleable__label-arrow:before {content: \"▾\";}#sk-container-id-1 div.sk-estimator input.sk-toggleable__control:checked~label.sk-toggleable__label {background-color: #d4ebff;}#sk-container-id-1 div.sk-label input.sk-toggleable__control:checked~label.sk-toggleable__label {background-color: #d4ebff;}#sk-container-id-1 input.sk-hidden--visually {border: 0;clip: rect(1px 1px 1px 1px);clip: rect(1px, 1px, 1px, 1px);height: 1px;margin: -1px;overflow: hidden;padding: 0;position: absolute;width: 1px;}#sk-container-id-1 div.sk-estimator {font-family: monospace;background-color: #f0f8ff;border: 1px dotted black;border-radius: 0.25em;box-sizing: border-box;margin-bottom: 0.5em;}#sk-container-id-1 div.sk-estimator:hover {background-color: #d4ebff;}#sk-container-id-1 div.sk-parallel-item::after {content: \"\";width: 100%;border-bottom: 1px solid gray;flex-grow: 1;}#sk-container-id-1 div.sk-label:hover label.sk-toggleable__label {background-color: #d4ebff;}#sk-container-id-1 div.sk-serial::before {content: \"\";position: absolute;border-left: 1px solid gray;box-sizing: border-box;top: 0;bottom: 0;left: 50%;z-index: 0;}#sk-container-id-1 div.sk-serial {display: flex;flex-direction: column;align-items: center;background-color: white;padding-right: 0.2em;padding-left: 0.2em;position: relative;}#sk-container-id-1 div.sk-item {position: relative;z-index: 1;}#sk-container-id-1 div.sk-parallel {display: flex;align-items: stretch;justify-content: center;background-color: white;position: relative;}#sk-container-id-1 div.sk-item::before, #sk-container-id-1 div.sk-parallel-item::before {content: \"\";position: absolute;border-left: 1px solid gray;box-sizing: border-box;top: 0;bottom: 0;left: 50%;z-index: -1;}#sk-container-id-1 div.sk-parallel-item {display: flex;flex-direction: column;z-index: 1;position: relative;background-color: white;}#sk-container-id-1 div.sk-parallel-item:first-child::after {align-self: flex-end;width: 50%;}#sk-container-id-1 div.sk-parallel-item:last-child::after {align-self: flex-start;width: 50%;}#sk-container-id-1 div.sk-parallel-item:only-child::after {width: 0;}#sk-container-id-1 div.sk-dashed-wrapped {border: 1px dashed gray;margin: 0 0.4em 0.5em 0.4em;box-sizing: border-box;padding-bottom: 0.4em;background-color: white;}#sk-container-id-1 div.sk-label label {font-family: monospace;font-weight: bold;display: inline-block;line-height: 1.2em;}#sk-container-id-1 div.sk-label-container {text-align: center;}#sk-container-id-1 div.sk-container {/* jupyter's `normalize.less` sets `[hidden] { display: none; }` but bootstrap.min.css set `[hidden] { display: none !important; }` so we also need the `!important` here to be able to override the default hidden behavior on the sphinx rendered scikit-learn.org. See: https://github.com/scikit-learn/scikit-learn/issues/21755 */display: inline-block !important;position: relative;}#sk-container-id-1 div.sk-text-repr-fallback {display: none;}</style><div id=\"sk-container-id-1\" class=\"sk-top-container\"><div class=\"sk-text-repr-fallback\"><pre>SVC(C=1, kernel=&#x27;linear&#x27;, random_state=1)</pre><b>In a Jupyter environment, please rerun this cell to show the HTML representation or trust the notebook. <br />On GitHub, the HTML representation is unable to render, please try loading this page with nbviewer.org.</b></div><div class=\"sk-container\" hidden><div class=\"sk-item\"><div class=\"sk-estimator sk-toggleable\"><input class=\"sk-toggleable__control sk-hidden--visually\" id=\"sk-estimator-id-1\" type=\"checkbox\" checked><label for=\"sk-estimator-id-1\" class=\"sk-toggleable__label sk-toggleable__label-arrow\">SVC</label><div class=\"sk-toggleable__content\"><pre>SVC(C=1, kernel=&#x27;linear&#x27;, random_state=1)</pre></div></div></div></div></div>"
      ],
      "text/plain": [
       "SVC(C=1, kernel='linear', random_state=1)"
      ]
     },
     "execution_count": 53,
     "metadata": {},
     "output_type": "execute_result"
    }
   ],
   "source": [
    "svc_SMOTE = SVC(C = 1, gamma = 'scale', kernel = 'linear', random_state = 1)\n",
    "\n",
    "svc_SMOTE.fit(X_train_resampled, y_train_resampled)"
   ]
  },
  {
   "cell_type": "markdown",
   "id": "9c56a52d",
   "metadata": {},
   "source": [
    "### Accuracy and validation"
   ]
  },
  {
   "cell_type": "code",
   "execution_count": 55,
   "id": "777374ca",
   "metadata": {},
   "outputs": [
    {
     "name": "stdout",
     "output_type": "stream",
     "text": [
      "Confusion Matrix: [[35 10]\n",
      " [ 5 34]]\n",
      "Accuracy: 0.8214285714285714\n",
      "Sensitivity: 0.8717948717948718\n"
     ]
    }
   ],
   "source": [
    "X_test = X_test.iloc[:, [0, 20, 3, 16, 5, 12, 9, 15, 8, 17, 4, 1, 6]]\n",
    "prediction = svc_SMOTE.predict(X_test)\n",
    "\n",
    "print(f'Confusion Matrix: {confusion_matrix(y_test, prediction)}')\n",
    "print(f'Accuracy: {accuracy_score(y_test, prediction)}')\n",
    "print(f'Sensitivity: {recall_score(y_test, prediction)}')"
   ]
  },
  {
   "cell_type": "code",
   "execution_count": 56,
   "id": "0d149d7a",
   "metadata": {},
   "outputs": [
    {
     "name": "stderr",
     "output_type": "stream",
     "text": [
      "Recall is ill-defined and being set to 0.0 due to no true samples. Use `zero_division` parameter to control this behavior.\n",
      "Recall is ill-defined and being set to 0.0 due to no true samples. Use `zero_division` parameter to control this behavior.\n",
      "Recall is ill-defined and being set to 0.0 due to no true samples. Use `zero_division` parameter to control this behavior.\n"
     ]
    }
   ],
   "source": [
    "results_SMOTE_df = pd.DataFrame({\n",
    "    'demographic': X_test['demographic'],\n",
    "    'actual': y_test,\n",
    "    'predicted': prediction\n",
    "})\n",
    "\n",
    "# Compute accuracy per demographic\n",
    "accuracy_per_demo_SMOTE = results_SMOTE_df.groupby('demographic').apply(\n",
    "    lambda x: accuracy_score(x['actual'], x['predicted'])\n",
    ")\n",
    "\n",
    "sensitivity_per_demo_SMOTE = results_SMOTE_df.groupby('demographic').apply(\n",
    "    lambda x: recall_score(x['actual'], x['predicted'])\n",
    ")"
   ]
  },
  {
   "cell_type": "markdown",
   "id": "8ed6058b-76df-4565-850d-98276ff082f5",
   "metadata": {},
   "source": [
    "## SHAP plot"
   ]
  },
  {
   "cell_type": "code",
   "execution_count": 61,
   "id": "7ec3d7b3-f007-4f46-9522-f3531ce5cc2c",
   "metadata": {},
   "outputs": [
    {
     "data": {
      "image/png": "[encoded data removed]",
      "text/plain": [
       "<Figure size 800x670 with 2 Axes>"
      ]
     },
     "metadata": {},
     "output_type": "display_data"
    }
   ],
   "source": [
    "feature_names = X_train.columns.to_list()\n",
    "\n",
    "\n",
    "masker = maskers.Independent(X_train_resampled)\n",
    "explainer = shap.LinearExplainer(svc_SMOTE, masker=masker)   # svc_norm: SVC(kernel=\"linear\")\n",
    "shap_values = explainer.shap_values(X_test)                 # 2D array for binary\n",
    "\n",
    "# no [0] for binary\n",
    "shap.summary_plot(shap_values, X_test, feature_names=feature_names)"
   ]
  },
  {
   "cell_type": "markdown",
   "id": "25aec963",
   "metadata": {},
   "source": [
    "# Subgroup analysis of accuracy "
   ]
  },
  {
   "cell_type": "code",
   "execution_count": 68,
   "id": "9181535c-0b96-4d70-b4ac-c5cbb9c264c3",
   "metadata": {},
   "outputs": [],
   "source": [
    "accuracy_per_demo_norm = pd.DataFrame(accuracy_per_demo_norm)\n",
    "accuracy_per_demo_norm.reset_index(inplace = True)\n",
    "accuracy_per_demo_norm.columns = ['demographic', 'accuracy_per_demo_norm']"
   ]
  },
  {
   "cell_type": "code",
   "execution_count": 69,
   "id": "49dc47d2",
   "metadata": {},
   "outputs": [],
   "source": [
    "# Print accuracy per demographic group\n",
    "accuracy_per_demo_SMOTE = pd.DataFrame(accuracy_per_demo_SMOTE)\n",
    "accuracy_per_demo_SMOTE.reset_index(inplace = True)\n",
    "accuracy_per_demo_SMOTE.columns = ['demographic', 'accuracy_per_demo_SMOTE']"
   ]
  },
  {
   "cell_type": "code",
   "execution_count": 70,
   "id": "b1a13de1",
   "metadata": {},
   "outputs": [],
   "source": [
    "accuracy_per_demo = accuracy_per_demo_SMOTE.merge(accuracy_per_demo_norm, on = 'demographic', how = 'left')"
   ]
  },
  {
   "cell_type": "code",
   "execution_count": 71,
   "id": "3e4bd62f",
   "metadata": {},
   "outputs": [
    {
     "data": {
      "text/html": [
       "<div>\n",
       "<style scoped>\n",
       "    .dataframe tbody tr th:only-of-type {\n",
       "        vertical-align: middle;\n",
       "    }\n",
       "\n",
       "    .dataframe tbody tr th {\n",
       "        vertical-align: top;\n",
       "    }\n",
       "\n",
       "    .dataframe thead th {\n",
       "        text-align: right;\n",
       "    }\n",
       "</style>\n",
       "<table border=\"1\" class=\"dataframe\">\n",
       "  <thead>\n",
       "    <tr style=\"text-align: right;\">\n",
       "      <th></th>\n",
       "      <th>demographic</th>\n",
       "      <th>accuracy_per_demo_SMOTE</th>\n",
       "      <th>accuracy_per_demo_norm</th>\n",
       "      <th>demographic_names</th>\n",
       "    </tr>\n",
       "  </thead>\n",
       "  <tbody>\n",
       "    <tr>\n",
       "      <th>0</th>\n",
       "      <td>5</td>\n",
       "      <td>1.000000</td>\n",
       "      <td>1.000000</td>\n",
       "      <td>male, white, young adult</td>\n",
       "    </tr>\n",
       "    <tr>\n",
       "      <th>1</th>\n",
       "      <td>9</td>\n",
       "      <td>0.809524</td>\n",
       "      <td>0.809524</td>\n",
       "      <td>male, white, adult</td>\n",
       "    </tr>\n",
       "    <tr>\n",
       "      <th>2</th>\n",
       "      <td>10</td>\n",
       "      <td>1.000000</td>\n",
       "      <td>1.000000</td>\n",
       "      <td>male, black or african american, adult</td>\n",
       "    </tr>\n",
       "    <tr>\n",
       "      <th>3</th>\n",
       "      <td>13</td>\n",
       "      <td>0.692308</td>\n",
       "      <td>0.692308</td>\n",
       "      <td>male, white, elderly</td>\n",
       "    </tr>\n",
       "    <tr>\n",
       "      <th>4</th>\n",
       "      <td>14</td>\n",
       "      <td>1.000000</td>\n",
       "      <td>1.000000</td>\n",
       "      <td>male, black or african american, elderly</td>\n",
       "    </tr>\n",
       "    <tr>\n",
       "      <th>5</th>\n",
       "      <td>21</td>\n",
       "      <td>0.800000</td>\n",
       "      <td>0.800000</td>\n",
       "      <td>female, white, young adult</td>\n",
       "    </tr>\n",
       "    <tr>\n",
       "      <th>6</th>\n",
       "      <td>22</td>\n",
       "      <td>1.000000</td>\n",
       "      <td>1.000000</td>\n",
       "      <td>female, black or african american, young adult</td>\n",
       "    </tr>\n",
       "    <tr>\n",
       "      <th>7</th>\n",
       "      <td>25</td>\n",
       "      <td>0.833333</td>\n",
       "      <td>0.833333</td>\n",
       "      <td>female, white, adult</td>\n",
       "    </tr>\n",
       "    <tr>\n",
       "      <th>8</th>\n",
       "      <td>26</td>\n",
       "      <td>0.000000</td>\n",
       "      <td>0.000000</td>\n",
       "      <td>female, black or african american, adult</td>\n",
       "    </tr>\n",
       "    <tr>\n",
       "      <th>9</th>\n",
       "      <td>29</td>\n",
       "      <td>1.000000</td>\n",
       "      <td>1.000000</td>\n",
       "      <td>female, white, elderly</td>\n",
       "    </tr>\n",
       "    <tr>\n",
       "      <th>10</th>\n",
       "      <td>30</td>\n",
       "      <td>0.000000</td>\n",
       "      <td>0.000000</td>\n",
       "      <td>female, black or african american, elderly</td>\n",
       "    </tr>\n",
       "  </tbody>\n",
       "</table>\n",
       "</div>"
      ],
      "text/plain": [
       "    demographic  accuracy_per_demo_SMOTE  accuracy_per_demo_norm   \n",
       "0             5                 1.000000                1.000000  \\\n",
       "1             9                 0.809524                0.809524   \n",
       "2            10                 1.000000                1.000000   \n",
       "3            13                 0.692308                0.692308   \n",
       "4            14                 1.000000                1.000000   \n",
       "5            21                 0.800000                0.800000   \n",
       "6            22                 1.000000                1.000000   \n",
       "7            25                 0.833333                0.833333   \n",
       "8            26                 0.000000                0.000000   \n",
       "9            29                 1.000000                1.000000   \n",
       "10           30                 0.000000                0.000000   \n",
       "\n",
       "                                 demographic_names  \n",
       "0                         male, white, young adult  \n",
       "1                               male, white, adult  \n",
       "2           male, black or african american, adult  \n",
       "3                             male, white, elderly  \n",
       "4         male, black or african american, elderly  \n",
       "5                       female, white, young adult  \n",
       "6   female, black or african american, young adult  \n",
       "7                             female, white, adult  \n",
       "8         female, black or african american, adult  \n",
       "9                           female, white, elderly  \n",
       "10      female, black or african american, elderly  "
      ]
     },
     "execution_count": 71,
     "metadata": {},
     "output_type": "execute_result"
    }
   ],
   "source": [
    "accuracy_per_demo.columns = ['demographic', 'accuracy_per_demo_SMOTE', 'accuracy_per_demo_norm']\n",
    "\n",
    "swapped_demo_mapping = {\n",
    "    1: 'male, white, paediatric',\n",
    "    2: 'male, black or african american, paediatric',\n",
    "    3: 'male, asian, paediatric',\n",
    "    4: 'male, american indian or alaska native, paediatric',\n",
    "    5: 'male, white, young adult',\n",
    "    6: 'male, black or african american, young adult',\n",
    "    7: 'male, asian, young adult',\n",
    "    8: 'male, american indian or alaska native, young adult',\n",
    "    9: 'male, white, adult',\n",
    "    10: 'male, black or african american, adult',\n",
    "    11: 'male, asian, adult',\n",
    "    12: 'male, american indian or alaska native, adult',\n",
    "    13: 'male, white, elderly',\n",
    "    14: 'male, black or african american, elderly',\n",
    "    15: 'male, asian, elderly',\n",
    "    16: 'male, american indian or alaska native, elderly',\n",
    "    17: 'female, white, paediatric',\n",
    "    18: 'female, black or african american, paediatric',\n",
    "    19: 'female, asian, paediatric',\n",
    "    20: 'female, american indian or alaska native, paediatric',\n",
    "    21: 'female, white, young adult',\n",
    "    22: 'female, black or african american, young adult',\n",
    "    23: 'female, asian, young adult',\n",
    "    24: 'female, american indian or alaska native, young adult',\n",
    "    25: 'female, white, adult',\n",
    "    26: 'female, black or african american, adult',\n",
    "    27: 'female, asian, adult',\n",
    "    28: 'female, american indian or alaska native, adult',\n",
    "    29: 'female, white, elderly',\n",
    "    30: 'female, black or african american, elderly',\n",
    "    31: 'female, asian, elderly',\n",
    "    32: 'female, american indian or alaska native, elderly'\n",
    "}\n",
    "\n",
    "accuracy_per_demo['demographic_names'] = accuracy_per_demo['demographic'].map(swapped_demo_mapping)\n",
    "accuracy_per_demo"
   ]
  },
  {
   "cell_type": "code",
   "execution_count": 72,
   "id": "298fa2d0",
   "metadata": {},
   "outputs": [
    {
     "data": {
      "image/png": "[encoded data removed]",
      "text/plain": [
       "<Figure size 1000x500 with 1 Axes>"
      ]
     },
     "metadata": {},
     "output_type": "display_data"
    }
   ],
   "source": [
    "x = np.arange(len(accuracy_per_demo['demographic']))  # Numeric positions for categories\n",
    "width = 0.4\n",
    "\n",
    "plt.figure(figsize=(10, 5))\n",
    "plt.bar(x - width/2, accuracy_per_demo['accuracy_per_demo_SMOTE'], width, label='SMOTE')\n",
    "plt.bar(x + width/2, accuracy_per_demo['accuracy_per_demo_norm'], width, label='Normal')\n",
    "\n",
    "plt.xlabel('Demographic')\n",
    "plt.ylabel('Accuracy')\n",
    "plt.title('Accuracy per Demographic')\n",
    "plt.xticks(ticks=x, labels=accuracy_per_demo['demographic'], rotation=45)  # Properly label x-axis\n",
    "plt.legend()\n",
    "plt.grid(axis='y', linestyle='--', alpha=0.7)  # Add a horizontal grid for better readability\n",
    "\n",
    "plt.show()"
   ]
  },
  {
   "cell_type": "markdown",
   "id": "a96eeb07",
   "metadata": {},
   "source": [
    "# Subgroup analysis of sensitivity"
   ]
  },
  {
   "cell_type": "code",
   "execution_count": 74,
   "id": "26061a26",
   "metadata": {},
   "outputs": [],
   "source": [
    "# Print accuracy per demographic group\n",
    "sensitivity_per_demo_SMOTE = pd.DataFrame(sensitivity_per_demo_SMOTE)\n",
    "sensitivity_per_demo_SMOTE.reset_index(inplace = True)\n",
    "sensitivity_per_demo_SMOTE.columns = ['demographic', 'sensitivity_per_demo_SMOTE']"
   ]
  },
  {
   "cell_type": "code",
   "execution_count": 75,
   "id": "c077ce39",
   "metadata": {},
   "outputs": [],
   "source": [
    "sensitivity_per_demo_norm= pd.DataFrame(sensitivity_per_demo_norm)\n",
    "sensitivity_per_demo_norm.reset_index(inplace = True)\n",
    "sensitivity_per_demo_norm.columns = ['demographic', 'sensitivity_per_demo_norm']"
   ]
  },
  {
   "cell_type": "code",
   "execution_count": 76,
   "id": "2309d72f",
   "metadata": {},
   "outputs": [],
   "source": [
    "sensitivity_per_demo = sensitivity_per_demo_SMOTE.merge(sensitivity_per_demo_norm, on = 'demographic', how = 'left')"
   ]
  },
  {
   "cell_type": "code",
   "execution_count": 77,
   "id": "618fc81d",
   "metadata": {},
   "outputs": [],
   "source": [
    "sensitivity_per_demo.columns = ['demographic', 'sensitivity_per_demo_SMOTE', 'sensitivity_per_demo_norm']\n",
    "\n",
    "\n",
    "sensitivity_per_demo['demographic_names'] = sensitivity_per_demo['demographic'].map(swapped_demo_mapping)"
   ]
  },
  {
   "cell_type": "code",
   "execution_count": 78,
   "id": "c3f0eebe",
   "metadata": {},
   "outputs": [
    {
     "data": {
      "text/html": [
       "<div>\n",
       "<style scoped>\n",
       "    .dataframe tbody tr th:only-of-type {\n",
       "        vertical-align: middle;\n",
       "    }\n",
       "\n",
       "    .dataframe tbody tr th {\n",
       "        vertical-align: top;\n",
       "    }\n",
       "\n",
       "    .dataframe thead th {\n",
       "        text-align: right;\n",
       "    }\n",
       "</style>\n",
       "<table border=\"1\" class=\"dataframe\">\n",
       "  <thead>\n",
       "    <tr style=\"text-align: right;\">\n",
       "      <th></th>\n",
       "      <th>demographic</th>\n",
       "      <th>sensitivity_per_demo_SMOTE</th>\n",
       "      <th>sensitivity_per_demo_norm</th>\n",
       "      <th>demographic_names</th>\n",
       "    </tr>\n",
       "  </thead>\n",
       "  <tbody>\n",
       "    <tr>\n",
       "      <th>0</th>\n",
       "      <td>5</td>\n",
       "      <td>0.000000</td>\n",
       "      <td>0.000000</td>\n",
       "      <td>male, white, young adult</td>\n",
       "    </tr>\n",
       "    <tr>\n",
       "      <th>1</th>\n",
       "      <td>9</td>\n",
       "      <td>0.928571</td>\n",
       "      <td>0.928571</td>\n",
       "      <td>male, white, adult</td>\n",
       "    </tr>\n",
       "    <tr>\n",
       "      <th>2</th>\n",
       "      <td>10</td>\n",
       "      <td>1.000000</td>\n",
       "      <td>1.000000</td>\n",
       "      <td>male, black or african american, adult</td>\n",
       "    </tr>\n",
       "    <tr>\n",
       "      <th>3</th>\n",
       "      <td>13</td>\n",
       "      <td>0.777778</td>\n",
       "      <td>0.777778</td>\n",
       "      <td>male, white, elderly</td>\n",
       "    </tr>\n",
       "    <tr>\n",
       "      <th>4</th>\n",
       "      <td>14</td>\n",
       "      <td>1.000000</td>\n",
       "      <td>1.000000</td>\n",
       "      <td>male, black or african american, elderly</td>\n",
       "    </tr>\n",
       "    <tr>\n",
       "      <th>5</th>\n",
       "      <td>21</td>\n",
       "      <td>0.000000</td>\n",
       "      <td>0.000000</td>\n",
       "      <td>female, white, young adult</td>\n",
       "    </tr>\n",
       "    <tr>\n",
       "      <th>6</th>\n",
       "      <td>22</td>\n",
       "      <td>1.000000</td>\n",
       "      <td>1.000000</td>\n",
       "      <td>female, black or african american, young adult</td>\n",
       "    </tr>\n",
       "    <tr>\n",
       "      <th>7</th>\n",
       "      <td>25</td>\n",
       "      <td>0.857143</td>\n",
       "      <td>0.857143</td>\n",
       "      <td>female, white, adult</td>\n",
       "    </tr>\n",
       "    <tr>\n",
       "      <th>8</th>\n",
       "      <td>26</td>\n",
       "      <td>0.000000</td>\n",
       "      <td>0.000000</td>\n",
       "      <td>female, black or african american, adult</td>\n",
       "    </tr>\n",
       "    <tr>\n",
       "      <th>9</th>\n",
       "      <td>29</td>\n",
       "      <td>1.000000</td>\n",
       "      <td>1.000000</td>\n",
       "      <td>female, white, elderly</td>\n",
       "    </tr>\n",
       "    <tr>\n",
       "      <th>10</th>\n",
       "      <td>30</td>\n",
       "      <td>0.000000</td>\n",
       "      <td>0.000000</td>\n",
       "      <td>female, black or african american, elderly</td>\n",
       "    </tr>\n",
       "  </tbody>\n",
       "</table>\n",
       "</div>"
      ],
      "text/plain": [
       "    demographic  sensitivity_per_demo_SMOTE  sensitivity_per_demo_norm   \n",
       "0             5                    0.000000                   0.000000  \\\n",
       "1             9                    0.928571                   0.928571   \n",
       "2            10                    1.000000                   1.000000   \n",
       "3            13                    0.777778                   0.777778   \n",
       "4            14                    1.000000                   1.000000   \n",
       "5            21                    0.000000                   0.000000   \n",
       "6            22                    1.000000                   1.000000   \n",
       "7            25                    0.857143                   0.857143   \n",
       "8            26                    0.000000                   0.000000   \n",
       "9            29                    1.000000                   1.000000   \n",
       "10           30                    0.000000                   0.000000   \n",
       "\n",
       "                                 demographic_names  \n",
       "0                         male, white, young adult  \n",
       "1                               male, white, adult  \n",
       "2           male, black or african american, adult  \n",
       "3                             male, white, elderly  \n",
       "4         male, black or african american, elderly  \n",
       "5                       female, white, young adult  \n",
       "6   female, black or african american, young adult  \n",
       "7                             female, white, adult  \n",
       "8         female, black or african american, adult  \n",
       "9                           female, white, elderly  \n",
       "10      female, black or african american, elderly  "
      ]
     },
     "execution_count": 78,
     "metadata": {},
     "output_type": "execute_result"
    }
   ],
   "source": [
    "sensitivity_per_demo"
   ]
  },
  {
   "cell_type": "code",
   "execution_count": 79,
   "id": "fef00ac3",
   "metadata": {},
   "outputs": [
    {
     "data": {
      "image/png": "[encoded data removed]",
      "text/plain": [
       "<Figure size 1000x500 with 1 Axes>"
      ]
     },
     "metadata": {},
     "output_type": "display_data"
    }
   ],
   "source": [
    "x = np.arange(len(sensitivity_per_demo['demographic']))  # Numeric positions for categories\n",
    "width = 0.4\n",
    "\n",
    "plt.figure(figsize=(10, 5))\n",
    "plt.bar(x - width/2, sensitivity_per_demo['sensitivity_per_demo_SMOTE'], width, label='SMOTE')\n",
    "plt.bar(x + width/2, sensitivity_per_demo['sensitivity_per_demo_norm'], width, label='Normal')\n",
    "\n",
    "plt.xlabel('Demographic')\n",
    "plt.ylabel('Accuracy')\n",
    "plt.title('Sensitivity per Demographic')\n",
    "plt.xticks(ticks=x, labels=sensitivity_per_demo['demographic'], rotation=45)  # Properly label x-axis\n",
    "plt.legend()\n",
    "plt.grid(axis='y', linestyle='--', alpha=0.7)  # Add a horizontal grid for better readability\n",
    "\n",
    "plt.show()"
   ]
  },
  {
   "cell_type": "markdown",
   "id": "60105a6f-b384-4b74-a9a7-34770f7b87a3",
   "metadata": {},
   "source": [
    "## ROC Curve"
   ]
  },
  {
   "cell_type": "code",
   "execution_count": 81,
   "id": "5c0949cd-2812-4f71-b72a-46801c2f8af8",
   "metadata": {},
   "outputs": [
    {
     "data": {
      "image/png": "[encoded data removed]",
      "text/plain": [
       "<Figure size 640x480 with 1 Axes>"
      ]
     },
     "metadata": {},
     "output_type": "display_data"
    }
   ],
   "source": [
    "from sklearn.metrics import roc_curve, auc\n",
    "\n",
    "# Compute ROC curve\n",
    "fpr, tpr, thresholds = roc_curve(results_df['actual'], results_df['predicted'])\n",
    "\n",
    "# Compute AUC (Area Under Curve)\n",
    "roc_auc = auc(fpr, tpr)\n",
    "\n",
    "# Plotting\n",
    "plt.figure()\n",
    "plt.plot(fpr, tpr, color='darkorange', lw=2, label=f'ROC curve (AUC = {roc_auc:.2f})')\n",
    "plt.plot([0, 1], [0, 1], color='navy', lw=2, linestyle='--')  # chance line\n",
    "plt.xlabel('False Positive Rate')\n",
    "plt.ylabel('True Positive Rate')\n",
    "plt.title('ROC Curve SVM')\n",
    "plt.legend(loc=\"lower right\")\n",
    "plt.grid(True)\n",
    "plt.show()"
   ]
  },
  {
   "cell_type": "code",
   "execution_count": 82,
   "id": "9f8eaa55-e661-48b7-b04c-70f65b568429",
   "metadata": {},
   "outputs": [
    {
     "name": "stderr",
     "output_type": "stream",
     "text": [
      "/Users/mollydonaghey/opt/anaconda3/lib/python3.9/site-packages/sklearn/metrics/_ranking.py:1133: UndefinedMetricWarning: No positive samples in y_true, true positive value should be meaningless\n",
      "  warnings.warn(\n",
      "/Users/mollydonaghey/opt/anaconda3/lib/python3.9/site-packages/sklearn/metrics/_ranking.py:1124: UndefinedMetricWarning: No negative samples in y_true, false positive value should be meaningless\n",
      "  warnings.warn(\n",
      "/Users/mollydonaghey/opt/anaconda3/lib/python3.9/site-packages/sklearn/metrics/_ranking.py:1124: UndefinedMetricWarning: No negative samples in y_true, false positive value should be meaningless\n",
      "  warnings.warn(\n",
      "/Users/mollydonaghey/opt/anaconda3/lib/python3.9/site-packages/sklearn/metrics/_ranking.py:1133: UndefinedMetricWarning: No positive samples in y_true, true positive value should be meaningless\n",
      "  warnings.warn(\n",
      "/Users/mollydonaghey/opt/anaconda3/lib/python3.9/site-packages/sklearn/metrics/_ranking.py:1124: UndefinedMetricWarning: No negative samples in y_true, false positive value should be meaningless\n",
      "  warnings.warn(\n",
      "/Users/mollydonaghey/opt/anaconda3/lib/python3.9/site-packages/sklearn/metrics/_ranking.py:1133: UndefinedMetricWarning: No positive samples in y_true, true positive value should be meaningless\n",
      "  warnings.warn(\n"
     ]
    },
    {
     "data": {
      "text/html": [
       "<div>\n",
       "<style scoped>\n",
       "    .dataframe tbody tr th:only-of-type {\n",
       "        vertical-align: middle;\n",
       "    }\n",
       "\n",
       "    .dataframe tbody tr th {\n",
       "        vertical-align: top;\n",
       "    }\n",
       "\n",
       "    .dataframe thead th {\n",
       "        text-align: right;\n",
       "    }\n",
       "</style>\n",
       "<table border=\"1\" class=\"dataframe\">\n",
       "  <thead>\n",
       "    <tr style=\"text-align: right;\">\n",
       "      <th></th>\n",
       "      <th>AUC</th>\n",
       "    </tr>\n",
       "  </thead>\n",
       "  <tbody>\n",
       "    <tr>\n",
       "      <th>5</th>\n",
       "      <td>NaN</td>\n",
       "    </tr>\n",
       "    <tr>\n",
       "      <th>9</th>\n",
       "      <td>0.750000</td>\n",
       "    </tr>\n",
       "    <tr>\n",
       "      <th>10</th>\n",
       "      <td>NaN</td>\n",
       "    </tr>\n",
       "    <tr>\n",
       "      <th>13</th>\n",
       "      <td>0.638889</td>\n",
       "    </tr>\n",
       "    <tr>\n",
       "      <th>14</th>\n",
       "      <td>NaN</td>\n",
       "    </tr>\n",
       "    <tr>\n",
       "      <th>21</th>\n",
       "      <td>0.444444</td>\n",
       "    </tr>\n",
       "    <tr>\n",
       "      <th>22</th>\n",
       "      <td>1.000000</td>\n",
       "    </tr>\n",
       "    <tr>\n",
       "      <th>25</th>\n",
       "      <td>0.837662</td>\n",
       "    </tr>\n",
       "    <tr>\n",
       "      <th>26</th>\n",
       "      <td>NaN</td>\n",
       "    </tr>\n",
       "    <tr>\n",
       "      <th>29</th>\n",
       "      <td>NaN</td>\n",
       "    </tr>\n",
       "    <tr>\n",
       "      <th>30</th>\n",
       "      <td>NaN</td>\n",
       "    </tr>\n",
       "  </tbody>\n",
       "</table>\n",
       "</div>"
      ],
      "text/plain": [
       "         AUC\n",
       "5        NaN\n",
       "9   0.750000\n",
       "10       NaN\n",
       "13  0.638889\n",
       "14       NaN\n",
       "21  0.444444\n",
       "22  1.000000\n",
       "25  0.837662\n",
       "26       NaN\n",
       "29       NaN\n",
       "30       NaN"
      ]
     },
     "execution_count": 82,
     "metadata": {},
     "output_type": "execute_result"
    }
   ],
   "source": [
    "from sklearn.metrics import roc_curve, auc\n",
    "\n",
    "# Create an empty dictionary to hold the AUC for each demographic\n",
    "auc_per_demo = {}\n",
    "\n",
    "# Group by demographic and compute AUC for each group\n",
    "for demo, group in results_df.groupby('demographic'):\n",
    "    fpr, tpr, _ = roc_curve(group['actual'], group['predicted'])\n",
    "    auc_score = auc(fpr, tpr)\n",
    "    auc_per_demo[demo] = auc_score\n",
    "\n",
    "# Optional: convert to a DataFrame\n",
    "auc_per_demo_df = pd.DataFrame.from_dict(auc_per_demo, orient='index', columns=['AUC'])\n",
    "\n",
    "auc_per_demo_df"
   ]
  },
  {
   "cell_type": "code",
   "execution_count": 83,
   "id": "0d2c1901-3e37-4fe6-8590-636b8bb50114",
   "metadata": {},
   "outputs": [
    {
     "data": {
      "image/png": "[encoded data removed]",
      "text/plain": [
       "<Figure size 640x480 with 1 Axes>"
      ]
     },
     "metadata": {},
     "output_type": "display_data"
    }
   ],
   "source": [
    "# Compute ROC curve\n",
    "fpr, tpr, thresholds = roc_curve(results_SMOTE_df['actual'], results_SMOTE_df['predicted'])\n",
    "\n",
    "# Compute AUC (Area Under Curve)\n",
    "roc_auc = auc(fpr, tpr)\n",
    "\n",
    "# Plotting\n",
    "plt.figure()\n",
    "plt.plot(fpr, tpr, color='darkorange', lw=2, label=f'ROC curve (AUC = {roc_auc:.2f})')\n",
    "plt.plot([0, 1], [0, 1], color='navy', lw=2, linestyle='--')  # chance line\n",
    "plt.xlabel('False Positive Rate')\n",
    "plt.ylabel('True Positive Rate')\n",
    "plt.title('ROC Curve SMOTE and SVM')\n",
    "plt.legend(loc=\"lower right\")\n",
    "plt.grid(True)\n",
    "plt.show()"
   ]
  },
  {
   "cell_type": "code",
   "execution_count": 84,
   "id": "afb30eed-aa3a-46dd-b2e7-0d762793b3b4",
   "metadata": {},
   "outputs": [
    {
     "name": "stderr",
     "output_type": "stream",
     "text": [
      "/Users/mollydonaghey/opt/anaconda3/lib/python3.9/site-packages/sklearn/metrics/_ranking.py:1133: UndefinedMetricWarning: No positive samples in y_true, true positive value should be meaningless\n",
      "  warnings.warn(\n",
      "/Users/mollydonaghey/opt/anaconda3/lib/python3.9/site-packages/sklearn/metrics/_ranking.py:1124: UndefinedMetricWarning: No negative samples in y_true, false positive value should be meaningless\n",
      "  warnings.warn(\n",
      "/Users/mollydonaghey/opt/anaconda3/lib/python3.9/site-packages/sklearn/metrics/_ranking.py:1124: UndefinedMetricWarning: No negative samples in y_true, false positive value should be meaningless\n",
      "  warnings.warn(\n",
      "/Users/mollydonaghey/opt/anaconda3/lib/python3.9/site-packages/sklearn/metrics/_ranking.py:1133: UndefinedMetricWarning: No positive samples in y_true, true positive value should be meaningless\n",
      "  warnings.warn(\n",
      "/Users/mollydonaghey/opt/anaconda3/lib/python3.9/site-packages/sklearn/metrics/_ranking.py:1124: UndefinedMetricWarning: No negative samples in y_true, false positive value should be meaningless\n",
      "  warnings.warn(\n",
      "/Users/mollydonaghey/opt/anaconda3/lib/python3.9/site-packages/sklearn/metrics/_ranking.py:1133: UndefinedMetricWarning: No positive samples in y_true, true positive value should be meaningless\n",
      "  warnings.warn(\n"
     ]
    },
    {
     "data": {
      "text/html": [
       "<div>\n",
       "<style scoped>\n",
       "    .dataframe tbody tr th:only-of-type {\n",
       "        vertical-align: middle;\n",
       "    }\n",
       "\n",
       "    .dataframe tbody tr th {\n",
       "        vertical-align: top;\n",
       "    }\n",
       "\n",
       "    .dataframe thead th {\n",
       "        text-align: right;\n",
       "    }\n",
       "</style>\n",
       "<table border=\"1\" class=\"dataframe\">\n",
       "  <thead>\n",
       "    <tr style=\"text-align: right;\">\n",
       "      <th></th>\n",
       "      <th>AUC</th>\n",
       "    </tr>\n",
       "  </thead>\n",
       "  <tbody>\n",
       "    <tr>\n",
       "      <th>5</th>\n",
       "      <td>NaN</td>\n",
       "    </tr>\n",
       "    <tr>\n",
       "      <th>9</th>\n",
       "      <td>0.750000</td>\n",
       "    </tr>\n",
       "    <tr>\n",
       "      <th>10</th>\n",
       "      <td>NaN</td>\n",
       "    </tr>\n",
       "    <tr>\n",
       "      <th>13</th>\n",
       "      <td>0.638889</td>\n",
       "    </tr>\n",
       "    <tr>\n",
       "      <th>14</th>\n",
       "      <td>NaN</td>\n",
       "    </tr>\n",
       "    <tr>\n",
       "      <th>21</th>\n",
       "      <td>0.444444</td>\n",
       "    </tr>\n",
       "    <tr>\n",
       "      <th>22</th>\n",
       "      <td>1.000000</td>\n",
       "    </tr>\n",
       "    <tr>\n",
       "      <th>25</th>\n",
       "      <td>0.837662</td>\n",
       "    </tr>\n",
       "    <tr>\n",
       "      <th>26</th>\n",
       "      <td>NaN</td>\n",
       "    </tr>\n",
       "    <tr>\n",
       "      <th>29</th>\n",
       "      <td>NaN</td>\n",
       "    </tr>\n",
       "    <tr>\n",
       "      <th>30</th>\n",
       "      <td>NaN</td>\n",
       "    </tr>\n",
       "  </tbody>\n",
       "</table>\n",
       "</div>"
      ],
      "text/plain": [
       "         AUC\n",
       "5        NaN\n",
       "9   0.750000\n",
       "10       NaN\n",
       "13  0.638889\n",
       "14       NaN\n",
       "21  0.444444\n",
       "22  1.000000\n",
       "25  0.837662\n",
       "26       NaN\n",
       "29       NaN\n",
       "30       NaN"
      ]
     },
     "execution_count": 84,
     "metadata": {},
     "output_type": "execute_result"
    }
   ],
   "source": [
    "from sklearn.metrics import roc_curve, auc\n",
    "\n",
    "# Create an empty dictionary to hold the AUC for each demographic\n",
    "auc_per_demo_SMOTE = {}\n",
    "\n",
    "# Group by demographic and compute AUC for each group\n",
    "for demo, group in results_SMOTE_df.groupby('demographic'):\n",
    "    fpr, tpr, _ = roc_curve(group['actual'], group['predicted'])\n",
    "    auc_score = auc(fpr, tpr)\n",
    "    auc_per_demo_SMOTE[demo] = auc_score\n",
    "\n",
    "# Optional: convert to a DataFrame\n",
    "auc_per_demo_SMOTE_df = pd.DataFrame.from_dict(auc_per_demo_SMOTE, orient='index', columns=['AUC'])\n",
    "\n",
    "auc_per_demo_SMOTE_df"
   ]
  },
  {
   "cell_type": "code",
   "execution_count": null,
   "id": "e701cd21-52ef-4257-b939-b9e09b4fcb5d",
   "metadata": {},
   "outputs": [],
   "source": []
  },
  {
   "cell_type": "code",
   "execution_count": null,
   "id": "8ff77b55-4931-4c69-9fcf-f1a57327ebb8",
   "metadata": {},
   "outputs": [],
   "source": []
  }
 ],
 "metadata": {
  "kernelspec": {
   "display_name": "Python [conda env:anaconda3]",
   "language": "python",
   "name": "conda-env-anaconda3-py"
  },
  "language_info": {
   "codemirror_mode": {
    "name": "ipython",
    "version": 3
   },
   "file_extension": ".py",
   "mimetype": "text/x-python",
   "name": "python",
   "nbconvert_exporter": "python",
   "pygments_lexer": "ipython3",
   "version": "3.9.13"
  }
 },
 "nbformat": 4,
 "nbformat_minor": 5
}
