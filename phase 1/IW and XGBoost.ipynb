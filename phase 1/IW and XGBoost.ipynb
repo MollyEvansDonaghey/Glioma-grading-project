{
 "cells": [
  {
   "cell_type": "code",
   "execution_count": 1,
   "id": "453c82ff-3ac3-4307-9dc3-3352199b502b",
   "metadata": {},
   "outputs": [],
   "source": [
    "from imblearn.over_sampling import SMOTE\n",
    "from sklearn.svm import SVC\n",
    "from sklearn.metrics import confusion_matrix, accuracy_score\n",
    "from sklearn.model_selection import train_test_split\n",
    "from sklearn.model_selection import GridSearchCV\n",
    "from imblearn.over_sampling import ADASYN\n",
    "import pandas as pd\n",
    "from sklearn.preprocessing import LabelEncoder\n",
    "import matplotlib.pyplot as plt\n",
    "import numpy as np\n",
    "import seaborn as sns\n",
    "from sklearn.inspection import permutation_importance\n",
    "from sklearn.metrics import recall_score"
   ]
  },
  {
   "cell_type": "code",
   "execution_count": 2,
   "id": "0c7aeb5b-92ab-4110-816f-03b2b8a7f2c1",
   "metadata": {},
   "outputs": [],
   "source": [
    "from ucimlrepo import fetch_ucirepo \n",
    "  \n",
    "# fetch dataset \n",
    "glioma_grading_clinical_and_mutation_features = fetch_ucirepo(id=759) \n",
    "  \n",
    "# data (as pandas dataframes) \n",
    "X = glioma_grading_clinical_and_mutation_features.data.features \n",
    "y = glioma_grading_clinical_and_mutation_features.data.targets "
   ]
  },
  {
   "cell_type": "code",
   "execution_count": 3,
   "id": "255cf3de-6f47-403f-97cf-5bb651a85447",
   "metadata": {},
   "outputs": [
    {
     "name": "stderr",
     "output_type": "stream",
     "text": [
      "/var/folders/hf/3rv_98fd6y5b8tx745n5n1s00000gn/T/ipykernel_24310/2568762353.py:11: SettingWithCopyWarning: \n",
      "A value is trying to be set on a copy of a slice from a DataFrame.\n",
      "Try using .loc[row_indexer,col_indexer] = value instead\n",
      "\n",
      "See the caveats in the documentation: https://pandas.pydata.org/pandas-docs/stable/user_guide/indexing.html#returning-a-view-versus-a-copy\n",
      "  X['Age_class_at_diagnosis'] = X['Age_at_diagnosis'].apply(categorise_age)\n"
     ]
    }
   ],
   "source": [
    "def categorise_age(age):\n",
    "    if age <= 19:\n",
    "        return \"Paediatric\"\n",
    "    elif 20 <= age <= 39:\n",
    "        return \"Young Adult\"\n",
    "    elif 40 <= age <= 64:\n",
    "        return \"Adult\"\n",
    "    else:\n",
    "        return \"Elderly\"\n",
    "\n",
    "X['Age_class_at_diagnosis'] = X['Age_at_diagnosis'].apply(categorise_age)"
   ]
  },
  {
   "cell_type": "code",
   "execution_count": 4,
   "id": "8ae596dc-818c-4bb8-87cf-4fde83effca1",
   "metadata": {},
   "outputs": [
    {
     "name": "stderr",
     "output_type": "stream",
     "text": [
      "/var/folders/hf/3rv_98fd6y5b8tx745n5n1s00000gn/T/ipykernel_24310/1515168427.py:3: SettingWithCopyWarning: \n",
      "A value is trying to be set on a copy of a slice from a DataFrame.\n",
      "Try using .loc[row_indexer,col_indexer] = value instead\n",
      "\n",
      "See the caveats in the documentation: https://pandas.pydata.org/pandas-docs/stable/user_guide/indexing.html#returning-a-view-versus-a-copy\n",
      "  X['Gender'] = X['Gender'].map(gender_mapping)\n"
     ]
    }
   ],
   "source": [
    "gender_mapping = {0 : 'Male', 1 : 'Female'}\n",
    "\n",
    "X['Gender'] = X['Gender'].map(gender_mapping)"
   ]
  },
  {
   "cell_type": "code",
   "execution_count": 5,
   "id": "f4b67240-a1a2-4335-9f8c-4e51bf782087",
   "metadata": {},
   "outputs": [],
   "source": [
    "X['demographic'] = X['Gender'] + ', ' + X['Race'] + ', ' + X['Age_class_at_diagnosis']\n",
    "X.drop(columns = [\"Age_class_at_diagnosis\", \"Gender\", \"Race\", \"Age_at_diagnosis\"], inplace = True)"
   ]
  },
  {
   "cell_type": "code",
   "execution_count": 6,
   "id": "7f779019-1cf9-4e2b-bf51-ab6b6d1ec333",
   "metadata": {},
   "outputs": [],
   "source": [
    "demo_mapping = {\n",
    " 'male, white, paediatric': 1,\n",
    " 'male, black or african american, paediatric': 2,\n",
    " 'male, asian, paediatric': 3,\n",
    " 'male, american indian or alaska native, paediatric': 4,\n",
    " 'male, white, young adult': 5,\n",
    " 'male, black or african american, young adult': 6,\n",
    " 'male, asian, young adult': 7,\n",
    " 'male, american indian or alaska native, young adult': 8,\n",
    " 'male, white, adult': 9,\n",
    " 'male, black or african american, adult': 10,\n",
    " 'male, asian, adult': 11,\n",
    " 'male, american indian or alaska native, adult': 12,\n",
    " 'male, white, elderly': 13,\n",
    " 'male, black or african american, elderly': 14,\n",
    " 'male, asian, elderly': 15,\n",
    " 'male, american indian or alaska native, elderly': 16,\n",
    " 'female, white, paediatric': 17,\n",
    " 'female, black or african american, paediatric': 18,\n",
    " 'female, asian, paediatric': 19,\n",
    " 'female, american indian or alaska native, paediatric': 20,\n",
    " 'female, white, young adult': 21,\n",
    " 'female, black or african american, young adult': 22,\n",
    " 'female, asian, young adult': 23,\n",
    " 'female, american indian or alaska native, young adult': 24,\n",
    " 'female, white, adult': 25,\n",
    " 'female, black or african american, adult': 26,\n",
    " 'female, asian, adult': 27,\n",
    " 'female, american indian or alaska native, adult': 28,\n",
    " 'female, white, elderly': 29,\n",
    " 'female, black or african american, elderly': 30,\n",
    " 'female, asian, elderly': 31,\n",
    " 'female, american indian or alaska native, elderly': 32\n",
    "}\n",
    "\n",
    "\n",
    "\n",
    "X['demographic'] = X['demographic'].str.lower().map(demo_mapping)"
   ]
  },
  {
   "cell_type": "markdown",
   "id": "8eb7a026-1b2a-4294-8cf3-e11be3254857",
   "metadata": {},
   "source": [
    "## IW"
   ]
  },
  {
   "cell_type": "code",
   "execution_count": 8,
   "id": "3d9e594a-8647-4ac5-97a0-f7bce9de02a4",
   "metadata": {},
   "outputs": [],
   "source": [
    "## Extract demographic column\n",
    "demographic = X['demographic']"
   ]
  },
  {
   "cell_type": "code",
   "execution_count": 9,
   "id": "ad0118af-ff25-4f5f-8977-dd753502321d",
   "metadata": {},
   "outputs": [],
   "source": [
    "# Extract features (excluding demographic and Grading)\n",
    "mutations_grading = X.drop(columns=['demographic'])"
   ]
  },
  {
   "cell_type": "code",
   "execution_count": 10,
   "id": "addc1283-35f6-4229-9b19-cd8a0c9f273e",
   "metadata": {},
   "outputs": [],
   "source": [
    "def assign_inverse_frequency_weights(df, group_col):\n",
    "    \"\"\"\n",
    "    Assigns weights to each row in the dataframe inversely proportional\n",
    "    to the frequency of its group in `group_col`.\n",
    "\n",
    "    Parameters:\n",
    "        df (pd.DataFrame): Input DataFrame.\n",
    "        group_col (str): Column name representing demographic groups.\n",
    "\n",
    "    Returns:\n",
    "        pd.DataFrame: Original DataFrame with new 'weight' column added.\n",
    "    \"\"\"\n",
    "    group_counts = df[group_col].value_counts()\n",
    "    weights = df[group_col].map(lambda x: 1 / group_counts[x])\n",
    "    weights = weights / weights.sum()  # Normalize weights to sum to 1 (optional)\n",
    "    df = df.copy()\n",
    "    df['weight'] = weights\n",
    "    return df"
   ]
  },
  {
   "cell_type": "code",
   "execution_count": 11,
   "id": "5cc51233-4970-4c83-bfd8-223e40fbf1b2",
   "metadata": {},
   "outputs": [],
   "source": [
    "# Apply weighting\n",
    "df_weighted = assign_inverse_frequency_weights(X, 'demographic')"
   ]
  },
  {
   "cell_type": "code",
   "execution_count": 12,
   "id": "57a0b4ba-a369-4515-9e22-863776e92198",
   "metadata": {},
   "outputs": [],
   "source": [
    "# Replace with your actual feature columns\n",
    "X = df_weighted.drop(columns = ['weight'])\n",
    "weights = df_weighted['weight']\n",
    "\n",
    "# Train/test split\n",
    "X_train, X_test, y_train, y_test, w_train, w_test = train_test_split(\n",
    "    X, y, weights, test_size=0.1, random_state=1, stratify=y\n",
    ")\n",
    "\n",
    "X_train, X_val, y_train, y_val, w_train, w_val = train_test_split(\n",
    "    X_train, y_train, w_train, test_size=0.25, random_state=1, stratify=y_train\n",
    ")"
   ]
  },
  {
   "cell_type": "markdown",
   "id": "e1895ab1-72ea-4c13-975b-b110a7e40ae6",
   "metadata": {},
   "source": [
    "## Feature selection"
   ]
  },
  {
   "cell_type": "code",
   "execution_count": 14,
   "id": "2fdc5c94-9aea-4e12-baaa-8eb023a9fe48",
   "metadata": {},
   "outputs": [],
   "source": [
    "from sklearn.feature_selection import mutual_info_classif\n",
    "from sklearn.linear_model import LassoCV\n",
    "from sklearn.preprocessing import StandardScaler\n",
    "\n",
    "def mrmr_feature_selection(X, y, n_features, random_state=1):\n",
    "    \"\"\"Performs mRMR feature selection (unweighted MI).\"\"\"\n",
    "    np.random.seed(random_state)\n",
    "    y = y.ravel()\n",
    "\n",
    "    # Note: mutual_info_classif does not support sample weights directly\n",
    "    mi = mutual_info_classif(X, y, random_state=random_state)\n",
    "    selected = []\n",
    "    remaining = list(range(X.shape[1]))\n",
    "\n",
    "    # first pick\n",
    "    first = np.argmax(mi)\n",
    "    selected.append(first)\n",
    "    remaining.remove(first)\n",
    "\n",
    "    # iterative pick\n",
    "    for _ in range(min(n_features - 1, len(remaining))):\n",
    "        relevance = mi[remaining]\n",
    "        # compute average redundancy\n",
    "        red_vals = []\n",
    "        for s in selected:\n",
    "            for f in remaining:\n",
    "                xf = X.iloc[:, f] if isinstance(X, pd.DataFrame) else X[:, f]\n",
    "                xs = X.iloc[:, s] if isinstance(X, pd.DataFrame) else X[:, s]\n",
    "                corr = np.corrcoef(xf, xs)[0,1]\n",
    "                red_vals.append(corr)\n",
    "        redundancy = np.nanmean(red_vals) if red_vals else 0\n",
    "        scores = relevance - redundancy\n",
    "        if len(scores) == 0:\n",
    "            break\n",
    "        nxt = remaining[np.argmax(scores)]\n",
    "        selected.append(nxt)\n",
    "        remaining.remove(nxt)\n",
    "\n",
    "    return selected\n",
    "\n",
    "\n",
    "def embedded_lasso_selection(X, y, sample_weight=None, random_state=1):\n",
    "    \"\"\"Performs feature selection using weighted LASSO regression.\"\"\"\n",
    "    np.random.seed(random_state)\n",
    "    y = y.ravel()\n",
    "\n",
    "    scaler = StandardScaler()\n",
    "    Xs = scaler.fit_transform(X)\n",
    "\n",
    "    lasso = LassoCV(cv=5, max_iter=10000, random_state=random_state)\n",
    "    # Pass sample_weight to respect IPW in both CV and penalty\n",
    "    lasso.fit(Xs, y, sample_weight=sample_weight)\n",
    "\n",
    "    return np.where(lasso.coef_ != 0)[0]\n",
    "\n",
    "\n",
    "def mrmr_lasso_pipeline(X, y, ipw_weights=None, desired_n_features=13, buffer_mrmr=30, random_state=1):\n",
    "    \"\"\"\n",
    "    Combines unweighted mRMR MI and weighted LASSO to select features.\n",
    "    - ipw_weights: array-like of sample weights (inverse-probabilities)\n",
    "    - desired_n_features: final number of features\n",
    "    - buffer_mrmr: number of top mRMR features to feed into LASSO\n",
    "    \"\"\"\n",
    "    np.random.seed(random_state)\n",
    "    # flatten y\n",
    "    y_arr = y.values.ravel() if hasattr(y, 'values') else y.ravel()\n",
    "\n",
    "    # Step 1: mRMR (unweighted)\n",
    "    top_mrmr = mrmr_feature_selection(X, y_arr, buffer_mrmr, random_state=random_state)\n",
    "    X_mrmr = X.iloc[:, top_mrmr] if hasattr(X, 'iloc') else X[:, top_mrmr]\n",
    "\n",
    "    # Step 2: weighted LASSO\n",
    "    lasso_idx = embedded_lasso_selection(X_mrmr, y_arr, sample_weight=ipw_weights, random_state=random_state)\n",
    "    final = [top_mrmr[i] for i in lasso_idx]\n",
    "\n",
    "    # Step 3: ensure exact number of features\n",
    "    if len(final) < desired_n_features:\n",
    "        for feat in top_mrmr:\n",
    "            if feat not in final:\n",
    "                final.append(feat)\n",
    "            if len(final) == desired_n_features:\n",
    "                break\n",
    "    else:\n",
    "        final = final[:desired_n_features]\n",
    "\n",
    "    return final\n"
   ]
  },
  {
   "cell_type": "code",
   "execution_count": 15,
   "id": "785ac87f-c27a-42b2-bd14-57b307fcf523",
   "metadata": {},
   "outputs": [
    {
     "name": "stdout",
     "output_type": "stream",
     "text": [
      "Selected Feature Indices: [0, 20, 3, 4, 2, 12, 13, 19, 1, 17, 6, 9, 5]\n"
     ]
    }
   ],
   "source": [
    "final_selected_features = mrmr_lasso_pipeline(X_train, y_train, ipw_weights = w_train, random_state = 1)\n",
    "\n",
    "print(\"Selected Feature Indices:\", final_selected_features)"
   ]
  },
  {
   "cell_type": "code",
   "execution_count": 16,
   "id": "2c3d27f3-037d-45ea-b935-7d719a54bb54",
   "metadata": {},
   "outputs": [],
   "source": [
    "X_train = X_train.iloc[:, [0, 20, 3, 4, 2, 12, 13, 19, 1, 17, 6, 9, 5]]"
   ]
  },
  {
   "cell_type": "code",
   "execution_count": 17,
   "id": "f916e6a8-cfd1-464f-884e-dbeaca2bfa5f",
   "metadata": {},
   "outputs": [
    {
     "name": "stdout",
     "output_type": "stream",
     "text": [
      "Fitting 3 folds for each of 432 candidates, totalling 1296 fits\n",
      "Best Parameters: {'colsample_bytree': 0.6, 'learning_rate': 0.01, 'max_depth': 5, 'n_estimators': 200, 'subsample': 0.6}\n",
      "Best Score: 0.8298542967588461\n"
     ]
    }
   ],
   "source": [
    "import xgboost as xgb\n",
    "model = xgb.XGBClassifier(eval_metric='error')\n",
    "\n",
    "# Define the parameter grid\n",
    "param_grid = {\n",
    "    'n_estimators': [20, 50, 100, 200],\n",
    "    'max_depth': [2, 3, 5, 7],\n",
    "    'learning_rate': [0.01, 0.1, 0.2],\n",
    "    'subsample': [0.6, 0.8, 1.0],\n",
    "    'colsample_bytree': [0.6, 0.8, 1.0]\n",
    "}\n",
    "\n",
    "# Set up GridSearchCV\n",
    "grid_search = GridSearchCV(\n",
    "    estimator=model,\n",
    "    param_grid=param_grid,\n",
    "    cv=3,\n",
    "    scoring='f1',\n",
    "    verbose=1,\n",
    "    n_jobs=-1\n",
    ")\n",
    "\n",
    "# Fit the model\n",
    "grid_search.fit(X_val, y_val)\n",
    "\n",
    "# Output best params and score\n",
    "print(\"Best Parameters:\", grid_search.best_params_)\n",
    "print(\"Best Score:\", grid_search.best_score_)"
   ]
  },
  {
   "cell_type": "code",
   "execution_count": 18,
   "id": "97762585-2e4e-46ed-947b-6d28c999be82",
   "metadata": {},
   "outputs": [
    {
     "name": "stdout",
     "output_type": "stream",
     "text": [
      "Accuracy: 0.90\n",
      "Sensitivity: 0.97\n"
     ]
    }
   ],
   "source": [
    "model = xgb.XGBClassifier(eval_metric='error', colsample_bytree = 0.6, learning_rate = 0.01, max_depth = 5, n_estimators = 200, subsample = 0.6)\n",
    "model.fit(X_train, y_train)\n",
    "\n",
    "# Make predictions\n",
    "X_test = X_test.iloc[:, [0, 20, 3, 4, 2, 12, 13, 19, 1, 17, 6, 9, 5]]\n",
    "prediction = model.predict(X_test)\n",
    "\n",
    "# Evaluate accuracy\n",
    "accuracy = accuracy_score(y_test, prediction)\n",
    "print(f\"Accuracy: {accuracy:.2f}\")\n",
    "\n",
    "sensitivity = recall_score(y_test, prediction)\n",
    "print(f\"Sensitivity: {sensitivity:.2f}\")"
   ]
  },
  {
   "cell_type": "code",
   "execution_count": 19,
   "id": "af2fc12e-ce23-421a-822f-fd258b75c4e9",
   "metadata": {},
   "outputs": [
    {
     "name": "stderr",
     "output_type": "stream",
     "text": [
      "/Users/mollydonaghey/opt/anaconda3/lib/python3.9/site-packages/sklearn/metrics/_classification.py:1471: UndefinedMetricWarning: Recall is ill-defined and being set to 0.0 due to no true samples. Use `zero_division` parameter to control this behavior.\n",
      "  _warn_prf(average, modifier, msg_start, len(result))\n"
     ]
    }
   ],
   "source": [
    "y_test = y_test.values\n",
    "\n",
    "results_df = pd.DataFrame({\n",
    "    'demographic': X_test['demographic'].values,\n",
    "    'actual': y_test.ravel(),\n",
    "    'predicted': prediction.ravel()\n",
    "})\n",
    "\n",
    "\n",
    "# Compute accuracy per demographic\n",
    "accuracy_per_demo = results_df.groupby('demographic').apply(\n",
    "    lambda x: accuracy_score(x['actual'], x['predicted'])\n",
    ").reset_index()\n",
    "\n",
    "sensitivity_per_demo = results_df.groupby('demographic').apply(\n",
    "    lambda x: recall_score(x['actual'], x['predicted'])\n",
    ").reset_index()"
   ]
  },
  {
   "cell_type": "code",
   "execution_count": 20,
   "id": "1b6a1e47-3741-4db1-a69e-747cbb690682",
   "metadata": {},
   "outputs": [
    {
     "data": {
      "text/html": [
       "<div>\n",
       "<style scoped>\n",
       "    .dataframe tbody tr th:only-of-type {\n",
       "        vertical-align: middle;\n",
       "    }\n",
       "\n",
       "    .dataframe tbody tr th {\n",
       "        vertical-align: top;\n",
       "    }\n",
       "\n",
       "    .dataframe thead th {\n",
       "        text-align: right;\n",
       "    }\n",
       "</style>\n",
       "<table border=\"1\" class=\"dataframe\">\n",
       "  <thead>\n",
       "    <tr style=\"text-align: right;\">\n",
       "      <th></th>\n",
       "      <th>Demographic</th>\n",
       "      <th>Accuracy</th>\n",
       "    </tr>\n",
       "  </thead>\n",
       "  <tbody>\n",
       "    <tr>\n",
       "      <th>0</th>\n",
       "      <td>1</td>\n",
       "      <td>1.000000</td>\n",
       "    </tr>\n",
       "    <tr>\n",
       "      <th>1</th>\n",
       "      <td>5</td>\n",
       "      <td>1.000000</td>\n",
       "    </tr>\n",
       "    <tr>\n",
       "      <th>2</th>\n",
       "      <td>9</td>\n",
       "      <td>0.875000</td>\n",
       "    </tr>\n",
       "    <tr>\n",
       "      <th>3</th>\n",
       "      <td>10</td>\n",
       "      <td>1.000000</td>\n",
       "    </tr>\n",
       "    <tr>\n",
       "      <th>4</th>\n",
       "      <td>13</td>\n",
       "      <td>0.900000</td>\n",
       "    </tr>\n",
       "    <tr>\n",
       "      <th>5</th>\n",
       "      <td>14</td>\n",
       "      <td>1.000000</td>\n",
       "    </tr>\n",
       "    <tr>\n",
       "      <th>6</th>\n",
       "      <td>21</td>\n",
       "      <td>0.818182</td>\n",
       "    </tr>\n",
       "    <tr>\n",
       "      <th>7</th>\n",
       "      <td>25</td>\n",
       "      <td>0.769231</td>\n",
       "    </tr>\n",
       "    <tr>\n",
       "      <th>8</th>\n",
       "      <td>29</td>\n",
       "      <td>1.000000</td>\n",
       "    </tr>\n",
       "    <tr>\n",
       "      <th>9</th>\n",
       "      <td>30</td>\n",
       "      <td>1.000000</td>\n",
       "    </tr>\n",
       "  </tbody>\n",
       "</table>\n",
       "</div>"
      ],
      "text/plain": [
       "   Demographic  Accuracy\n",
       "0            1  1.000000\n",
       "1            5  1.000000\n",
       "2            9  0.875000\n",
       "3           10  1.000000\n",
       "4           13  0.900000\n",
       "5           14  1.000000\n",
       "6           21  0.818182\n",
       "7           25  0.769231\n",
       "8           29  1.000000\n",
       "9           30  1.000000"
      ]
     },
     "execution_count": 20,
     "metadata": {},
     "output_type": "execute_result"
    }
   ],
   "source": [
    "accuracy_per_demo.columns = ['Demographic', 'Accuracy']\n",
    "accuracy_per_demo"
   ]
  },
  {
   "cell_type": "code",
   "execution_count": 22,
   "id": "26114fb0-d75e-4cbd-b8c2-3cdbdea885f4",
   "metadata": {},
   "outputs": [
    {
     "data": {
      "text/html": [
       "<div>\n",
       "<style scoped>\n",
       "    .dataframe tbody tr th:only-of-type {\n",
       "        vertical-align: middle;\n",
       "    }\n",
       "\n",
       "    .dataframe tbody tr th {\n",
       "        vertical-align: top;\n",
       "    }\n",
       "\n",
       "    .dataframe thead th {\n",
       "        text-align: right;\n",
       "    }\n",
       "</style>\n",
       "<table border=\"1\" class=\"dataframe\">\n",
       "  <thead>\n",
       "    <tr style=\"text-align: right;\">\n",
       "      <th></th>\n",
       "      <th>Demographic</th>\n",
       "      <th>Sensitivity</th>\n",
       "    </tr>\n",
       "  </thead>\n",
       "  <tbody>\n",
       "    <tr>\n",
       "      <th>0</th>\n",
       "      <td>1</td>\n",
       "      <td>0.0</td>\n",
       "    </tr>\n",
       "    <tr>\n",
       "      <th>1</th>\n",
       "      <td>5</td>\n",
       "      <td>1.0</td>\n",
       "    </tr>\n",
       "    <tr>\n",
       "      <th>2</th>\n",
       "      <td>9</td>\n",
       "      <td>1.0</td>\n",
       "    </tr>\n",
       "    <tr>\n",
       "      <th>3</th>\n",
       "      <td>10</td>\n",
       "      <td>1.0</td>\n",
       "    </tr>\n",
       "    <tr>\n",
       "      <th>4</th>\n",
       "      <td>13</td>\n",
       "      <td>1.0</td>\n",
       "    </tr>\n",
       "    <tr>\n",
       "      <th>5</th>\n",
       "      <td>14</td>\n",
       "      <td>1.0</td>\n",
       "    </tr>\n",
       "    <tr>\n",
       "      <th>6</th>\n",
       "      <td>21</td>\n",
       "      <td>0.0</td>\n",
       "    </tr>\n",
       "    <tr>\n",
       "      <th>7</th>\n",
       "      <td>25</td>\n",
       "      <td>1.0</td>\n",
       "    </tr>\n",
       "    <tr>\n",
       "      <th>8</th>\n",
       "      <td>29</td>\n",
       "      <td>1.0</td>\n",
       "    </tr>\n",
       "    <tr>\n",
       "      <th>9</th>\n",
       "      <td>30</td>\n",
       "      <td>1.0</td>\n",
       "    </tr>\n",
       "  </tbody>\n",
       "</table>\n",
       "</div>"
      ],
      "text/plain": [
       "   Demographic  Sensitivity\n",
       "0            1          0.0\n",
       "1            5          1.0\n",
       "2            9          1.0\n",
       "3           10          1.0\n",
       "4           13          1.0\n",
       "5           14          1.0\n",
       "6           21          0.0\n",
       "7           25          1.0\n",
       "8           29          1.0\n",
       "9           30          1.0"
      ]
     },
     "execution_count": 22,
     "metadata": {},
     "output_type": "execute_result"
    }
   ],
   "source": [
    "sensitivity_per_demo.columns = ['Demographic', 'Sensitivity']\n",
    "sensitivity_per_demo"
   ]
  },
  {
   "cell_type": "markdown",
   "id": "1eff8f8c-feb1-4ffb-ad6a-3d84cf65c3b8",
   "metadata": {},
   "source": [
    "## ROC Curve"
   ]
  },
  {
   "cell_type": "code",
   "execution_count": 24,
   "id": "2fcb21b7-87f4-41d5-af6f-1173587bca2d",
   "metadata": {},
   "outputs": [
    {
     "data": {
      "image/png": "[encoded data removed]",
      "text/plain": [
       "<Figure size 640x480 with 1 Axes>"
      ]
     },
     "metadata": {},
     "output_type": "display_data"
    }
   ],
   "source": [
    "from sklearn.metrics import roc_curve, auc\n",
    "\n",
    "# Compute ROC curve\n",
    "fpr, tpr, thresholds = roc_curve(results_df['actual'], results_df['predicted'])\n",
    "\n",
    "# Compute AUC (Area Under Curve)\n",
    "roc_auc = auc(fpr, tpr)\n",
    "\n",
    "# Plotting\n",
    "plt.figure()\n",
    "plt.plot(fpr, tpr, color='darkorange', lw=2, label=f'ROC curve (AUC = {roc_auc:.2f})')\n",
    "plt.plot([0, 1], [0, 1], color='navy', lw=2, linestyle='--')  # chance line\n",
    "plt.xlabel('False Positive Rate')\n",
    "plt.ylabel('True Positive Rate')\n",
    "plt.title('ROC Curve IW and XGBoost')\n",
    "plt.legend(loc=\"lower right\")\n",
    "plt.grid(True)\n",
    "plt.show()"
   ]
  },
  {
   "cell_type": "code",
   "execution_count": 35,
   "id": "3a8351a2-a783-439d-9004-baad8937670e",
   "metadata": {},
   "outputs": [
    {
     "name": "stderr",
     "output_type": "stream",
     "text": [
      "/Users/mollydonaghey/opt/anaconda3/lib/python3.9/site-packages/sklearn/metrics/_ranking.py:1133: UndefinedMetricWarning: No positive samples in y_true, true positive value should be meaningless\n",
      "  warnings.warn(\n",
      "/Users/mollydonaghey/opt/anaconda3/lib/python3.9/site-packages/sklearn/metrics/_ranking.py:1124: UndefinedMetricWarning: No negative samples in y_true, false positive value should be meaningless\n",
      "  warnings.warn(\n",
      "/Users/mollydonaghey/opt/anaconda3/lib/python3.9/site-packages/sklearn/metrics/_ranking.py:1124: UndefinedMetricWarning: No negative samples in y_true, false positive value should be meaningless\n",
      "  warnings.warn(\n"
     ]
    },
    {
     "data": {
      "text/html": [
       "<div>\n",
       "<style scoped>\n",
       "    .dataframe tbody tr th:only-of-type {\n",
       "        vertical-align: middle;\n",
       "    }\n",
       "\n",
       "    .dataframe tbody tr th {\n",
       "        vertical-align: top;\n",
       "    }\n",
       "\n",
       "    .dataframe thead th {\n",
       "        text-align: right;\n",
       "    }\n",
       "</style>\n",
       "<table border=\"1\" class=\"dataframe\">\n",
       "  <thead>\n",
       "    <tr style=\"text-align: right;\">\n",
       "      <th></th>\n",
       "      <th>AUC</th>\n",
       "    </tr>\n",
       "  </thead>\n",
       "  <tbody>\n",
       "    <tr>\n",
       "      <th>1</th>\n",
       "      <td>NaN</td>\n",
       "    </tr>\n",
       "    <tr>\n",
       "      <th>5</th>\n",
       "      <td>1.000000</td>\n",
       "    </tr>\n",
       "    <tr>\n",
       "      <th>9</th>\n",
       "      <td>0.833333</td>\n",
       "    </tr>\n",
       "    <tr>\n",
       "      <th>10</th>\n",
       "      <td>1.000000</td>\n",
       "    </tr>\n",
       "    <tr>\n",
       "      <th>13</th>\n",
       "      <td>0.833333</td>\n",
       "    </tr>\n",
       "    <tr>\n",
       "      <th>14</th>\n",
       "      <td>NaN</td>\n",
       "    </tr>\n",
       "    <tr>\n",
       "      <th>21</th>\n",
       "      <td>0.450000</td>\n",
       "    </tr>\n",
       "    <tr>\n",
       "      <th>25</th>\n",
       "      <td>0.863636</td>\n",
       "    </tr>\n",
       "    <tr>\n",
       "      <th>29</th>\n",
       "      <td>1.000000</td>\n",
       "    </tr>\n",
       "    <tr>\n",
       "      <th>30</th>\n",
       "      <td>NaN</td>\n",
       "    </tr>\n",
       "  </tbody>\n",
       "</table>\n",
       "</div>"
      ],
      "text/plain": [
       "         AUC\n",
       "1        NaN\n",
       "5   1.000000\n",
       "9   0.833333\n",
       "10  1.000000\n",
       "13  0.833333\n",
       "14       NaN\n",
       "21  0.450000\n",
       "25  0.863636\n",
       "29  1.000000\n",
       "30       NaN"
      ]
     },
     "execution_count": 35,
     "metadata": {},
     "output_type": "execute_result"
    }
   ],
   "source": [
    "# Create an empty dictionary to hold the AUC for each demographic\n",
    "auc_per_demo = {}\n",
    "\n",
    "# Group by demographic and compute AUC for each group\n",
    "for demo, group in results_df.groupby('demographic'):\n",
    "    fpr, tpr, _ = roc_curve(group['actual'], group['predicted'])\n",
    "    auc_score = auc(fpr, tpr)\n",
    "    auc_per_demo[demo] = auc_score\n",
    "\n",
    "# Optional: convert to a DataFrame\n",
    "auc_per_demo_df = pd.DataFrame.from_dict(auc_per_demo, orient='index', columns=['AUC'])\n",
    "auc_per_demo_df"
   ]
  },
  {
   "cell_type": "markdown",
   "id": "0e026395-515a-4ce2-9a25-17b2ce97c289",
   "metadata": {},
   "source": [
    "## SHAP plot"
   ]
  },
  {
   "cell_type": "code",
   "execution_count": 40,
   "id": "5b1f7b83-bb1e-4a57-9ea1-67148581fe63",
   "metadata": {},
   "outputs": [
    {
     "name": "stderr",
     "output_type": "stream",
     "text": [
      "model_output = \"margin\" has been renamed to model_output = \"raw\"\n",
      "[11:49:26] WARNING: /Users/runner/work/xgboost/xgboost/src/c_api/c_api.cc:1240: Saving into deprecated binary model format, please consider using `json` or `ubj`. Model format will default to JSON in XGBoost 2.2 if not specified.\n"
     ]
    },
    {
     "data": {
      "image/png": "[encoded data removed]",
      "text/plain": [
       "<Figure size 800x670 with 2 Axes>"
      ]
     },
     "metadata": {},
     "output_type": "display_data"
    }
   ],
   "source": [
    "import shap\n",
    "\n",
    "feature_names = X_train.columns.tolist()  # if X_* are DataFrames\n",
    "\n",
    "# Best practice for trees: interventional perturbation with background data\n",
    "explainer = shap.TreeExplainer(\n",
    "    model, data=X_train, feature_perturbation=\"interventional\", model_output=\"margin\"\n",
    ")\n",
    "\n",
    "# SHAP values shape: (n_samples, n_features)\n",
    "shap_values = explainer.shap_values(X_test)\n",
    "\n",
    "# Summary plot\n",
    "shap.summary_plot(shap_values, X_test, feature_names=feature_names)\n"
   ]
  },
  {
   "cell_type": "code",
   "execution_count": null,
   "id": "5d9039aa-3e84-4ff2-85a7-ba77b3976c92",
   "metadata": {},
   "outputs": [],
   "source": []
  }
 ],
 "metadata": {
  "kernelspec": {
   "display_name": "Python [conda env:anaconda3]",
   "language": "python",
   "name": "conda-env-anaconda3-py"
  },
  "language_info": {
   "codemirror_mode": {
    "name": "ipython",
    "version": 3
   },
   "file_extension": ".py",
   "mimetype": "text/x-python",
   "name": "python",
   "nbconvert_exporter": "python",
   "pygments_lexer": "ipython3",
   "version": "3.9.13"
  }
 },
 "nbformat": 4,
 "nbformat_minor": 5
}
