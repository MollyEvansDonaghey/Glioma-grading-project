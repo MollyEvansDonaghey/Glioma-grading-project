{
 "cells": [
  {
   "cell_type": "code",
   "execution_count": 166,
   "id": "dba8dc42-8b8e-4517-9787-28e4f12d2e14",
   "metadata": {},
   "outputs": [],
   "source": [
    "from imblearn.over_sampling import SMOTE\n",
    "from sklearn.svm import SVC\n",
    "from sklearn.metrics import confusion_matrix, accuracy_score\n",
    "from sklearn.model_selection import train_test_split\n",
    "from sklearn.model_selection import GridSearchCV\n",
    "from imblearn.over_sampling import ADASYN\n",
    "import pandas as pd\n",
    "from sklearn.preprocessing import LabelEncoder\n",
    "import matplotlib.pyplot as plt\n",
    "import numpy as np\n",
    "import seaborn as sns\n",
    "from sklearn.inspection import permutation_importance\n",
    "from sklearn.metrics import recall_score"
   ]
  },
  {
   "cell_type": "code",
   "execution_count": 167,
   "id": "3db9c99e-62e5-4709-a69f-340b9efb7f4d",
   "metadata": {},
   "outputs": [],
   "source": [
    "from ucimlrepo import fetch_ucirepo \n",
    "  \n",
    "# fetch dataset \n",
    "glioma_grading_clinical_and_mutation_features = fetch_ucirepo(id=759) \n",
    "  \n",
    "# data (as pandas dataframes) \n",
    "X = glioma_grading_clinical_and_mutation_features.data.features \n",
    "y = glioma_grading_clinical_and_mutation_features.data.targets "
   ]
  },
  {
   "cell_type": "code",
   "execution_count": 168,
   "id": "3f7e9470-c235-4a4b-8ad2-e69f2f50d415",
   "metadata": {},
   "outputs": [
    {
     "name": "stderr",
     "output_type": "stream",
     "text": [
      "/var/folders/hf/3rv_98fd6y5b8tx745n5n1s00000gn/T/ipykernel_93412/2568762353.py:11: SettingWithCopyWarning: \n",
      "A value is trying to be set on a copy of a slice from a DataFrame.\n",
      "Try using .loc[row_indexer,col_indexer] = value instead\n",
      "\n",
      "See the caveats in the documentation: https://pandas.pydata.org/pandas-docs/stable/user_guide/indexing.html#returning-a-view-versus-a-copy\n",
      "  X['Age_class_at_diagnosis'] = X['Age_at_diagnosis'].apply(categorise_age)\n"
     ]
    }
   ],
   "source": [
    "def categorise_age(age):\n",
    "    if age <= 19:\n",
    "        return \"Paediatric\"\n",
    "    elif 20 <= age <= 39:\n",
    "        return \"Young Adult\"\n",
    "    elif 40 <= age <= 64:\n",
    "        return \"Adult\"\n",
    "    else:\n",
    "        return \"Elderly\"\n",
    "\n",
    "X['Age_class_at_diagnosis'] = X['Age_at_diagnosis'].apply(categorise_age)"
   ]
  },
  {
   "cell_type": "code",
   "execution_count": 169,
   "id": "0ffa81e2-b5ff-400a-8933-b9b0b88c6f47",
   "metadata": {},
   "outputs": [
    {
     "name": "stderr",
     "output_type": "stream",
     "text": [
      "/var/folders/hf/3rv_98fd6y5b8tx745n5n1s00000gn/T/ipykernel_93412/1515168427.py:3: SettingWithCopyWarning: \n",
      "A value is trying to be set on a copy of a slice from a DataFrame.\n",
      "Try using .loc[row_indexer,col_indexer] = value instead\n",
      "\n",
      "See the caveats in the documentation: https://pandas.pydata.org/pandas-docs/stable/user_guide/indexing.html#returning-a-view-versus-a-copy\n",
      "  X['Gender'] = X['Gender'].map(gender_mapping)\n"
     ]
    }
   ],
   "source": [
    "gender_mapping = {0 : 'Male', 1 : 'Female'}\n",
    "\n",
    "X['Gender'] = X['Gender'].map(gender_mapping)"
   ]
  },
  {
   "cell_type": "code",
   "execution_count": 170,
   "id": "d2450612-05ec-4030-bd2b-0ade132a0952",
   "metadata": {},
   "outputs": [],
   "source": [
    "X['demographic'] = X['Gender'] + ', ' + X['Race'] + ', ' + X['Age_class_at_diagnosis']\n",
    "X.drop(columns = [\"Age_class_at_diagnosis\", \"Gender\", \"Race\", \"Age_at_diagnosis\"], inplace = True)"
   ]
  },
  {
   "cell_type": "code",
   "execution_count": 171,
   "id": "853f7bd4-a85a-4064-b7c3-aab0907aa522",
   "metadata": {},
   "outputs": [],
   "source": [
    "demo_mapping = {\n",
    " 'male, white, paediatric': 1,\n",
    " 'male, black or african american, paediatric': 2,\n",
    " 'male, asian, paediatric': 3,\n",
    " 'male, american indian or alaska native, paediatric': 4,\n",
    " 'male, white, young adult': 5,\n",
    " 'male, black or african american, young adult': 6,\n",
    " 'male, asian, young adult': 7,\n",
    " 'male, american indian or alaska native, young adult': 8,\n",
    " 'male, white, adult': 9,\n",
    " 'male, black or african american, adult': 10,\n",
    " 'male, asian, adult': 11,\n",
    " 'male, american indian or alaska native, adult': 12,\n",
    " 'male, white, elderly': 13,\n",
    " 'male, black or african american, elderly': 14,\n",
    " 'male, asian, elderly': 15,\n",
    " 'male, american indian or alaska native, elderly': 16,\n",
    " 'female, white, paediatric': 17,\n",
    " 'female, black or african american, paediatric': 18,\n",
    " 'female, asian, paediatric': 19,\n",
    " 'female, american indian or alaska native, paediatric': 20,\n",
    " 'female, white, young adult': 21,\n",
    " 'female, black or african american, young adult': 22,\n",
    " 'female, asian, young adult': 23,\n",
    " 'female, american indian or alaska native, young adult': 24,\n",
    " 'female, white, adult': 25,\n",
    " 'female, black or african american, adult': 26,\n",
    " 'female, asian, adult': 27,\n",
    " 'female, american indian or alaska native, adult': 28,\n",
    " 'female, white, elderly': 29,\n",
    " 'female, black or african american, elderly': 30,\n",
    " 'female, asian, elderly': 31,\n",
    " 'female, american indian or alaska native, elderly': 32\n",
    "}\n",
    "\n",
    "\n",
    "\n",
    "X['demographic'] = X['demographic'].str.lower().map(demo_mapping)"
   ]
  },
  {
   "cell_type": "markdown",
   "id": "428ad96f-3bf6-47f9-869f-50d00f6d885d",
   "metadata": {},
   "source": [
    "### Splitting the data"
   ]
  },
  {
   "cell_type": "code",
   "execution_count": 173,
   "id": "cc49afb8-698f-4554-9761-6c09cd73528b",
   "metadata": {},
   "outputs": [],
   "source": [
    "X_train, X_test, y_train, y_test = train_test_split(\n",
    "    X, y, test_size=0.1, random_state=1\n",
    ")\n",
    "\n",
    "X_train, X_val, y_train, y_val = train_test_split(\n",
    "    X_train, y_train, test_size=0.25, random_state=1\n",
    ")"
   ]
  },
  {
   "cell_type": "markdown",
   "id": "e3e97734-1322-4b92-a364-da8a661305bb",
   "metadata": {},
   "source": [
    "## SMOTE"
   ]
  },
  {
   "cell_type": "code",
   "execution_count": 175,
   "id": "b5c71fd7-bbd9-4cfe-8a55-8a62d2eabc51",
   "metadata": {},
   "outputs": [],
   "source": [
    "import pandas as pd\n",
    "from sklearn.preprocessing import LabelEncoder\n",
    "\n",
    "X_train['Grading'] = y_train\n",
    "\n",
    "# Define the minimum required samples per demographic group\n",
    "min_samples = 2\n",
    "\n",
    "# Ensure that each demographic has at least `min_samples` samples\n",
    "X_train_balanced = X_train.groupby('demographic', group_keys=False).apply(\n",
    "    lambda x: x if len(x) >= min_samples else x.sample(min_samples, replace=True)\n",
    ")\n",
    "\n",
    "# Extract demographic column\n",
    "demographic = X_train_balanced['demographic']\n",
    "\n",
    "# Extract features (excluding demographic and Grading)\n",
    "mutations_grading = X_train_balanced.drop(columns=['demographic'])\n",
    "\n",
    "# Extract the balanced target variable\n",
    "y_train_balanced = X_train_balanced['Grading']"
   ]
  },
  {
   "cell_type": "code",
   "execution_count": 176,
   "id": "f434f09d-352a-4b17-94d3-76d59d3fcd90",
   "metadata": {},
   "outputs": [],
   "source": [
    "smote = SMOTE(k_neighbors=1, random_state=1, sampling_strategy='minority')\n",
    "mutations_grading_resampled, demographic_resampled = smote.fit_resample(mutations_grading, demographic)"
   ]
  },
  {
   "cell_type": "code",
   "execution_count": 177,
   "id": "de1d0463-c636-49e4-a711-1b45fb9e0710",
   "metadata": {},
   "outputs": [],
   "source": [
    "df_train_resampled = mutations_grading_resampled\n",
    "df_train_resampled['demographic'] = demographic_resampled"
   ]
  },
  {
   "cell_type": "markdown",
   "id": "3ff88370-3db0-49ce-9161-eda69a44da81",
   "metadata": {},
   "source": [
    "## IW"
   ]
  },
  {
   "cell_type": "code",
   "execution_count": 179,
   "id": "aee5592e-08cc-433d-a8f2-69b77ee85c37",
   "metadata": {},
   "outputs": [],
   "source": [
    "## Extract demographic column\n",
    "demographic = df_train_resampled['demographic']"
   ]
  },
  {
   "cell_type": "code",
   "execution_count": 180,
   "id": "ec2b64bd-9113-4b09-a288-762eba01ea4e",
   "metadata": {},
   "outputs": [],
   "source": [
    "# Extract features (excluding demographic and Grading)\n",
    "mutations_grading = df_train_resampled.drop(columns=['demographic'])"
   ]
  },
  {
   "cell_type": "code",
   "execution_count": 181,
   "id": "3aecf337-28f4-4ee4-b53e-3f01aae67fcc",
   "metadata": {},
   "outputs": [],
   "source": [
    "def assign_inverse_frequency_weights(df, group_col):\n",
    "    \"\"\"\n",
    "    Assigns weights to each row in the dataframe inversely proportional\n",
    "    to the frequency of its group in `group_col`.\n",
    "\n",
    "    Parameters:\n",
    "        df (pd.DataFrame): Input DataFrame.\n",
    "        group_col (str): Column name representing demographic groups.\n",
    "\n",
    "    Returns:\n",
    "        pd.DataFrame: Original DataFrame with new 'weight' column added.\n",
    "    \"\"\"\n",
    "    group_counts = df[group_col].value_counts()\n",
    "    weights = df[group_col].map(lambda x: 1 / group_counts[x])\n",
    "    weights = weights / weights.sum()  # Normalize weights to sum to 1 (optional)\n",
    "    df = df.copy()\n",
    "    df['weight'] = weights\n",
    "    return df"
   ]
  },
  {
   "cell_type": "code",
   "execution_count": 182,
   "id": "a23d5bff-8671-43a7-9547-80513024ae5d",
   "metadata": {},
   "outputs": [],
   "source": [
    "# Apply weighting\n",
    "df_train_weighted = assign_inverse_frequency_weights(df_train_resampled, 'demographic')"
   ]
  },
  {
   "cell_type": "code",
   "execution_count": 183,
   "id": "48ce431d-c8e7-48cf-950d-3dc094777224",
   "metadata": {},
   "outputs": [],
   "source": [
    "# Replace with your actual feature columns\n",
    "X_train = df_train_weighted.drop(columns = ['Grading', 'weight'])\n",
    "y_train = df_train_weighted['Grading']\n",
    "w_train = df_train_weighted['weight']"
   ]
  },
  {
   "cell_type": "markdown",
   "id": "f7ad9698-8797-47aa-8d7c-5dde2542705e",
   "metadata": {},
   "source": [
    "## Feature selection"
   ]
  },
  {
   "cell_type": "code",
   "execution_count": 185,
   "id": "7728cfee-5053-4ee4-ab96-990f2aacd787",
   "metadata": {},
   "outputs": [],
   "source": [
    "from sklearn.feature_selection import mutual_info_classif\n",
    "from sklearn.linear_model import LassoCV\n",
    "from sklearn.preprocessing import StandardScaler\n",
    "\n",
    "def mrmr_feature_selection(X, y, n_features, random_state=1):\n",
    "    \"\"\"Performs mRMR feature selection (unweighted MI).\"\"\"\n",
    "    np.random.seed(random_state)\n",
    "    y = y.ravel()\n",
    "\n",
    "    # Note: mutual_info_classif does not support sample weights directly\n",
    "    mi = mutual_info_classif(X, y, random_state=random_state)\n",
    "    selected = []\n",
    "    remaining = list(range(X.shape[1]))\n",
    "\n",
    "    # first pick\n",
    "    first = np.argmax(mi)\n",
    "    selected.append(first)\n",
    "    remaining.remove(first)\n",
    "\n",
    "    # iterative pick\n",
    "    for _ in range(min(n_features - 1, len(remaining))):\n",
    "        relevance = mi[remaining]\n",
    "        # compute average redundancy\n",
    "        red_vals = []\n",
    "        for s in selected:\n",
    "            for f in remaining:\n",
    "                xf = X.iloc[:, f] if isinstance(X, pd.DataFrame) else X[:, f]\n",
    "                xs = X.iloc[:, s] if isinstance(X, pd.DataFrame) else X[:, s]\n",
    "                corr = np.corrcoef(xf, xs)[0,1]\n",
    "                red_vals.append(corr)\n",
    "        redundancy = np.nanmean(red_vals) if red_vals else 0\n",
    "        scores = relevance - redundancy\n",
    "        if len(scores) == 0:\n",
    "            break\n",
    "        nxt = remaining[np.argmax(scores)]\n",
    "        selected.append(nxt)\n",
    "        remaining.remove(nxt)\n",
    "\n",
    "    return selected\n",
    "\n",
    "\n",
    "def embedded_lasso_selection(X, y, sample_weight=None, random_state=1):\n",
    "    \"\"\"Performs feature selection using weighted LASSO regression.\"\"\"\n",
    "    np.random.seed(random_state)\n",
    "    y = y.ravel()\n",
    "\n",
    "    scaler = StandardScaler()\n",
    "    Xs = scaler.fit_transform(X)\n",
    "\n",
    "    lasso = LassoCV(cv=5, max_iter=10000, random_state=random_state)\n",
    "    # Pass sample_weight to respect IPW in both CV and penalty\n",
    "    lasso.fit(Xs, y, sample_weight=sample_weight)\n",
    "\n",
    "    return np.where(lasso.coef_ != 0)[0]\n",
    "\n",
    "\n",
    "def mrmr_lasso_pipeline(X, y, ipw_weights=None, desired_n_features=13, buffer_mrmr=30, random_state=1):\n",
    "    \"\"\"\n",
    "    Combines unweighted mRMR MI and weighted LASSO to select features.\n",
    "    - ipw_weights: array-like of sample weights (inverse-probabilities)\n",
    "    - desired_n_features: final number of features\n",
    "    - buffer_mrmr: number of top mRMR features to feed into LASSO\n",
    "    \"\"\"\n",
    "    np.random.seed(random_state)\n",
    "    # flatten y\n",
    "    y_arr = y.values.ravel() if hasattr(y, 'values') else y.ravel()\n",
    "\n",
    "    # Step 1: mRMR (unweighted)\n",
    "    top_mrmr = mrmr_feature_selection(X, y_arr, buffer_mrmr, random_state=random_state)\n",
    "    X_mrmr = X.iloc[:, top_mrmr] if hasattr(X, 'iloc') else X[:, top_mrmr]\n",
    "\n",
    "    # Step 2: weighted LASSO\n",
    "    lasso_idx = embedded_lasso_selection(X_mrmr, y_arr, sample_weight=ipw_weights, random_state=random_state)\n",
    "    final = [top_mrmr[i] for i in lasso_idx]\n",
    "\n",
    "    # Step 3: ensure exact number of features\n",
    "    if len(final) < desired_n_features:\n",
    "        for feat in top_mrmr:\n",
    "            if feat not in final:\n",
    "                final.append(feat)\n",
    "            if len(final) == desired_n_features:\n",
    "                break\n",
    "    else:\n",
    "        final = final[:desired_n_features]\n",
    "\n",
    "    return final"
   ]
  },
  {
   "cell_type": "code",
   "execution_count": 186,
   "id": "fff2bad4-d6dc-4857-8aad-1abda768e087",
   "metadata": {},
   "outputs": [
    {
     "name": "stdout",
     "output_type": "stream",
     "text": [
      "Selected Feature Indices: [0, 5, 17, 20, 3, 4, 1, 16, 6, 19, 13, 11, 2]\n"
     ]
    }
   ],
   "source": [
    "final_selected_features = mrmr_lasso_pipeline(X_train, y_train, ipw_weights = w_train, random_state = 1)\n",
    "\n",
    "print(\"Selected Feature Indices:\", final_selected_features)"
   ]
  },
  {
   "cell_type": "code",
   "execution_count": 187,
   "id": "cabd3f8f-aa7e-462e-a1e7-2ebc7c8a8de0",
   "metadata": {},
   "outputs": [],
   "source": [
    "X_train = X_train.iloc[:, [0, 5, 17, 20, 3, 4, 1, 16, 6, 19, 13, 11, 2]]"
   ]
  },
  {
   "cell_type": "code",
   "execution_count": 188,
   "id": "a10e5613-760a-45ad-ad93-e971d1a4009d",
   "metadata": {},
   "outputs": [],
   "source": [
    "y_val = y_val.values.ravel()\n",
    "y_test = y_test.values.ravel()"
   ]
  },
  {
   "cell_type": "code",
   "execution_count": 189,
   "id": "c039e309-bd9a-47ca-9506-40c95e07b405",
   "metadata": {},
   "outputs": [
    {
     "name": "stdout",
     "output_type": "stream",
     "text": [
      "Fitting 3 folds for each of 80 candidates, totalling 240 fits\n",
      "Best parameters: {'C': 1, 'gamma': 'scale', 'kernel': 'linear'}\n",
      "Best recall: 0.8603982161924502\n"
     ]
    }
   ],
   "source": [
    "# Define the parameter grid\n",
    "param_grid = {\n",
    "    'C': [0.1, 1, 10, 100],  # Regularization\n",
    "    'kernel': ['linear', 'rbf', 'poly', 'sigmoid'],  # Different kernel types\n",
    "    'gamma': ['scale', 'auto', 0.01, 0.1, 1],  # Kernel coefficient\n",
    "}\n",
    "\n",
    "# Define the model\n",
    "svc = SVC()\n",
    "\n",
    "# Perform GridSearchCV\n",
    "grid_search = GridSearchCV(svc, param_grid, cv=3, scoring='f1', verbose=1, n_jobs=-1)\n",
    "grid_search.fit(X_val, y_val)\n",
    "\n",
    "\n",
    "# Best parameters and score\n",
    "print(\"Best parameters:\", grid_search.best_params_)\n",
    "print(\"Best recall:\", grid_search.best_score_)"
   ]
  },
  {
   "cell_type": "code",
   "execution_count": 190,
   "id": "8eecca88-e3e4-491b-9500-1425ae63cac2",
   "metadata": {},
   "outputs": [],
   "source": [
    "svc_IW_SMOTE = SVC(C = 1, gamma = 'scale', kernel = 'linear', random_state = 1, probability = True)\n",
    "\n",
    "svc_IW_SMOTE.fit(X_train, y_train, sample_weight = w_train)\n",
    "\n",
    "X_test = X_test.iloc[:, [0, 5, 17, 20, 3, 4, 1, 16, 6, 19, 13, 11, 2]]"
   ]
  },
  {
   "cell_type": "code",
   "execution_count": 191,
   "id": "5550c4b4-94b6-419e-beee-e10da97cd610",
   "metadata": {},
   "outputs": [
    {
     "name": "stdout",
     "output_type": "stream",
     "text": [
      "Confusion Matrix: [[45  0]\n",
      " [39  0]]\n",
      "Accuracy: 0.5357142857142857\n",
      "Sensitivity: 0.0\n"
     ]
    }
   ],
   "source": [
    "prediction = svc_IW_SMOTE.predict(X_test)\n",
    "\n",
    "print(f'Confusion Matrix: {confusion_matrix(y_test, prediction)}')\n",
    "print(f'Accuracy: {accuracy_score(y_test, prediction)}')\n",
    "print(f'Sensitivity: {recall_score(y_test, prediction)}')"
   ]
  },
  {
   "cell_type": "code",
   "execution_count": 192,
   "id": "c4a9891a-61d3-4b0c-9b7c-56da279038e7",
   "metadata": {},
   "outputs": [
    {
     "name": "stderr",
     "output_type": "stream",
     "text": [
      "/Users/mollydonaghey/opt/anaconda3/lib/python3.9/site-packages/sklearn/metrics/_classification.py:1471: UndefinedMetricWarning: Recall is ill-defined and being set to 0.0 due to no true samples. Use `zero_division` parameter to control this behavior.\n",
      "  _warn_prf(average, modifier, msg_start, len(result))\n",
      "/Users/mollydonaghey/opt/anaconda3/lib/python3.9/site-packages/sklearn/metrics/_classification.py:1471: UndefinedMetricWarning: Recall is ill-defined and being set to 0.0 due to no true samples. Use `zero_division` parameter to control this behavior.\n",
      "  _warn_prf(average, modifier, msg_start, len(result))\n",
      "/Users/mollydonaghey/opt/anaconda3/lib/python3.9/site-packages/sklearn/metrics/_classification.py:1471: UndefinedMetricWarning: Recall is ill-defined and being set to 0.0 due to no true samples. Use `zero_division` parameter to control this behavior.\n",
      "  _warn_prf(average, modifier, msg_start, len(result))\n"
     ]
    }
   ],
   "source": [
    "results_df = pd.DataFrame({\n",
    "    'demographic': X_test['demographic'],\n",
    "    'actual': y_test,\n",
    "    'predicted': prediction\n",
    "})\n",
    "\n",
    "# Compute accuracy per demographic\n",
    "accuracy_per_demo_IW_SMOTE = results_df.groupby('demographic').apply(\n",
    "    lambda x: accuracy_score(x['actual'], x['predicted'])\n",
    ")\n",
    "\n",
    "sensitivity_per_demo_IW_SMOTE = results_df.groupby('demographic').apply(\n",
    "    lambda x: recall_score(x['actual'], x['predicted'])\n",
    ")"
   ]
  },
  {
   "cell_type": "code",
   "execution_count": 193,
   "id": "93cb06da-f7e8-44d2-8982-cf7118df2e38",
   "metadata": {},
   "outputs": [],
   "source": [
    "# Print accuracy per demographic group\n",
    "accuracy_per_demo_IW_SMOTE = pd.DataFrame(accuracy_per_demo_IW_SMOTE)\n",
    "accuracy_per_demo_IW_SMOTE.reset_index(inplace = True)\n",
    "accuracy_per_demo_IW_SMOTE.columns = ['demographic', 'accuracy']"
   ]
  },
  {
   "cell_type": "code",
   "execution_count": 194,
   "id": "5d98cd2c-21b4-4824-934a-4319e65fb05c",
   "metadata": {},
   "outputs": [
    {
     "data": {
      "text/html": [
       "<div>\n",
       "<style scoped>\n",
       "    .dataframe tbody tr th:only-of-type {\n",
       "        vertical-align: middle;\n",
       "    }\n",
       "\n",
       "    .dataframe tbody tr th {\n",
       "        vertical-align: top;\n",
       "    }\n",
       "\n",
       "    .dataframe thead th {\n",
       "        text-align: right;\n",
       "    }\n",
       "</style>\n",
       "<table border=\"1\" class=\"dataframe\">\n",
       "  <thead>\n",
       "    <tr style=\"text-align: right;\">\n",
       "      <th></th>\n",
       "      <th>demographic</th>\n",
       "      <th>accuracy</th>\n",
       "    </tr>\n",
       "  </thead>\n",
       "  <tbody>\n",
       "    <tr>\n",
       "      <th>0</th>\n",
       "      <td>5</td>\n",
       "      <td>1.000000</td>\n",
       "    </tr>\n",
       "    <tr>\n",
       "      <th>1</th>\n",
       "      <td>9</td>\n",
       "      <td>0.333333</td>\n",
       "    </tr>\n",
       "    <tr>\n",
       "      <th>2</th>\n",
       "      <td>10</td>\n",
       "      <td>0.000000</td>\n",
       "    </tr>\n",
       "    <tr>\n",
       "      <th>3</th>\n",
       "      <td>13</td>\n",
       "      <td>0.307692</td>\n",
       "    </tr>\n",
       "    <tr>\n",
       "      <th>4</th>\n",
       "      <td>14</td>\n",
       "      <td>0.000000</td>\n",
       "    </tr>\n",
       "    <tr>\n",
       "      <th>5</th>\n",
       "      <td>21</td>\n",
       "      <td>0.900000</td>\n",
       "    </tr>\n",
       "    <tr>\n",
       "      <th>6</th>\n",
       "      <td>22</td>\n",
       "      <td>0.500000</td>\n",
       "    </tr>\n",
       "    <tr>\n",
       "      <th>7</th>\n",
       "      <td>25</td>\n",
       "      <td>0.611111</td>\n",
       "    </tr>\n",
       "    <tr>\n",
       "      <th>8</th>\n",
       "      <td>26</td>\n",
       "      <td>1.000000</td>\n",
       "    </tr>\n",
       "    <tr>\n",
       "      <th>9</th>\n",
       "      <td>29</td>\n",
       "      <td>0.000000</td>\n",
       "    </tr>\n",
       "    <tr>\n",
       "      <th>10</th>\n",
       "      <td>30</td>\n",
       "      <td>1.000000</td>\n",
       "    </tr>\n",
       "  </tbody>\n",
       "</table>\n",
       "</div>"
      ],
      "text/plain": [
       "    demographic  accuracy\n",
       "0             5  1.000000\n",
       "1             9  0.333333\n",
       "2            10  0.000000\n",
       "3            13  0.307692\n",
       "4            14  0.000000\n",
       "5            21  0.900000\n",
       "6            22  0.500000\n",
       "7            25  0.611111\n",
       "8            26  1.000000\n",
       "9            29  0.000000\n",
       "10           30  1.000000"
      ]
     },
     "execution_count": 194,
     "metadata": {},
     "output_type": "execute_result"
    }
   ],
   "source": [
    "accuracy_per_demo_IW_SMOTE"
   ]
  },
  {
   "cell_type": "code",
   "execution_count": 195,
   "id": "1c1a0c3c-4d30-4c99-aab4-16499d7a39e3",
   "metadata": {},
   "outputs": [],
   "source": [
    "# Print accuracy per demographic group\n",
    "sensitivity_per_demo_IW_SMOTE = pd.DataFrame(sensitivity_per_demo_IW_SMOTE)\n",
    "sensitivity_per_demo_IW_SMOTE.reset_index(inplace = True)\n",
    "sensitivity_per_demo_IW_SMOTE.columns = ['demographic', 'sensitivity']"
   ]
  },
  {
   "cell_type": "code",
   "execution_count": 196,
   "id": "721b0db8-9c55-4526-92d6-e1799c623023",
   "metadata": {},
   "outputs": [
    {
     "data": {
      "text/html": [
       "<div>\n",
       "<style scoped>\n",
       "    .dataframe tbody tr th:only-of-type {\n",
       "        vertical-align: middle;\n",
       "    }\n",
       "\n",
       "    .dataframe tbody tr th {\n",
       "        vertical-align: top;\n",
       "    }\n",
       "\n",
       "    .dataframe thead th {\n",
       "        text-align: right;\n",
       "    }\n",
       "</style>\n",
       "<table border=\"1\" class=\"dataframe\">\n",
       "  <thead>\n",
       "    <tr style=\"text-align: right;\">\n",
       "      <th></th>\n",
       "      <th>demographic</th>\n",
       "      <th>sensitivity</th>\n",
       "    </tr>\n",
       "  </thead>\n",
       "  <tbody>\n",
       "    <tr>\n",
       "      <th>0</th>\n",
       "      <td>5</td>\n",
       "      <td>0.0</td>\n",
       "    </tr>\n",
       "    <tr>\n",
       "      <th>1</th>\n",
       "      <td>9</td>\n",
       "      <td>0.0</td>\n",
       "    </tr>\n",
       "    <tr>\n",
       "      <th>2</th>\n",
       "      <td>10</td>\n",
       "      <td>0.0</td>\n",
       "    </tr>\n",
       "    <tr>\n",
       "      <th>3</th>\n",
       "      <td>13</td>\n",
       "      <td>0.0</td>\n",
       "    </tr>\n",
       "    <tr>\n",
       "      <th>4</th>\n",
       "      <td>14</td>\n",
       "      <td>0.0</td>\n",
       "    </tr>\n",
       "    <tr>\n",
       "      <th>5</th>\n",
       "      <td>21</td>\n",
       "      <td>0.0</td>\n",
       "    </tr>\n",
       "    <tr>\n",
       "      <th>6</th>\n",
       "      <td>22</td>\n",
       "      <td>0.0</td>\n",
       "    </tr>\n",
       "    <tr>\n",
       "      <th>7</th>\n",
       "      <td>25</td>\n",
       "      <td>0.0</td>\n",
       "    </tr>\n",
       "    <tr>\n",
       "      <th>8</th>\n",
       "      <td>26</td>\n",
       "      <td>0.0</td>\n",
       "    </tr>\n",
       "    <tr>\n",
       "      <th>9</th>\n",
       "      <td>29</td>\n",
       "      <td>0.0</td>\n",
       "    </tr>\n",
       "    <tr>\n",
       "      <th>10</th>\n",
       "      <td>30</td>\n",
       "      <td>0.0</td>\n",
       "    </tr>\n",
       "  </tbody>\n",
       "</table>\n",
       "</div>"
      ],
      "text/plain": [
       "    demographic  sensitivity\n",
       "0             5          0.0\n",
       "1             9          0.0\n",
       "2            10          0.0\n",
       "3            13          0.0\n",
       "4            14          0.0\n",
       "5            21          0.0\n",
       "6            22          0.0\n",
       "7            25          0.0\n",
       "8            26          0.0\n",
       "9            29          0.0\n",
       "10           30          0.0"
      ]
     },
     "execution_count": 196,
     "metadata": {},
     "output_type": "execute_result"
    }
   ],
   "source": [
    "sensitivity_per_demo_IW_SMOTE"
   ]
  },
  {
   "cell_type": "markdown",
   "id": "41d54b57-ff99-4ffe-b640-0a49fa73ee44",
   "metadata": {},
   "source": [
    "### ROC Curve"
   ]
  },
  {
   "cell_type": "code",
   "execution_count": 198,
   "id": "111454b7-b8d6-49b2-b617-be4f5dfb33d3",
   "metadata": {},
   "outputs": [
    {
     "data": {
      "image/png": "[encoded data removed]",
      "text/plain": [
       "<Figure size 640x480 with 1 Axes>"
      ]
     },
     "metadata": {},
     "output_type": "display_data"
    }
   ],
   "source": [
    "from sklearn.metrics import roc_curve, auc\n",
    "\n",
    "# Compute ROC curve\n",
    "fpr, tpr, thresholds = roc_curve(results_df['actual'], results_df['predicted'])\n",
    "\n",
    "# Compute AUC (Area Under Curve)\n",
    "roc_auc = auc(fpr, tpr)\n",
    "\n",
    "# Plotting\n",
    "plt.figure()\n",
    "plt.plot(fpr, tpr, color='darkorange', lw=2, label=f'ROC curve (AUC = {roc_auc:.2f})')\n",
    "plt.plot([0, 1], [0, 1], color='navy', lw=2, linestyle='--')  # chance line\n",
    "plt.xlabel('False Positive Rate')\n",
    "plt.ylabel('True Positive Rate')\n",
    "plt.title('ROC Curve SMOTE + IW and SVM')\n",
    "plt.legend(loc=\"lower right\")\n",
    "plt.grid(True)\n",
    "plt.show()"
   ]
  },
  {
   "cell_type": "code",
   "execution_count": 199,
   "id": "8365943f-8f0c-4fff-bca5-e6642e863f9f",
   "metadata": {},
   "outputs": [
    {
     "name": "stderr",
     "output_type": "stream",
     "text": [
      "/Users/mollydonaghey/opt/anaconda3/lib/python3.9/site-packages/sklearn/metrics/_ranking.py:1133: UndefinedMetricWarning: No positive samples in y_true, true positive value should be meaningless\n",
      "  warnings.warn(\n",
      "/Users/mollydonaghey/opt/anaconda3/lib/python3.9/site-packages/sklearn/metrics/_ranking.py:1124: UndefinedMetricWarning: No negative samples in y_true, false positive value should be meaningless\n",
      "  warnings.warn(\n",
      "/Users/mollydonaghey/opt/anaconda3/lib/python3.9/site-packages/sklearn/metrics/_ranking.py:1124: UndefinedMetricWarning: No negative samples in y_true, false positive value should be meaningless\n",
      "  warnings.warn(\n",
      "/Users/mollydonaghey/opt/anaconda3/lib/python3.9/site-packages/sklearn/metrics/_ranking.py:1133: UndefinedMetricWarning: No positive samples in y_true, true positive value should be meaningless\n",
      "  warnings.warn(\n",
      "/Users/mollydonaghey/opt/anaconda3/lib/python3.9/site-packages/sklearn/metrics/_ranking.py:1124: UndefinedMetricWarning: No negative samples in y_true, false positive value should be meaningless\n",
      "  warnings.warn(\n",
      "/Users/mollydonaghey/opt/anaconda3/lib/python3.9/site-packages/sklearn/metrics/_ranking.py:1133: UndefinedMetricWarning: No positive samples in y_true, true positive value should be meaningless\n",
      "  warnings.warn(\n"
     ]
    },
    {
     "data": {
      "text/html": [
       "<div>\n",
       "<style scoped>\n",
       "    .dataframe tbody tr th:only-of-type {\n",
       "        vertical-align: middle;\n",
       "    }\n",
       "\n",
       "    .dataframe tbody tr th {\n",
       "        vertical-align: top;\n",
       "    }\n",
       "\n",
       "    .dataframe thead th {\n",
       "        text-align: right;\n",
       "    }\n",
       "</style>\n",
       "<table border=\"1\" class=\"dataframe\">\n",
       "  <thead>\n",
       "    <tr style=\"text-align: right;\">\n",
       "      <th></th>\n",
       "      <th>AUC</th>\n",
       "    </tr>\n",
       "  </thead>\n",
       "  <tbody>\n",
       "    <tr>\n",
       "      <th>5</th>\n",
       "      <td>NaN</td>\n",
       "    </tr>\n",
       "    <tr>\n",
       "      <th>9</th>\n",
       "      <td>0.5</td>\n",
       "    </tr>\n",
       "    <tr>\n",
       "      <th>10</th>\n",
       "      <td>NaN</td>\n",
       "    </tr>\n",
       "    <tr>\n",
       "      <th>13</th>\n",
       "      <td>0.5</td>\n",
       "    </tr>\n",
       "    <tr>\n",
       "      <th>14</th>\n",
       "      <td>NaN</td>\n",
       "    </tr>\n",
       "    <tr>\n",
       "      <th>21</th>\n",
       "      <td>0.5</td>\n",
       "    </tr>\n",
       "    <tr>\n",
       "      <th>22</th>\n",
       "      <td>0.5</td>\n",
       "    </tr>\n",
       "    <tr>\n",
       "      <th>25</th>\n",
       "      <td>0.5</td>\n",
       "    </tr>\n",
       "    <tr>\n",
       "      <th>26</th>\n",
       "      <td>NaN</td>\n",
       "    </tr>\n",
       "    <tr>\n",
       "      <th>29</th>\n",
       "      <td>NaN</td>\n",
       "    </tr>\n",
       "    <tr>\n",
       "      <th>30</th>\n",
       "      <td>NaN</td>\n",
       "    </tr>\n",
       "  </tbody>\n",
       "</table>\n",
       "</div>"
      ],
      "text/plain": [
       "    AUC\n",
       "5   NaN\n",
       "9   0.5\n",
       "10  NaN\n",
       "13  0.5\n",
       "14  NaN\n",
       "21  0.5\n",
       "22  0.5\n",
       "25  0.5\n",
       "26  NaN\n",
       "29  NaN\n",
       "30  NaN"
      ]
     },
     "execution_count": 199,
     "metadata": {},
     "output_type": "execute_result"
    }
   ],
   "source": [
    "from sklearn.metrics import roc_curve, auc\n",
    "\n",
    "# Create an empty dictionary to hold the AUC for each demographic\n",
    "auc_per_demo = {}\n",
    "\n",
    "# Group by demographic and compute AUC for each group\n",
    "for demo, group in results_df.groupby('demographic'):\n",
    "    fpr, tpr, _ = roc_curve(group['actual'], group['predicted'])\n",
    "    auc_score = auc(fpr, tpr)\n",
    "    auc_per_demo[demo] = auc_score\n",
    "\n",
    "# Optional: convert to a DataFrame\n",
    "auc_per_demo_df = pd.DataFrame.from_dict(auc_per_demo, orient='index', columns=['AUC'])\n",
    "auc_per_demo_df"
   ]
  }
 ],
 "metadata": {
  "kernelspec": {
   "display_name": "Python [conda env:anaconda3]",
   "language": "python",
   "name": "conda-env-anaconda3-py"
  },
  "language_info": {
   "codemirror_mode": {
    "name": "ipython",
    "version": 3
   },
   "file_extension": ".py",
   "mimetype": "text/x-python",
   "name": "python",
   "nbconvert_exporter": "python",
   "pygments_lexer": "ipython3",
   "version": "3.9.13"
  }
 },
 "nbformat": 4,
 "nbformat_minor": 5
}
