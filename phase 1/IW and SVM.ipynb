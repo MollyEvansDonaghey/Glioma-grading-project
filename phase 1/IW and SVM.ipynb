{
 "cells": [
  {
   "cell_type": "code",
   "execution_count": 81,
   "id": "72c8f99e",
   "metadata": {},
   "outputs": [],
   "source": [
    "from imblearn.over_sampling import SMOTE\n",
    "from sklearn.svm import SVC\n",
    "from sklearn.metrics import confusion_matrix, accuracy_score\n",
    "from sklearn.model_selection import train_test_split\n",
    "from sklearn.model_selection import GridSearchCV\n",
    "from imblearn.over_sampling import ADASYN\n",
    "import pandas as pd\n",
    "from sklearn.preprocessing import LabelEncoder\n",
    "import matplotlib.pyplot as plt\n",
    "import numpy as np\n",
    "import seaborn as sns\n",
    "from sklearn.inspection import permutation_importance\n",
    "from sklearn.metrics import recall_score"
   ]
  },
  {
   "cell_type": "code",
   "execution_count": 83,
   "id": "99479ddc",
   "metadata": {},
   "outputs": [],
   "source": [
    "from ucimlrepo import fetch_ucirepo \n",
    "  \n",
    "# fetch dataset \n",
    "glioma_grading_clinical_and_mutation_features = fetch_ucirepo(id=759) \n",
    "  \n",
    "# data (as pandas dataframes) \n",
    "X = glioma_grading_clinical_and_mutation_features.data.features \n",
    "y = glioma_grading_clinical_and_mutation_features.data.targets "
   ]
  },
  {
   "cell_type": "markdown",
   "id": "245bc16b-4292-4b66-9b79-79c540defb7f",
   "metadata": {},
   "source": [
    "## Data pre processing"
   ]
  },
  {
   "cell_type": "code",
   "execution_count": 85,
   "id": "36a67f3b",
   "metadata": {},
   "outputs": [
    {
     "name": "stderr",
     "output_type": "stream",
     "text": [
      "/var/folders/hf/3rv_98fd6y5b8tx745n5n1s00000gn/T/ipykernel_90397/2568762353.py:11: SettingWithCopyWarning: \n",
      "A value is trying to be set on a copy of a slice from a DataFrame.\n",
      "Try using .loc[row_indexer,col_indexer] = value instead\n",
      "\n",
      "See the caveats in the documentation: https://pandas.pydata.org/pandas-docs/stable/user_guide/indexing.html#returning-a-view-versus-a-copy\n",
      "  X['Age_class_at_diagnosis'] = X['Age_at_diagnosis'].apply(categorise_age)\n"
     ]
    }
   ],
   "source": [
    "def categorise_age(age):\n",
    "    if age <= 19:\n",
    "        return \"Paediatric\"\n",
    "    elif 20 <= age <= 39:\n",
    "        return \"Young Adult\"\n",
    "    elif 40 <= age <= 64:\n",
    "        return \"Adult\"\n",
    "    else:\n",
    "        return \"Elderly\"\n",
    "\n",
    "X['Age_class_at_diagnosis'] = X['Age_at_diagnosis'].apply(categorise_age)"
   ]
  },
  {
   "cell_type": "code",
   "execution_count": 86,
   "id": "a0c186da",
   "metadata": {},
   "outputs": [
    {
     "name": "stderr",
     "output_type": "stream",
     "text": [
      "/var/folders/hf/3rv_98fd6y5b8tx745n5n1s00000gn/T/ipykernel_90397/1515168427.py:3: SettingWithCopyWarning: \n",
      "A value is trying to be set on a copy of a slice from a DataFrame.\n",
      "Try using .loc[row_indexer,col_indexer] = value instead\n",
      "\n",
      "See the caveats in the documentation: https://pandas.pydata.org/pandas-docs/stable/user_guide/indexing.html#returning-a-view-versus-a-copy\n",
      "  X['Gender'] = X['Gender'].map(gender_mapping)\n"
     ]
    }
   ],
   "source": [
    "gender_mapping = {0 : 'Male', 1 : 'Female'}\n",
    "\n",
    "X['Gender'] = X['Gender'].map(gender_mapping)"
   ]
  },
  {
   "cell_type": "code",
   "execution_count": 87,
   "id": "9924a11d",
   "metadata": {},
   "outputs": [],
   "source": [
    "X['demographic'] = X['Gender'] + ', ' + X['Race'] + ', ' + X['Age_class_at_diagnosis']\n",
    "X.drop(columns = [\"Age_class_at_diagnosis\", \"Gender\", \"Race\", \"Age_at_diagnosis\"], inplace = True)"
   ]
  },
  {
   "cell_type": "code",
   "execution_count": 88,
   "id": "087b47b7",
   "metadata": {},
   "outputs": [],
   "source": [
    "demo_mapping = {\n",
    " 'male, white, paediatric': 1,\n",
    " 'male, black or african american, paediatric': 2,\n",
    " 'male, asian, paediatric': 3,\n",
    " 'male, american indian or alaska native, paediatric': 4,\n",
    " 'male, white, young adult': 5,\n",
    " 'male, black or african american, young adult': 6,\n",
    " 'male, asian, young adult': 7,\n",
    " 'male, american indian or alaska native, young adult': 8,\n",
    " 'male, white, adult': 9,\n",
    " 'male, black or african american, adult': 10,\n",
    " 'male, asian, adult': 11,\n",
    " 'male, american indian or alaska native, adult': 12,\n",
    " 'male, white, elderly': 13,\n",
    " 'male, black or african american, elderly': 14,\n",
    " 'male, asian, elderly': 15,\n",
    " 'male, american indian or alaska native, elderly': 16,\n",
    " 'female, white, paediatric': 17,\n",
    " 'female, black or african american, paediatric': 18,\n",
    " 'female, asian, paediatric': 19,\n",
    " 'female, american indian or alaska native, paediatric': 20,\n",
    " 'female, white, young adult': 21,\n",
    " 'female, black or african american, young adult': 22,\n",
    " 'female, asian, young adult': 23,\n",
    " 'female, american indian or alaska native, young adult': 24,\n",
    " 'female, white, adult': 25,\n",
    " 'female, black or african american, adult': 26,\n",
    " 'female, asian, adult': 27,\n",
    " 'female, american indian or alaska native, adult': 28,\n",
    " 'female, white, elderly': 29,\n",
    " 'female, black or african american, elderly': 30,\n",
    " 'female, asian, elderly': 31,\n",
    " 'female, american indian or alaska native, elderly': 32\n",
    "}\n",
    "\n",
    "\n",
    "\n",
    "X['demographic'] = X['demographic'].str.lower().map(demo_mapping)"
   ]
  },
  {
   "cell_type": "markdown",
   "id": "b74aa78f",
   "metadata": {},
   "source": [
    "## Inverse weighting"
   ]
  },
  {
   "cell_type": "code",
   "execution_count": 95,
   "id": "6b24a462",
   "metadata": {},
   "outputs": [],
   "source": [
    "# Assign y to X before balancing\n",
    "X['Grading'] = y\n",
    "\n",
    "## Extract demographic column\n",
    "demographic = X['demographic']\n",
    "\n",
    "# Extract features (excluding demographic and Grading)\n",
    "mutations_grading = X.drop(columns=['demographic'])"
   ]
  },
  {
   "cell_type": "code",
   "execution_count": 97,
   "id": "7fbf7a88",
   "metadata": {},
   "outputs": [],
   "source": [
    "def assign_inverse_frequency_weights(df, group_col):\n",
    "    \"\"\"\n",
    "    Assigns weights to each row in the dataframe inversely proportional\n",
    "    to the frequency of its group in `group_col`.\n",
    "\n",
    "    Parameters:\n",
    "        df (pd.DataFrame): Input DataFrame.\n",
    "        group_col (str): Column name representing demographic groups.\n",
    "\n",
    "    Returns:\n",
    "        pd.DataFrame: Original DataFrame with new 'weight' column added.\n",
    "    \"\"\"\n",
    "    group_counts = df[group_col].value_counts()\n",
    "    weights = df[group_col].map(lambda x: 1 / group_counts[x])\n",
    "    weights = weights / weights.sum()  # Normalize weights to sum to 1 (optional)\n",
    "    df = df.copy()\n",
    "    df['weight'] = weights\n",
    "    return df"
   ]
  },
  {
   "cell_type": "code",
   "execution_count": 99,
   "id": "66e3851e",
   "metadata": {},
   "outputs": [
    {
     "name": "stdout",
     "output_type": "stream",
     "text": [
      "demographic\n",
      "1     0.025000\n",
      "5     0.000403\n",
      "6     0.025000\n",
      "7     0.025000\n",
      "9     0.000242\n",
      "10    0.002941\n",
      "11    0.008333\n",
      "12    0.050000\n",
      "13    0.000442\n",
      "14    0.003846\n",
      "15    0.050000\n",
      "21    0.000556\n",
      "22    0.006250\n",
      "23    0.025000\n",
      "25    0.000318\n",
      "26    0.003846\n",
      "27    0.025000\n",
      "29    0.000694\n",
      "30    0.008333\n",
      "31    0.050000\n",
      "Name: weight, dtype: float64\n"
     ]
    }
   ],
   "source": [
    "# Apply weighting\n",
    "df_weighted = assign_inverse_frequency_weights(X, 'demographic')\n",
    "\n",
    "# Inspect weights\n",
    "print(df_weighted.groupby('demographic')['weight'].mean())"
   ]
  },
  {
   "cell_type": "markdown",
   "id": "78f8d438",
   "metadata": {},
   "source": [
    "### Training and testing split"
   ]
  },
  {
   "cell_type": "code",
   "execution_count": 102,
   "id": "95b9453a",
   "metadata": {},
   "outputs": [],
   "source": [
    "# Replace with your actual feature columns\n",
    "X = df_weighted.drop(columns = ['Grading', 'weight'])\n",
    "y = df_weighted['Grading']\n",
    "weights = df_weighted['weight']\n",
    "\n",
    "# Train/test split\n",
    "X_train, X_test, y_train, y_test, w_train, w_test = train_test_split(\n",
    "    X, y, weights, test_size=0.1, random_state=1, stratify=y\n",
    ")\n",
    "\n",
    "X_train, X_val, y_train, y_val, w_train, w_val = train_test_split(\n",
    "    X_train, y_train, w_train, test_size=0.25, random_state=1, stratify=y_train\n",
    ")"
   ]
  },
  {
   "cell_type": "markdown",
   "id": "a2403b8f",
   "metadata": {},
   "source": [
    "### Feature selection"
   ]
  },
  {
   "cell_type": "code",
   "execution_count": 105,
   "id": "c641666b-a61b-4f35-8f24-08402cb92548",
   "metadata": {},
   "outputs": [],
   "source": [
    "from sklearn.feature_selection import mutual_info_classif\n",
    "from sklearn.linear_model import LassoCV\n",
    "from sklearn.preprocessing import StandardScaler\n",
    "\n",
    "def mrmr_feature_selection(X, y, n_features, random_state=1):\n",
    "    \"\"\"Performs mRMR feature selection (unweighted MI).\"\"\"\n",
    "    np.random.seed(random_state)\n",
    "    y = y.ravel()\n",
    "\n",
    "    # Note: mutual_info_classif does not support sample weights directly\n",
    "    mi = mutual_info_classif(X, y, random_state=random_state)\n",
    "    selected = []\n",
    "    remaining = list(range(X.shape[1]))\n",
    "\n",
    "    # first pick\n",
    "    first = np.argmax(mi)\n",
    "    selected.append(first)\n",
    "    remaining.remove(first)\n",
    "\n",
    "    # iterative pick\n",
    "    for _ in range(min(n_features - 1, len(remaining))):\n",
    "        relevance = mi[remaining]\n",
    "        # compute average redundancy\n",
    "        red_vals = []\n",
    "        for s in selected:\n",
    "            for f in remaining:\n",
    "                xf = X.iloc[:, f] if isinstance(X, pd.DataFrame) else X[:, f]\n",
    "                xs = X.iloc[:, s] if isinstance(X, pd.DataFrame) else X[:, s]\n",
    "                corr = np.corrcoef(xf, xs)[0,1]\n",
    "                red_vals.append(corr)\n",
    "        redundancy = np.nanmean(red_vals) if red_vals else 0\n",
    "        scores = relevance - redundancy\n",
    "        if len(scores) == 0:\n",
    "            break\n",
    "        nxt = remaining[np.argmax(scores)]\n",
    "        selected.append(nxt)\n",
    "        remaining.remove(nxt)\n",
    "\n",
    "    return selected\n",
    "\n",
    "\n",
    "def embedded_lasso_selection(X, y, sample_weight=None, random_state=1):\n",
    "    \"\"\"Performs feature selection using weighted LASSO regression.\"\"\"\n",
    "    np.random.seed(random_state)\n",
    "    y = y.ravel()\n",
    "\n",
    "    scaler = StandardScaler()\n",
    "    Xs = scaler.fit_transform(X)\n",
    "\n",
    "    lasso = LassoCV(cv=5, max_iter=10000, random_state=random_state)\n",
    "    # Pass sample_weight to respect IPW in both CV and penalty\n",
    "    lasso.fit(Xs, y, sample_weight=sample_weight)\n",
    "\n",
    "    return np.where(lasso.coef_ != 0)[0]\n",
    "\n",
    "\n",
    "def mrmr_lasso_pipeline(X, y, ipw_weights=None, desired_n_features=13, buffer_mrmr=30, random_state=1):\n",
    "    \"\"\"\n",
    "    Combines unweighted mRMR MI and weighted LASSO to select features.\n",
    "    - ipw_weights: array-like of sample weights (inverse-probabilities)\n",
    "    - desired_n_features: final number of features\n",
    "    - buffer_mrmr: number of top mRMR features to feed into LASSO\n",
    "    \"\"\"\n",
    "    np.random.seed(random_state)\n",
    "    # flatten y\n",
    "    y_arr = y.values.ravel() if hasattr(y, 'values') else y.ravel()\n",
    "\n",
    "    # Step 1: mRMR (unweighted)\n",
    "    top_mrmr = mrmr_feature_selection(X, y_arr, buffer_mrmr, random_state=random_state)\n",
    "    X_mrmr = X.iloc[:, top_mrmr] if hasattr(X, 'iloc') else X[:, top_mrmr]\n",
    "\n",
    "    # Step 2: weighted LASSO\n",
    "    lasso_idx = embedded_lasso_selection(X_mrmr, y_arr, sample_weight=ipw_weights, random_state=random_state)\n",
    "    final = [top_mrmr[i] for i in lasso_idx]\n",
    "\n",
    "    # Step 3: ensure exact number of features\n",
    "    if len(final) < desired_n_features:\n",
    "        for feat in top_mrmr:\n",
    "            if feat not in final:\n",
    "                final.append(feat)\n",
    "            if len(final) == desired_n_features:\n",
    "                break\n",
    "    else:\n",
    "        final = final[:desired_n_features]\n",
    "\n",
    "    return final\n"
   ]
  },
  {
   "cell_type": "code",
   "execution_count": 109,
   "id": "7c5cff3a",
   "metadata": {},
   "outputs": [
    {
     "name": "stdout",
     "output_type": "stream",
     "text": [
      "Selected Feature Indices: [0, 20, 3, 4, 2, 12, 13, 19, 1, 17, 6, 9, 5]\n"
     ]
    }
   ],
   "source": [
    "final_selected_features = mrmr_lasso_pipeline(X_train, y_train, ipw_weights = w_train, random_state = 1)\n",
    "\n",
    "print(\"Selected Feature Indices:\", final_selected_features)"
   ]
  },
  {
   "cell_type": "code",
   "execution_count": 111,
   "id": "7619fac6",
   "metadata": {},
   "outputs": [],
   "source": [
    "X_train = X_train.iloc[:, [0, 20, 3, 4, 2, 12, 13, 19, 1, 17, 6, 9, 5]]"
   ]
  },
  {
   "cell_type": "markdown",
   "id": "31a26f0a-0c4c-42a1-9169-d01e3ba8fba2",
   "metadata": {},
   "source": [
    "## GridSearchCV"
   ]
  },
  {
   "cell_type": "code",
   "execution_count": 114,
   "id": "89238113-238a-4826-8488-59f26b028bdb",
   "metadata": {},
   "outputs": [
    {
     "name": "stdout",
     "output_type": "stream",
     "text": [
      "Fitting 3 folds for each of 80 candidates, totalling 240 fits\n",
      "Best parameters: {'C': 10, 'gamma': 'scale', 'kernel': 'rbf'}\n",
      "Best recall: 0.8361581920903954\n"
     ]
    }
   ],
   "source": [
    "# Define the parameter grid\n",
    "param_grid = {\n",
    "    'C': [0.1, 1, 10, 100],  # Regularization\n",
    "    'kernel': ['linear', 'rbf', 'poly', 'sigmoid'],  # Different kernel types\n",
    "    'gamma': ['scale', 'auto', 0.01, 0.1, 1],  # Kernel coefficient\n",
    "}\n",
    "\n",
    "# Define the model\n",
    "svc = SVC()\n",
    "\n",
    "# Perform GridSearchCV\n",
    "grid_search = GridSearchCV(svc, param_grid, cv=3, scoring='f1', verbose=1, n_jobs=-1)\n",
    "grid_search.fit(X_val, y_val)\n",
    "\n",
    "\n",
    "# Best parameters and score\n",
    "print(\"Best parameters:\", grid_search.best_params_)\n",
    "print(\"Best recall:\", grid_search.best_score_)"
   ]
  },
  {
   "cell_type": "code",
   "execution_count": 116,
   "id": "f17d7fbe",
   "metadata": {},
   "outputs": [],
   "source": [
    "svc_norm = SVC(C = 10, gamma = 'scale', kernel = 'rbf', random_state = 1, probability = True)\n",
    "\n",
    "svc_norm.fit(X_train, y_train, sample_weight = w_train)\n",
    "\n",
    "X_test = X_test.iloc[:, [0, 20, 3, 4, 2, 12, 13, 19, 1, 17, 6, 9, 5]]"
   ]
  },
  {
   "cell_type": "code",
   "execution_count": 118,
   "id": "83e386cb",
   "metadata": {},
   "outputs": [
    {
     "name": "stdout",
     "output_type": "stream",
     "text": [
      "Confusion Matrix: [[49  0]\n",
      " [35  0]]\n",
      "Accuracy: 0.5833333333333334\n",
      "Sensitivity: 0.0\n"
     ]
    }
   ],
   "source": [
    "prediction = svc_norm.predict(X_test)\n",
    "print(f'Confusion Matrix: {confusion_matrix(y_test, prediction)}')\n",
    "print(f'Accuracy: {accuracy_score(y_test, prediction)}')\n",
    "print(f'Sensitivity: {recall_score(y_test, prediction)}')"
   ]
  },
  {
   "cell_type": "code",
   "execution_count": 120,
   "id": "b730258f",
   "metadata": {},
   "outputs": [
    {
     "name": "stderr",
     "output_type": "stream",
     "text": [
      "/Users/mollydonaghey/opt/anaconda3/lib/python3.9/site-packages/sklearn/metrics/_classification.py:1471: UndefinedMetricWarning: Recall is ill-defined and being set to 0.0 due to no true samples. Use `zero_division` parameter to control this behavior.\n",
      "  _warn_prf(average, modifier, msg_start, len(result))\n"
     ]
    }
   ],
   "source": [
    "results_df = pd.DataFrame({\n",
    "    'demographic': X_test['demographic'],\n",
    "    'actual': y_test,\n",
    "    'predicted': prediction\n",
    "})\n",
    "\n",
    "# Compute accuracy per demographic\n",
    "accuracy_per_demo_IW = results_df.groupby('demographic').apply(\n",
    "    lambda x: accuracy_score(x['actual'], x['predicted'])\n",
    ")\n",
    "\n",
    "# Compute sensitivity per demographic\n",
    "sensitivity_per_demo_IW = results_df.groupby('demographic').apply(\n",
    "    lambda x: recall_score(x['actual'], x['predicted'])\n",
    ")"
   ]
  },
  {
   "cell_type": "code",
   "execution_count": 122,
   "id": "5c1c3710",
   "metadata": {},
   "outputs": [
    {
     "data": {
      "text/html": [
       "<div>\n",
       "<style scoped>\n",
       "    .dataframe tbody tr th:only-of-type {\n",
       "        vertical-align: middle;\n",
       "    }\n",
       "\n",
       "    .dataframe tbody tr th {\n",
       "        vertical-align: top;\n",
       "    }\n",
       "\n",
       "    .dataframe thead th {\n",
       "        text-align: right;\n",
       "    }\n",
       "</style>\n",
       "<table border=\"1\" class=\"dataframe\">\n",
       "  <thead>\n",
       "    <tr style=\"text-align: right;\">\n",
       "      <th></th>\n",
       "      <th>Demographic</th>\n",
       "      <th>Accuracy</th>\n",
       "    </tr>\n",
       "  </thead>\n",
       "  <tbody>\n",
       "    <tr>\n",
       "      <th>0</th>\n",
       "      <td>1</td>\n",
       "      <td>1.000000</td>\n",
       "    </tr>\n",
       "    <tr>\n",
       "      <th>1</th>\n",
       "      <td>5</td>\n",
       "      <td>0.937500</td>\n",
       "    </tr>\n",
       "    <tr>\n",
       "      <th>2</th>\n",
       "      <td>9</td>\n",
       "      <td>0.375000</td>\n",
       "    </tr>\n",
       "    <tr>\n",
       "      <th>3</th>\n",
       "      <td>10</td>\n",
       "      <td>0.333333</td>\n",
       "    </tr>\n",
       "    <tr>\n",
       "      <th>4</th>\n",
       "      <td>13</td>\n",
       "      <td>0.300000</td>\n",
       "    </tr>\n",
       "    <tr>\n",
       "      <th>5</th>\n",
       "      <td>14</td>\n",
       "      <td>0.000000</td>\n",
       "    </tr>\n",
       "    <tr>\n",
       "      <th>6</th>\n",
       "      <td>21</td>\n",
       "      <td>0.909091</td>\n",
       "    </tr>\n",
       "    <tr>\n",
       "      <th>7</th>\n",
       "      <td>25</td>\n",
       "      <td>0.846154</td>\n",
       "    </tr>\n",
       "    <tr>\n",
       "      <th>8</th>\n",
       "      <td>29</td>\n",
       "      <td>0.200000</td>\n",
       "    </tr>\n",
       "    <tr>\n",
       "      <th>9</th>\n",
       "      <td>30</td>\n",
       "      <td>0.000000</td>\n",
       "    </tr>\n",
       "  </tbody>\n",
       "</table>\n",
       "</div>"
      ],
      "text/plain": [
       "   Demographic  Accuracy\n",
       "0            1  1.000000\n",
       "1            5  0.937500\n",
       "2            9  0.375000\n",
       "3           10  0.333333\n",
       "4           13  0.300000\n",
       "5           14  0.000000\n",
       "6           21  0.909091\n",
       "7           25  0.846154\n",
       "8           29  0.200000\n",
       "9           30  0.000000"
      ]
     },
     "execution_count": 122,
     "metadata": {},
     "output_type": "execute_result"
    }
   ],
   "source": [
    "accuracy_per_demo_IW = pd.DataFrame(accuracy_per_demo_IW)\n",
    "accuracy_per_demo_IW.reset_index(inplace = True)\n",
    "accuracy_per_demo_IW.columns  = ['Demographic', 'Accuracy']\n",
    "accuracy_per_demo_IW"
   ]
  },
  {
   "cell_type": "code",
   "execution_count": 124,
   "id": "a438bd98-80ef-4d50-a904-676ebce5c780",
   "metadata": {},
   "outputs": [
    {
     "data": {
      "text/html": [
       "<div>\n",
       "<style scoped>\n",
       "    .dataframe tbody tr th:only-of-type {\n",
       "        vertical-align: middle;\n",
       "    }\n",
       "\n",
       "    .dataframe tbody tr th {\n",
       "        vertical-align: top;\n",
       "    }\n",
       "\n",
       "    .dataframe thead th {\n",
       "        text-align: right;\n",
       "    }\n",
       "</style>\n",
       "<table border=\"1\" class=\"dataframe\">\n",
       "  <thead>\n",
       "    <tr style=\"text-align: right;\">\n",
       "      <th></th>\n",
       "      <th>Demographic</th>\n",
       "      <th>Sensitivity</th>\n",
       "    </tr>\n",
       "  </thead>\n",
       "  <tbody>\n",
       "    <tr>\n",
       "      <th>0</th>\n",
       "      <td>1</td>\n",
       "      <td>0.0</td>\n",
       "    </tr>\n",
       "    <tr>\n",
       "      <th>1</th>\n",
       "      <td>5</td>\n",
       "      <td>0.0</td>\n",
       "    </tr>\n",
       "    <tr>\n",
       "      <th>2</th>\n",
       "      <td>9</td>\n",
       "      <td>0.0</td>\n",
       "    </tr>\n",
       "    <tr>\n",
       "      <th>3</th>\n",
       "      <td>10</td>\n",
       "      <td>0.0</td>\n",
       "    </tr>\n",
       "    <tr>\n",
       "      <th>4</th>\n",
       "      <td>13</td>\n",
       "      <td>0.0</td>\n",
       "    </tr>\n",
       "    <tr>\n",
       "      <th>5</th>\n",
       "      <td>14</td>\n",
       "      <td>0.0</td>\n",
       "    </tr>\n",
       "    <tr>\n",
       "      <th>6</th>\n",
       "      <td>21</td>\n",
       "      <td>0.0</td>\n",
       "    </tr>\n",
       "    <tr>\n",
       "      <th>7</th>\n",
       "      <td>25</td>\n",
       "      <td>0.0</td>\n",
       "    </tr>\n",
       "    <tr>\n",
       "      <th>8</th>\n",
       "      <td>29</td>\n",
       "      <td>0.0</td>\n",
       "    </tr>\n",
       "    <tr>\n",
       "      <th>9</th>\n",
       "      <td>30</td>\n",
       "      <td>0.0</td>\n",
       "    </tr>\n",
       "  </tbody>\n",
       "</table>\n",
       "</div>"
      ],
      "text/plain": [
       "   Demographic  Sensitivity\n",
       "0            1          0.0\n",
       "1            5          0.0\n",
       "2            9          0.0\n",
       "3           10          0.0\n",
       "4           13          0.0\n",
       "5           14          0.0\n",
       "6           21          0.0\n",
       "7           25          0.0\n",
       "8           29          0.0\n",
       "9           30          0.0"
      ]
     },
     "execution_count": 124,
     "metadata": {},
     "output_type": "execute_result"
    }
   ],
   "source": [
    "sensitivity_per_demo_IW = pd.DataFrame(sensitivity_per_demo_IW)\n",
    "sensitivity_per_demo_IW.reset_index(inplace = True)\n",
    "sensitivity_per_demo_IW.columns  = ['Demographic', 'Sensitivity']\n",
    "sensitivity_per_demo_IW"
   ]
  },
  {
   "cell_type": "markdown",
   "id": "d144f7ce-762d-4dbf-9d00-421eec32b9b7",
   "metadata": {},
   "source": [
    "## ROC curve"
   ]
  },
  {
   "cell_type": "code",
   "execution_count": 127,
   "id": "f954baa4-6b6d-43c4-8699-f1cf8caeb1c1",
   "metadata": {},
   "outputs": [
    {
     "data": {
      "image/png": "[encoded data removed]",
      "text/plain": [
       "<Figure size 640x480 with 1 Axes>"
      ]
     },
     "metadata": {},
     "output_type": "display_data"
    }
   ],
   "source": [
    "from sklearn.metrics import roc_curve, auc\n",
    "\n",
    "# Compute ROC curve\n",
    "fpr, tpr, thresholds = roc_curve(results_df['actual'], results_df['predicted'])\n",
    "\n",
    "# Compute AUC (Area Under Curve)\n",
    "roc_auc = auc(fpr, tpr)\n",
    "\n",
    "# Plotting\n",
    "plt.figure()\n",
    "plt.plot(fpr, tpr, color='darkorange', lw=2, label=f'ROC curve (AUC = {roc_auc:.2f})')\n",
    "plt.plot([0, 1], [0, 1], color='navy', lw=2, linestyle='--')  # chance line\n",
    "plt.xlabel('False Positive Rate')\n",
    "plt.ylabel('True Positive Rate')\n",
    "plt.title('ROC Curve IW and SVM')\n",
    "plt.legend(loc=\"lower right\")\n",
    "plt.grid(True)\n",
    "plt.show()"
   ]
  },
  {
   "cell_type": "code",
   "execution_count": 129,
   "id": "3f7be7a8-751c-4838-b0fe-cd570303fdb1",
   "metadata": {},
   "outputs": [
    {
     "name": "stderr",
     "output_type": "stream",
     "text": [
      "/Users/mollydonaghey/opt/anaconda3/lib/python3.9/site-packages/sklearn/metrics/_ranking.py:1133: UndefinedMetricWarning: No positive samples in y_true, true positive value should be meaningless\n",
      "  warnings.warn(\n",
      "/Users/mollydonaghey/opt/anaconda3/lib/python3.9/site-packages/sklearn/metrics/_ranking.py:1124: UndefinedMetricWarning: No negative samples in y_true, false positive value should be meaningless\n",
      "  warnings.warn(\n",
      "/Users/mollydonaghey/opt/anaconda3/lib/python3.9/site-packages/sklearn/metrics/_ranking.py:1124: UndefinedMetricWarning: No negative samples in y_true, false positive value should be meaningless\n",
      "  warnings.warn(\n"
     ]
    },
    {
     "data": {
      "text/html": [
       "<div>\n",
       "<style scoped>\n",
       "    .dataframe tbody tr th:only-of-type {\n",
       "        vertical-align: middle;\n",
       "    }\n",
       "\n",
       "    .dataframe tbody tr th {\n",
       "        vertical-align: top;\n",
       "    }\n",
       "\n",
       "    .dataframe thead th {\n",
       "        text-align: right;\n",
       "    }\n",
       "</style>\n",
       "<table border=\"1\" class=\"dataframe\">\n",
       "  <thead>\n",
       "    <tr style=\"text-align: right;\">\n",
       "      <th></th>\n",
       "      <th>AUC</th>\n",
       "    </tr>\n",
       "  </thead>\n",
       "  <tbody>\n",
       "    <tr>\n",
       "      <th>1</th>\n",
       "      <td>NaN</td>\n",
       "    </tr>\n",
       "    <tr>\n",
       "      <th>5</th>\n",
       "      <td>0.5</td>\n",
       "    </tr>\n",
       "    <tr>\n",
       "      <th>9</th>\n",
       "      <td>0.5</td>\n",
       "    </tr>\n",
       "    <tr>\n",
       "      <th>10</th>\n",
       "      <td>0.5</td>\n",
       "    </tr>\n",
       "    <tr>\n",
       "      <th>13</th>\n",
       "      <td>0.5</td>\n",
       "    </tr>\n",
       "    <tr>\n",
       "      <th>14</th>\n",
       "      <td>NaN</td>\n",
       "    </tr>\n",
       "    <tr>\n",
       "      <th>21</th>\n",
       "      <td>0.5</td>\n",
       "    </tr>\n",
       "    <tr>\n",
       "      <th>25</th>\n",
       "      <td>0.5</td>\n",
       "    </tr>\n",
       "    <tr>\n",
       "      <th>29</th>\n",
       "      <td>0.5</td>\n",
       "    </tr>\n",
       "    <tr>\n",
       "      <th>30</th>\n",
       "      <td>NaN</td>\n",
       "    </tr>\n",
       "  </tbody>\n",
       "</table>\n",
       "</div>"
      ],
      "text/plain": [
       "    AUC\n",
       "1   NaN\n",
       "5   0.5\n",
       "9   0.5\n",
       "10  0.5\n",
       "13  0.5\n",
       "14  NaN\n",
       "21  0.5\n",
       "25  0.5\n",
       "29  0.5\n",
       "30  NaN"
      ]
     },
     "execution_count": 129,
     "metadata": {},
     "output_type": "execute_result"
    }
   ],
   "source": [
    "from sklearn.metrics import roc_curve, auc\n",
    "\n",
    "# Create an empty dictionary to hold the AUC for each demographic\n",
    "auc_per_demo = {}\n",
    "\n",
    "# Group by demographic and compute AUC for each group\n",
    "for demo, group in results_df.groupby('demographic'):\n",
    "    fpr, tpr, _ = roc_curve(group['actual'], group['predicted'])\n",
    "    auc_score = auc(fpr, tpr)\n",
    "    auc_per_demo[demo] = auc_score\n",
    "\n",
    "auc_per_demo_df = pd.DataFrame.from_dict(auc_per_demo, orient='index', columns=['AUC'])\n",
    "auc_per_demo_df\n",
    "\n",
    "### All due to chance ###"
   ]
  }
 ],
 "metadata": {
  "kernelspec": {
   "display_name": "Python [conda env:anaconda3]",
   "language": "python",
   "name": "conda-env-anaconda3-py"
  },
  "language_info": {
   "codemirror_mode": {
    "name": "ipython",
    "version": 3
   },
   "file_extension": ".py",
   "mimetype": "text/x-python",
   "name": "python",
   "nbconvert_exporter": "python",
   "pygments_lexer": "ipython3",
   "version": "3.9.13"
  }
 },
 "nbformat": 4,
 "nbformat_minor": 5
}
