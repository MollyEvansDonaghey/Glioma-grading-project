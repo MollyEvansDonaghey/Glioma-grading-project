{
 "cells": [
  {
   "cell_type": "code",
   "execution_count": 2,
   "id": "2efa1709",
   "metadata": {},
   "outputs": [],
   "source": [
    "from imblearn.over_sampling import SMOTE\n",
    "from sklearn.svm import SVC\n",
    "from sklearn.metrics import confusion_matrix, accuracy_score\n",
    "from sklearn.model_selection import train_test_split\n",
    "from sklearn.model_selection import GridSearchCV\n",
    "from imblearn.over_sampling import ADASYN\n",
    "import pandas as pd\n",
    "from sklearn.preprocessing import LabelEncoder\n",
    "import matplotlib.pyplot as plt\n",
    "import numpy as np\n",
    "import seaborn as sns\n",
    "from sklearn.inspection import permutation_importance\n",
    "from sklearn.metrics import recall_score"
   ]
  },
  {
   "cell_type": "code",
   "execution_count": 3,
   "id": "b3f71dc0",
   "metadata": {},
   "outputs": [],
   "source": [
    "from ucimlrepo import fetch_ucirepo \n",
    "  \n",
    "# fetch dataset \n",
    "glioma_grading_clinical_and_mutation_features = fetch_ucirepo(id=759) \n",
    "  \n",
    "# data (as pandas dataframes) \n",
    "X = glioma_grading_clinical_and_mutation_features.data.features \n",
    "y = glioma_grading_clinical_and_mutation_features.data.targets "
   ]
  },
  {
   "cell_type": "code",
   "execution_count": 4,
   "id": "a22a84c7",
   "metadata": {},
   "outputs": [
    {
     "name": "stderr",
     "output_type": "stream",
     "text": [
      "/var/folders/hf/3rv_98fd6y5b8tx745n5n1s00000gn/T/ipykernel_4907/2568762353.py:11: SettingWithCopyWarning: \n",
      "A value is trying to be set on a copy of a slice from a DataFrame.\n",
      "Try using .loc[row_indexer,col_indexer] = value instead\n",
      "\n",
      "See the caveats in the documentation: https://pandas.pydata.org/pandas-docs/stable/user_guide/indexing.html#returning-a-view-versus-a-copy\n",
      "  X['Age_class_at_diagnosis'] = X['Age_at_diagnosis'].apply(categorise_age)\n"
     ]
    }
   ],
   "source": [
    "def categorise_age(age):\n",
    "    if age <= 19:\n",
    "        return \"Paediatric\"\n",
    "    elif 20 <= age <= 39:\n",
    "        return \"Young Adult\"\n",
    "    elif 40 <= age <= 64:\n",
    "        return \"Adult\"\n",
    "    else:\n",
    "        return \"Elderly\"\n",
    "\n",
    "X['Age_class_at_diagnosis'] = X['Age_at_diagnosis'].apply(categorise_age)"
   ]
  },
  {
   "cell_type": "code",
   "execution_count": 5,
   "id": "8da4331e",
   "metadata": {},
   "outputs": [
    {
     "name": "stderr",
     "output_type": "stream",
     "text": [
      "/var/folders/hf/3rv_98fd6y5b8tx745n5n1s00000gn/T/ipykernel_4907/1515168427.py:3: SettingWithCopyWarning: \n",
      "A value is trying to be set on a copy of a slice from a DataFrame.\n",
      "Try using .loc[row_indexer,col_indexer] = value instead\n",
      "\n",
      "See the caveats in the documentation: https://pandas.pydata.org/pandas-docs/stable/user_guide/indexing.html#returning-a-view-versus-a-copy\n",
      "  X['Gender'] = X['Gender'].map(gender_mapping)\n"
     ]
    }
   ],
   "source": [
    "gender_mapping = {0 : 'Male', 1 : 'Female'}\n",
    "\n",
    "X['Gender'] = X['Gender'].map(gender_mapping)"
   ]
  },
  {
   "cell_type": "code",
   "execution_count": 6,
   "id": "b61c09bf",
   "metadata": {},
   "outputs": [],
   "source": [
    "X['demographic'] = X['Gender'] + ', ' + X['Race'] + ', ' + X['Age_class_at_diagnosis']\n",
    "X.drop(columns = [\"Age_class_at_diagnosis\", \"Gender\", \"Race\", \"Age_at_diagnosis\"], inplace = True)"
   ]
  },
  {
   "cell_type": "code",
   "execution_count": 7,
   "id": "b9d04a62",
   "metadata": {},
   "outputs": [],
   "source": [
    "demo_mapping = {\n",
    " 'male, white, paediatric': 1,\n",
    " 'male, black or african american, paediatric': 2,\n",
    " 'male, asian, paediatric': 3,\n",
    " 'male, american indian or alaska native, paediatric': 4,\n",
    " 'male, white, young adult': 5,\n",
    " 'male, black or african american, young adult': 6,\n",
    " 'male, asian, young adult': 7,\n",
    " 'male, american indian or alaska native, young adult': 8,\n",
    " 'male, white, adult': 9,\n",
    " 'male, black or african american, adult': 10,\n",
    " 'male, asian, adult': 11,\n",
    " 'male, american indian or alaska native, adult': 12,\n",
    " 'male, white, elderly': 13,\n",
    " 'male, black or african american, elderly': 14,\n",
    " 'male, asian, elderly': 15,\n",
    " 'male, american indian or alaska native, elderly': 16,\n",
    " 'female, white, paediatric': 17,\n",
    " 'female, black or african american, paediatric': 18,\n",
    " 'female, asian, paediatric': 19,\n",
    " 'female, american indian or alaska native, paediatric': 20,\n",
    " 'female, white, young adult': 21,\n",
    " 'female, black or african american, young adult': 22,\n",
    " 'female, asian, young adult': 23,\n",
    " 'female, american indian or alaska native, young adult': 24,\n",
    " 'female, white, adult': 25,\n",
    " 'female, black or african american, adult': 26,\n",
    " 'female, asian, adult': 27,\n",
    " 'female, american indian or alaska native, adult': 28,\n",
    " 'female, white, elderly': 29,\n",
    " 'female, black or african american, elderly': 30,\n",
    " 'female, asian, elderly': 31,\n",
    " 'female, american indian or alaska native, elderly': 32\n",
    "}\n",
    "\n",
    "\n",
    "\n",
    "X['demographic'] = X['demographic'].str.lower().map(demo_mapping)"
   ]
  },
  {
   "cell_type": "markdown",
   "id": "e29d2158-fc6a-49bc-baa9-02c762fad722",
   "metadata": {},
   "source": [
    "## Removing the White population from the training set for feature selection"
   ]
  },
  {
   "cell_type": "code",
   "execution_count": 9,
   "id": "eabe8085-1b00-4572-99b3-729cd66b8813",
   "metadata": {},
   "outputs": [],
   "source": [
    "X_no_white = X[~X['demographic'].isin([1, 5, 9, 13, 17, 21, 25, 29])]\n",
    "y_no_white = y[y.index.isin(X_no_white.index)]"
   ]
  },
  {
   "cell_type": "markdown",
   "id": "b6d254ca",
   "metadata": {},
   "source": [
    "## Splitting the data for feature selection"
   ]
  },
  {
   "cell_type": "code",
   "execution_count": 11,
   "id": "fd793958",
   "metadata": {},
   "outputs": [],
   "source": [
    "## Splitting the dataset 25:75\n",
    "X_train_no_white, X_test_no_white, y_train_no_white, y_test_no_white = train_test_split(X_no_white, y_no_white, test_size = 0.1, random_state = 1)\n",
    "X_train_no_white, X_val_no_white, y_train_no_white, y_val_no_white = train_test_split(X_train_no_white, y_train_no_white, test_size = 0.25, random_state = 1)\n",
    "\n",
    "\n",
    "\n",
    "y_test_no_white = y_test_no_white.values.ravel()\n",
    "y_train_no_white = y_train_no_white.values.ravel()"
   ]
  },
  {
   "cell_type": "markdown",
   "id": "0a96dbba",
   "metadata": {},
   "source": [
    "## Feature selection"
   ]
  },
  {
   "cell_type": "code",
   "execution_count": 13,
   "id": "ed48a43d",
   "metadata": {},
   "outputs": [],
   "source": [
    "from sklearn.feature_selection import mutual_info_classif\n",
    "from sklearn.linear_model import LassoCV\n",
    "from sklearn.preprocessing import StandardScaler\n",
    "\n",
    "def mrmr_feature_selection(X, y, n_features, random_state=1):\n",
    "    \"\"\"Performs mRMR feature selection.\"\"\"\n",
    "    np.random.seed(random_state)  # Set random state\n",
    "    y = y.ravel()  # Ensure y is a 1D array\n",
    "\n",
    "    mi = mutual_info_classif(X, y, random_state=random_state)  # Compute mutual information\n",
    "    selected_features = []\n",
    "    remaining_features = list(range(X.shape[1]))\n",
    "\n",
    "    # Select the most relevant feature first\n",
    "    first_feature = np.argmax(mi)\n",
    "    selected_features.append(first_feature)\n",
    "    remaining_features.remove(first_feature)\n",
    "\n",
    "    # Iteratively select remaining features\n",
    "    for _ in range(min(n_features - 1, len(remaining_features))):\n",
    "        relevance = mi[remaining_features]\n",
    "\n",
    "        # Compute redundancy safely\n",
    "        redundancy_values = []\n",
    "        for sel in selected_features:\n",
    "            for f in remaining_features:\n",
    "                corr = np.corrcoef(\n",
    "                    X.iloc[:, f] if isinstance(X, pd.DataFrame) else X[:, f],\n",
    "                    X.iloc[:, sel] if isinstance(X, pd.DataFrame) else X[:, sel]\n",
    "                )[0, 1]\n",
    "                redundancy_values.append(corr)\n",
    "\n",
    "        redundancy = np.nanmean(redundancy_values) if redundancy_values else 0  # Avoid NaN issues\n",
    "        score = relevance - redundancy  # Compute mRMR score\n",
    "\n",
    "        if len(score) == 0:\n",
    "            break  # Prevent empty sequence error\n",
    "\n",
    "        next_feature = remaining_features[np.argmax(score)]\n",
    "        selected_features.append(next_feature)\n",
    "        remaining_features.remove(next_feature)\n",
    "\n",
    "    return selected_features\n",
    "\n",
    "def embedded_lasso_selection(X, y, random_state=1):\n",
    "    \"\"\"Performs feature selection using LASSO regression.\"\"\"\n",
    "    np.random.seed(random_state)  # Set random state\n",
    "    y = y.ravel()  # Ensure y is a 1D array\n",
    "    scaler = StandardScaler()\n",
    "    X_scaled = scaler.fit_transform(X)\n",
    "\n",
    "    lasso = LassoCV(cv=5, max_iter=10000, random_state=random_state)\n",
    "    lasso.fit(X_scaled, y)\n",
    "\n",
    "    selected_features = np.where(lasso.coef_ != 0)[0]\n",
    "    return selected_features\n",
    "\n",
    "def mrmr_lasso_pipeline(X, y, top_n_mrmr=20, random_state=1):\n",
    "    \"\"\"Pipeline combining mRMR and embedded LASSO feature selection.\"\"\"\n",
    "    np.random.seed(random_state)  # Set random state\n",
    "    y = y.values.ravel()  # Ensure y is 1D\n",
    "    selected_mrmr = mrmr_feature_selection(X, y, top_n_mrmr, random_state=random_state)\n",
    "    \n",
    "    # Ensure indexing works for both Pandas and NumPy\n",
    "    X_mrmr = X.iloc[:, selected_mrmr] if isinstance(X, pd.DataFrame) else X[:, selected_mrmr]\n",
    "\n",
    "    selected_lasso = embedded_lasso_selection(X_mrmr, y, random_state=random_state)\n",
    "    final_features = [selected_mrmr[i] for i in selected_lasso]\n",
    "\n",
    "    return final_features"
   ]
  },
  {
   "cell_type": "code",
   "execution_count": 14,
   "id": "87146141",
   "metadata": {},
   "outputs": [],
   "source": [
    "def mrmr_lasso_pipeline(X, y, desired_n_features=13, buffer_mrmr=30, random_state=1):\n",
    "    \"\"\"\n",
    "    Selects exactly `desired_n_features` using mRMR followed by LASSO.\n",
    "    `buffer_mrmr` should be greater than `desired_n_features` to give LASSO enough features to choose from.\n",
    "    \"\"\"\n",
    "    np.random.seed(random_state)\n",
    "    y = y.values.ravel() if hasattr(y, 'values') else y.ravel()\n",
    "    \n",
    "    # Step 1: Run mRMR with more than desired features\n",
    "    selected_mrmr = mrmr_feature_selection(X, y, buffer_mrmr, random_state=random_state)\n",
    "    X_mrmr = X.iloc[:, selected_mrmr] if isinstance(X, pd.DataFrame) else X[:, selected_mrmr]\n",
    "\n",
    "    # Step 2: Run LASSO to refine\n",
    "    selected_lasso = embedded_lasso_selection(X_mrmr, y, random_state=random_state)\n",
    "\n",
    "    # Step 3: Map back to original feature indices\n",
    "    final_features = [selected_mrmr[i] for i in selected_lasso]\n",
    "\n",
    "    # Step 4: Ensure we return exactly desired_n_features\n",
    "    if len(final_features) < desired_n_features:\n",
    "        # Fill remaining features based on mRMR ranking not yet selected\n",
    "        for feat in selected_mrmr:\n",
    "            if feat not in final_features:\n",
    "                final_features.append(feat)\n",
    "            if len(final_features) == desired_n_features:\n",
    "                break\n",
    "    else:\n",
    "        final_features = final_features[:desired_n_features]\n",
    "\n",
    "    return final_features\n"
   ]
  },
  {
   "cell_type": "code",
   "execution_count": 15,
   "id": "0bde1fb3",
   "metadata": {},
   "outputs": [
    {
     "name": "stderr",
     "output_type": "stream",
     "text": [
      "/Users/mollydonaghey/opt/anaconda3/lib/python3.9/site-packages/numpy/lib/function_base.py:2897: RuntimeWarning: invalid value encountered in divide\n",
      "  c /= stddev[:, None]\n",
      "/Users/mollydonaghey/opt/anaconda3/lib/python3.9/site-packages/numpy/lib/function_base.py:2898: RuntimeWarning: invalid value encountered in divide\n",
      "  c /= stddev[None, :]\n"
     ]
    },
    {
     "name": "stdout",
     "output_type": "stream",
     "text": [
      "Selected Feature Indices: [0, 3, 1, 10, 2, 7, 8, 11, 17, 20, 5, 12, 6]\n"
     ]
    }
   ],
   "source": [
    "final_selected_features = mrmr_lasso_pipeline(X_train_no_white, y_train_no_white, random_state = 1)\n",
    "\n",
    "print(\"Selected Feature Indices:\", final_selected_features)"
   ]
  },
  {
   "cell_type": "markdown",
   "id": "01014169-eb6c-4175-b47c-6aa612bb5c1b",
   "metadata": {},
   "source": [
    "## Splitting for model training and testing"
   ]
  },
  {
   "cell_type": "code",
   "execution_count": 17,
   "id": "f82a3eb5-e48c-4765-8292-e413f4c80e96",
   "metadata": {},
   "outputs": [],
   "source": [
    "## Splitting the dataset 25:75\n",
    "X_train, X_test, y_train, y_test = train_test_split(X, y, test_size = 0.10, random_state = 1)\n",
    "X_train, X_val, y_train, y_val = train_test_split(X_train, y_train, test_size = 0.25, random_state = 1)\n",
    "\n",
    "\n",
    "y_test = y_test.values.ravel()\n",
    "y_train = y_train.values.ravel()"
   ]
  },
  {
   "cell_type": "code",
   "execution_count": 18,
   "id": "11caa4fc",
   "metadata": {},
   "outputs": [],
   "source": [
    "X_train = X_train.iloc[:, [0, 3, 1, 10, 2, 7, 8, 11, 17, 20, 5, 12, 6]]"
   ]
  },
  {
   "cell_type": "code",
   "execution_count": 20,
   "id": "e135b087",
   "metadata": {},
   "outputs": [],
   "source": [
    "import xgboost as xgb\n",
    "model = xgb.XGBClassifier(eval_metric='error')"
   ]
  },
  {
   "cell_type": "code",
   "execution_count": 21,
   "id": "89229a0e",
   "metadata": {},
   "outputs": [
    {
     "name": "stdout",
     "output_type": "stream",
     "text": [
      "Fitting 10 folds for each of 432 candidates, totalling 4320 fits\n",
      "Best Parameters: {'colsample_bytree': 0.6, 'learning_rate': 0.01, 'max_depth': 3, 'n_estimators': 200, 'subsample': 1.0}\n",
      "Best Score: 0.8701582387340903\n"
     ]
    }
   ],
   "source": [
    "# Define the parameter grid\n",
    "param_grid = {\n",
    "    'n_estimators': [20, 50, 100, 200],\n",
    "    'max_depth': [2, 3, 5, 7],\n",
    "    'learning_rate': [0.01, 0.1, 0.2],\n",
    "    'subsample': [0.6, 0.8, 1.0],\n",
    "    'colsample_bytree': [0.6, 0.8, 1.0]\n",
    "}\n",
    "\n",
    "# Set up GridSearchCV\n",
    "grid_search = GridSearchCV(\n",
    "    estimator=model,\n",
    "    param_grid=param_grid,\n",
    "    cv=10,\n",
    "    scoring='f1',\n",
    "    verbose=1,\n",
    "    n_jobs=-1\n",
    ")\n",
    "\n",
    "# Fit the model\n",
    "grid_search.fit(X_val, y_val)\n",
    "\n",
    "# Output best params and score\n",
    "print(\"Best Parameters:\", grid_search.best_params_)\n",
    "print(\"Best Score:\", grid_search.best_score_)"
   ]
  },
  {
   "cell_type": "code",
   "execution_count": 22,
   "id": "b1e52d9f",
   "metadata": {},
   "outputs": [
    {
     "name": "stdout",
     "output_type": "stream",
     "text": [
      "Accuracy: 0.77\n",
      "Sensitivity: 0.77\n"
     ]
    }
   ],
   "source": [
    "model = xgb.XGBClassifier(eval_metric='error', colsample_bytree = 0.6, learning_rate = 0.01, max_depth = 3, n_estimators = 200, subsample = 1.0)\n",
    "model.fit(X_train, y_train)\n",
    "\n",
    "# Make predictions\n",
    "X_test = X_test.iloc[:, [0, 3, 1, 10, 2, 7, 8, 11, 17, 20, 5, 12, 6]]\n",
    "prediction = model.predict(X_test)\n",
    "\n",
    "# Evaluate accuracy\n",
    "accuracy = accuracy_score(y_test, prediction)\n",
    "print(f\"Accuracy: {accuracy:.2f}\")\n",
    "\n",
    "sensitivity = recall_score(y_test, prediction)\n",
    "print(f\"Sensitivity: {sensitivity:.2f}\")\n"
   ]
  },
  {
   "cell_type": "code",
   "execution_count": 23,
   "id": "11b9e147",
   "metadata": {},
   "outputs": [
    {
     "name": "stderr",
     "output_type": "stream",
     "text": [
      "/Users/mollydonaghey/opt/anaconda3/lib/python3.9/site-packages/sklearn/metrics/_classification.py:1471: UndefinedMetricWarning: Recall is ill-defined and being set to 0.0 due to no true samples. Use `zero_division` parameter to control this behavior.\n",
      "  _warn_prf(average, modifier, msg_start, len(result))\n",
      "/Users/mollydonaghey/opt/anaconda3/lib/python3.9/site-packages/sklearn/metrics/_classification.py:1471: UndefinedMetricWarning: Recall is ill-defined and being set to 0.0 due to no true samples. Use `zero_division` parameter to control this behavior.\n",
      "  _warn_prf(average, modifier, msg_start, len(result))\n",
      "/Users/mollydonaghey/opt/anaconda3/lib/python3.9/site-packages/sklearn/metrics/_classification.py:1471: UndefinedMetricWarning: Recall is ill-defined and being set to 0.0 due to no true samples. Use `zero_division` parameter to control this behavior.\n",
      "  _warn_prf(average, modifier, msg_start, len(result))\n"
     ]
    }
   ],
   "source": [
    "results_df = pd.DataFrame({\n",
    "    'demographic': X_test['demographic'],\n",
    "    'actual': y_test,\n",
    "    'predicted': prediction\n",
    "})\n",
    "\n",
    "# Compute accuracy per demographic\n",
    "accuracy_per_demo_norm = results_df.groupby('demographic').apply(\n",
    "    lambda x: accuracy_score(x['actual'], x['predicted'])\n",
    ").reset_index()\n",
    "\n",
    "sensitivity_per_demo_norm = results_df.groupby('demographic').apply(\n",
    "    lambda x: recall_score(x['actual'], x['predicted'])\n",
    ").reset_index()"
   ]
  },
  {
   "cell_type": "code",
   "execution_count": 24,
   "id": "e842a771",
   "metadata": {},
   "outputs": [],
   "source": [
    "accuracy_per_demo_norm.columns = ['demographic', 'accuracy_norm']\n",
    "sensitivity_per_demo_norm.columns = ['demographic', 'sensitivity_norm']"
   ]
  },
  {
   "cell_type": "markdown",
   "id": "85065422",
   "metadata": {},
   "source": [
    "## SMOTE and XGBoost"
   ]
  },
  {
   "cell_type": "code",
   "execution_count": 26,
   "id": "ef962c00-39df-4834-9d8d-36104ede33e5",
   "metadata": {},
   "outputs": [],
   "source": [
    "## Splitting the dataset 25:75\n",
    "X_train, X_test, y_train, y_test = train_test_split(X, y, test_size = 0.10, random_state = 1)\n",
    "X_train, X_val, y_train, y_val = train_test_split(X_train, y_train, test_size = 0.25, random_state = 1)\n",
    "\n",
    "\n",
    "y_test = y_test.values.ravel()\n",
    "y_train = y_train.values.ravel()"
   ]
  },
  {
   "cell_type": "code",
   "execution_count": 27,
   "id": "774a0927",
   "metadata": {},
   "outputs": [],
   "source": [
    "import pandas as pd\n",
    "from sklearn.preprocessing import LabelEncoder\n",
    "\n",
    "# Assign y to X before balancing\n",
    "X_train['Grading'] = y_train\n",
    "\n",
    "# Define the minimum required samples per demographic group\n",
    "min_samples = 2\n",
    "\n",
    "# Ensure that each demographic has at least `min_samples` samples\n",
    "X_train_balanced = X_train.groupby('demographic', group_keys=False).apply(\n",
    "    lambda x: x if len(x) >= min_samples else x.sample(min_samples, replace=True)\n",
    ")\n",
    "\n",
    "# Extract demographic column\n",
    "demographic = X_train_balanced['demographic']\n",
    "\n",
    "# Extract features (excluding demographic and Grading)\n",
    "mutations_grading = X_train_balanced.drop(columns=['demographic'])\n",
    "\n",
    "# Extract the balanced target variable\n",
    "y_train_balanced = X_train_balanced['Grading']"
   ]
  },
  {
   "cell_type": "code",
   "execution_count": 28,
   "id": "73a270e0",
   "metadata": {},
   "outputs": [],
   "source": [
    "smote = SMOTE(k_neighbors=1, random_state=1, sampling_strategy='minority')\n",
    "mutations_grading_resampled, demographic_resampled = smote.fit_resample(mutations_grading, demographic)"
   ]
  },
  {
   "cell_type": "code",
   "execution_count": 38,
   "id": "6fb4dfb1",
   "metadata": {},
   "outputs": [],
   "source": [
    "df_train_resampled = mutations_grading_resampled\n",
    "df_train_resampled['demographic'] = demographic_resampled"
   ]
  },
  {
   "cell_type": "code",
   "execution_count": 42,
   "id": "09b8a47a-ef86-4459-a17a-da0df8429422",
   "metadata": {},
   "outputs": [],
   "source": [
    "y_train_resampled = df_train_resampled['Grading']\n",
    "X_train_resampled = df_train_resampled.drop(columns = 'Grading')"
   ]
  },
  {
   "cell_type": "markdown",
   "id": "925938be",
   "metadata": {},
   "source": [
    "### XGBoost"
   ]
  },
  {
   "cell_type": "code",
   "execution_count": 45,
   "id": "34747c34",
   "metadata": {},
   "outputs": [],
   "source": [
    "df_train_resampled_no_white = df_train_resampled[~ df_train_resampled['demographic'].isin([1,5,9,13,17,21,25,29])]\n",
    "y_train_resampled_no_white = df_train_resampled_no_white['Grading']\n",
    "X_train_resampled_no_white = df_train_resampled_no_white.drop(columns = 'Grading')"
   ]
  },
  {
   "cell_type": "code",
   "execution_count": 46,
   "id": "0b8e519d",
   "metadata": {},
   "outputs": [
    {
     "name": "stdout",
     "output_type": "stream",
     "text": [
      "Selected Feature Indices: [12, 6, 0, 15, 20, 3, 5, 9, 1, 2, 13, 17, 10]\n"
     ]
    },
    {
     "name": "stderr",
     "output_type": "stream",
     "text": [
      "/Users/mollydonaghey/opt/anaconda3/lib/python3.9/site-packages/numpy/lib/function_base.py:2897: RuntimeWarning: invalid value encountered in divide\n",
      "  c /= stddev[:, None]\n",
      "/Users/mollydonaghey/opt/anaconda3/lib/python3.9/site-packages/numpy/lib/function_base.py:2898: RuntimeWarning: invalid value encountered in divide\n",
      "  c /= stddev[None, :]\n",
      "/var/folders/hf/3rv_98fd6y5b8tx745n5n1s00000gn/T/ipykernel_4907/3042580012.py:33: RuntimeWarning: Mean of empty slice\n",
      "  redundancy = np.nanmean(redundancy_values) if redundancy_values else 0  # Avoid NaN issues\n"
     ]
    }
   ],
   "source": [
    "final_selected_features = mrmr_lasso_pipeline(X_train_resampled_no_white, y_train_resampled_no_white, random_state = 1)\n",
    "\n",
    "print(\"Selected Feature Indices:\", final_selected_features)"
   ]
  },
  {
   "cell_type": "code",
   "execution_count": 47,
   "id": "409a3c58",
   "metadata": {},
   "outputs": [],
   "source": [
    "## Splitting the dataset 10:90\n",
    "X_train_resampled = X_train_resampled.iloc[:, [12, 6, 0, 15, 20, 3, 5, 9, 1, 2, 13, 17, 10]]"
   ]
  },
  {
   "cell_type": "code",
   "execution_count": 48,
   "id": "81adc56a",
   "metadata": {},
   "outputs": [],
   "source": [
    "model = xgb.XGBClassifier(eval_metric='error')"
   ]
  },
  {
   "cell_type": "code",
   "execution_count": 49,
   "id": "f9fa39ee",
   "metadata": {},
   "outputs": [
    {
     "name": "stdout",
     "output_type": "stream",
     "text": [
      "Fitting 3 folds for each of 432 candidates, totalling 1296 fits\n",
      "Best Parameters: {'colsample_bytree': 0.8, 'learning_rate': 0.1, 'max_depth': 3, 'n_estimators': 20, 'subsample': 1.0}\n",
      "Best Score: 0.862432416013608\n"
     ]
    }
   ],
   "source": [
    "# Define the parameter grid\n",
    "param_grid = {\n",
    "    'n_estimators': [20, 50, 100, 200],\n",
    "    'max_depth': [2, 3, 5, 7],\n",
    "    'learning_rate': [0.01, 0.1, 0.2],\n",
    "    'subsample': [0.6, 0.8, 1.0],\n",
    "    'colsample_bytree': [0.6, 0.8, 1.0]\n",
    "}\n",
    "\n",
    "# Set up GridSearchCV\n",
    "grid_search = GridSearchCV(\n",
    "    estimator=model,\n",
    "    param_grid=param_grid,\n",
    "    cv=3,\n",
    "    scoring='f1',\n",
    "    verbose=1,\n",
    "    n_jobs=-1\n",
    ")\n",
    "\n",
    "# Fit the model\n",
    "grid_search.fit(X_val, y_val)\n",
    "\n",
    "# Output best params and score\n",
    "print(\"Best Parameters:\", grid_search.best_params_)\n",
    "print(\"Best Score:\", grid_search.best_score_)"
   ]
  },
  {
   "cell_type": "code",
   "execution_count": 50,
   "id": "baaf05f9",
   "metadata": {},
   "outputs": [
    {
     "name": "stdout",
     "output_type": "stream",
     "text": [
      "Accuracy: 0.79\n",
      "Sensitivity: 0.79\n"
     ]
    }
   ],
   "source": [
    "model = xgb.XGBClassifier(eval_metric='error', colsample_bytree = 0.8, learning_rate = 0.1, max_depth = 3, n_estimators = 20, subsample = 1.0)\n",
    "\n",
    "model.fit(X_train_resampled, y_train_resampled)\n",
    "\n",
    "# Make predictions\n",
    "X_test = X_test.iloc[:, [12, 6, 0, 15, 20, 3, 5, 9, 1, 2, 13, 17, 10]]\n",
    "prediction = model.predict(X_test)\n",
    "\n",
    "# Evaluate accuracy\n",
    "accuracy = accuracy_score(y_test, prediction)\n",
    "print(f\"Accuracy: {accuracy:.2f}\")\n",
    "\n",
    "sensitivity = recall_score(y_test, prediction)\n",
    "print(f\"Sensitivity: {sensitivity:.2f}\")"
   ]
  },
  {
   "cell_type": "code",
   "execution_count": 51,
   "id": "fcbb5a93",
   "metadata": {},
   "outputs": [
    {
     "name": "stderr",
     "output_type": "stream",
     "text": [
      "/Users/mollydonaghey/opt/anaconda3/lib/python3.9/site-packages/sklearn/metrics/_classification.py:1471: UndefinedMetricWarning: Recall is ill-defined and being set to 0.0 due to no true samples. Use `zero_division` parameter to control this behavior.\n",
      "  _warn_prf(average, modifier, msg_start, len(result))\n",
      "/Users/mollydonaghey/opt/anaconda3/lib/python3.9/site-packages/sklearn/metrics/_classification.py:1471: UndefinedMetricWarning: Recall is ill-defined and being set to 0.0 due to no true samples. Use `zero_division` parameter to control this behavior.\n",
      "  _warn_prf(average, modifier, msg_start, len(result))\n",
      "/Users/mollydonaghey/opt/anaconda3/lib/python3.9/site-packages/sklearn/metrics/_classification.py:1471: UndefinedMetricWarning: Recall is ill-defined and being set to 0.0 due to no true samples. Use `zero_division` parameter to control this behavior.\n",
      "  _warn_prf(average, modifier, msg_start, len(result))\n"
     ]
    }
   ],
   "source": [
    "results_SMOTE_df = pd.DataFrame({\n",
    "    'demographic': X_test['demographic'],\n",
    "    'actual': y_test,\n",
    "    'predicted': prediction\n",
    "})\n",
    "\n",
    "# Compute accuracy per demographic\n",
    "accuracy_per_demo_SMOTE = results_SMOTE_df.groupby('demographic').apply(\n",
    "    lambda x: accuracy_score(x['actual'], x['predicted'])\n",
    ")\n",
    "\n",
    "sensitivity_per_demo_SMOTE = results_SMOTE_df.groupby('demographic').apply(\n",
    "    lambda x: recall_score(x['actual'], x['predicted'])\n",
    ")"
   ]
  },
  {
   "cell_type": "code",
   "execution_count": 52,
   "id": "1a1d0f6d",
   "metadata": {},
   "outputs": [],
   "source": [
    "accuracy_per_demo_SMOTE = pd.DataFrame(accuracy_per_demo_SMOTE)\n",
    "accuracy_per_demo_SMOTE.reset_index(inplace = True)\n",
    "accuracy_per_demo_SMOTE.columns = ['demographic', 'accuracy_SMOTE']"
   ]
  },
  {
   "cell_type": "markdown",
   "id": "8b4a74eb-229c-4bf2-84c3-da294ba7c72a",
   "metadata": {},
   "source": [
    "## Accuracy and Sensitivity"
   ]
  },
  {
   "cell_type": "code",
   "execution_count": 54,
   "id": "05f43076",
   "metadata": {},
   "outputs": [],
   "source": [
    "accuracy_per_demo = accuracy_per_demo_SMOTE.merge(accuracy_per_demo_norm, on = 'demographic', how = 'left')"
   ]
  },
  {
   "cell_type": "code",
   "execution_count": 55,
   "id": "bbaf665f",
   "metadata": {},
   "outputs": [],
   "source": [
    "swapped_demo_mapping = {\n",
    "    1: 'male, white, paediatric',\n",
    "    2: 'male, black or african american, paediatric',\n",
    "    3: 'male, asian, paediatric',\n",
    "    4: 'male, american indian or alaska native, paediatric',\n",
    "    5: 'male, white, young adult',\n",
    "    6: 'male, black or african american, young adult',\n",
    "    7: 'male, asian, young adult',\n",
    "    8: 'male, american indian or alaska native, young adult',\n",
    "    9: 'male, white, adult',\n",
    "    10: 'male, black or african american, adult',\n",
    "    11: 'male, asian, adult',\n",
    "    12: 'male, american indian or alaska native, adult',\n",
    "    13: 'male, white, elderly',\n",
    "    14: 'male, black or african american, elderly',\n",
    "    15: 'male, asian, elderly',\n",
    "    16: 'male, american indian or alaska native, elderly',\n",
    "    17: 'female, white, paediatric',\n",
    "    18: 'female, black or african american, paediatric',\n",
    "    19: 'female, asian, paediatric',\n",
    "    20: 'female, american indian or alaska native, paediatric',\n",
    "    21: 'female, white, young adult',\n",
    "    22: 'female, black or african american, young adult',\n",
    "    23: 'female, asian, young adult',\n",
    "    24: 'female, american indian or alaska native, young adult',\n",
    "    25: 'female, white, adult',\n",
    "    26: 'female, black or african american, adult',\n",
    "    27: 'female, asian, adult',\n",
    "    28: 'female, american indian or alaska native, adult',\n",
    "    29: 'female, white, elderly',\n",
    "    30: 'female, black or african american, elderly',\n",
    "    31: 'female, asian, elderly',\n",
    "    32: 'female, american indian or alaska native, elderly'\n",
    "}\n",
    "\n",
    "accuracy_per_demo['demographic_names'] = accuracy_per_demo['demographic'].map(swapped_demo_mapping)"
   ]
  },
  {
   "cell_type": "code",
   "execution_count": 56,
   "id": "d81bf19e",
   "metadata": {},
   "outputs": [
    {
     "data": {
      "text/html": [
       "<div>\n",
       "<style scoped>\n",
       "    .dataframe tbody tr th:only-of-type {\n",
       "        vertical-align: middle;\n",
       "    }\n",
       "\n",
       "    .dataframe tbody tr th {\n",
       "        vertical-align: top;\n",
       "    }\n",
       "\n",
       "    .dataframe thead th {\n",
       "        text-align: right;\n",
       "    }\n",
       "</style>\n",
       "<table border=\"1\" class=\"dataframe\">\n",
       "  <thead>\n",
       "    <tr style=\"text-align: right;\">\n",
       "      <th></th>\n",
       "      <th>demographic</th>\n",
       "      <th>accuracy_SMOTE</th>\n",
       "      <th>accuracy_norm</th>\n",
       "      <th>demographic_names</th>\n",
       "    </tr>\n",
       "  </thead>\n",
       "  <tbody>\n",
       "    <tr>\n",
       "      <th>0</th>\n",
       "      <td>5</td>\n",
       "      <td>1.000000</td>\n",
       "      <td>1.000000</td>\n",
       "      <td>male, white, young adult</td>\n",
       "    </tr>\n",
       "    <tr>\n",
       "      <th>1</th>\n",
       "      <td>9</td>\n",
       "      <td>0.809524</td>\n",
       "      <td>0.809524</td>\n",
       "      <td>male, white, adult</td>\n",
       "    </tr>\n",
       "    <tr>\n",
       "      <th>2</th>\n",
       "      <td>10</td>\n",
       "      <td>1.000000</td>\n",
       "      <td>1.000000</td>\n",
       "      <td>male, black or african american, adult</td>\n",
       "    </tr>\n",
       "    <tr>\n",
       "      <th>3</th>\n",
       "      <td>13</td>\n",
       "      <td>0.692308</td>\n",
       "      <td>0.692308</td>\n",
       "      <td>male, white, elderly</td>\n",
       "    </tr>\n",
       "    <tr>\n",
       "      <th>4</th>\n",
       "      <td>14</td>\n",
       "      <td>0.666667</td>\n",
       "      <td>0.666667</td>\n",
       "      <td>male, black or african american, elderly</td>\n",
       "    </tr>\n",
       "    <tr>\n",
       "      <th>5</th>\n",
       "      <td>21</td>\n",
       "      <td>0.800000</td>\n",
       "      <td>0.800000</td>\n",
       "      <td>female, white, young adult</td>\n",
       "    </tr>\n",
       "    <tr>\n",
       "      <th>6</th>\n",
       "      <td>22</td>\n",
       "      <td>1.000000</td>\n",
       "      <td>1.000000</td>\n",
       "      <td>female, black or african american, young adult</td>\n",
       "    </tr>\n",
       "    <tr>\n",
       "      <th>7</th>\n",
       "      <td>25</td>\n",
       "      <td>0.722222</td>\n",
       "      <td>0.666667</td>\n",
       "      <td>female, white, adult</td>\n",
       "    </tr>\n",
       "    <tr>\n",
       "      <th>8</th>\n",
       "      <td>26</td>\n",
       "      <td>0.000000</td>\n",
       "      <td>0.000000</td>\n",
       "      <td>female, black or african american, adult</td>\n",
       "    </tr>\n",
       "    <tr>\n",
       "      <th>9</th>\n",
       "      <td>29</td>\n",
       "      <td>1.000000</td>\n",
       "      <td>1.000000</td>\n",
       "      <td>female, white, elderly</td>\n",
       "    </tr>\n",
       "    <tr>\n",
       "      <th>10</th>\n",
       "      <td>30</td>\n",
       "      <td>0.000000</td>\n",
       "      <td>0.000000</td>\n",
       "      <td>female, black or african american, elderly</td>\n",
       "    </tr>\n",
       "  </tbody>\n",
       "</table>\n",
       "</div>"
      ],
      "text/plain": [
       "    demographic  accuracy_SMOTE  accuracy_norm   \n",
       "0             5        1.000000       1.000000  \\\n",
       "1             9        0.809524       0.809524   \n",
       "2            10        1.000000       1.000000   \n",
       "3            13        0.692308       0.692308   \n",
       "4            14        0.666667       0.666667   \n",
       "5            21        0.800000       0.800000   \n",
       "6            22        1.000000       1.000000   \n",
       "7            25        0.722222       0.666667   \n",
       "8            26        0.000000       0.000000   \n",
       "9            29        1.000000       1.000000   \n",
       "10           30        0.000000       0.000000   \n",
       "\n",
       "                                 demographic_names  \n",
       "0                         male, white, young adult  \n",
       "1                               male, white, adult  \n",
       "2           male, black or african american, adult  \n",
       "3                             male, white, elderly  \n",
       "4         male, black or african american, elderly  \n",
       "5                       female, white, young adult  \n",
       "6   female, black or african american, young adult  \n",
       "7                             female, white, adult  \n",
       "8         female, black or african american, adult  \n",
       "9                           female, white, elderly  \n",
       "10      female, black or african american, elderly  "
      ]
     },
     "execution_count": 56,
     "metadata": {},
     "output_type": "execute_result"
    }
   ],
   "source": [
    "accuracy_per_demo"
   ]
  },
  {
   "cell_type": "code",
   "execution_count": 57,
   "id": "17bd5472",
   "metadata": {},
   "outputs": [
    {
     "data": {
      "image/png": "[encoded data removed]",
      "text/plain": [
       "<Figure size 1000x500 with 1 Axes>"
      ]
     },
     "metadata": {},
     "output_type": "display_data"
    }
   ],
   "source": [
    "x = np.arange(len(accuracy_per_demo['demographic']))  # Numeric positions for categories\n",
    "width = 0.4\n",
    "\n",
    "plt.figure(figsize=(10, 5))\n",
    "plt.bar(x - width/2, accuracy_per_demo['accuracy_SMOTE'], width, label='SMOTE')\n",
    "plt.bar(x + width/2, accuracy_per_demo['accuracy_norm'], width, label='Normal')\n",
    "\n",
    "plt.xlabel('Demographic')\n",
    "plt.ylabel('Accuracy')\n",
    "plt.title('Accuracy per Demographic')\n",
    "plt.xticks(ticks=x, labels=accuracy_per_demo['demographic'], rotation=45)  \n",
    "plt.legend()\n",
    "plt.grid(axis='y', linestyle='--', alpha=0.7) \n",
    "\n",
    "plt.show()"
   ]
  },
  {
   "cell_type": "code",
   "execution_count": 58,
   "id": "c94491c1-bc69-4c7d-8b4b-69cf6c831b6a",
   "metadata": {},
   "outputs": [],
   "source": [
    "sensitivity_per_demo_SMOTE = sensitivity_per_demo_SMOTE.reset_index()"
   ]
  },
  {
   "cell_type": "code",
   "execution_count": 59,
   "id": "76c14617",
   "metadata": {},
   "outputs": [
    {
     "data": {
      "text/html": [
       "<div>\n",
       "<style scoped>\n",
       "    .dataframe tbody tr th:only-of-type {\n",
       "        vertical-align: middle;\n",
       "    }\n",
       "\n",
       "    .dataframe tbody tr th {\n",
       "        vertical-align: top;\n",
       "    }\n",
       "\n",
       "    .dataframe thead th {\n",
       "        text-align: right;\n",
       "    }\n",
       "</style>\n",
       "<table border=\"1\" class=\"dataframe\">\n",
       "  <thead>\n",
       "    <tr style=\"text-align: right;\">\n",
       "      <th></th>\n",
       "      <th>demographic</th>\n",
       "      <th>sensitivity_SMOTE</th>\n",
       "      <th>sensitivity_norm</th>\n",
       "      <th>demographic names</th>\n",
       "    </tr>\n",
       "  </thead>\n",
       "  <tbody>\n",
       "    <tr>\n",
       "      <th>0</th>\n",
       "      <td>5</td>\n",
       "      <td>0.000000</td>\n",
       "      <td>0.000000</td>\n",
       "      <td>male, white, young adult</td>\n",
       "    </tr>\n",
       "    <tr>\n",
       "      <th>1</th>\n",
       "      <td>9</td>\n",
       "      <td>0.928571</td>\n",
       "      <td>0.928571</td>\n",
       "      <td>male, white, adult</td>\n",
       "    </tr>\n",
       "    <tr>\n",
       "      <th>2</th>\n",
       "      <td>10</td>\n",
       "      <td>1.000000</td>\n",
       "      <td>1.000000</td>\n",
       "      <td>male, black or african american, adult</td>\n",
       "    </tr>\n",
       "    <tr>\n",
       "      <th>3</th>\n",
       "      <td>13</td>\n",
       "      <td>0.777778</td>\n",
       "      <td>0.777778</td>\n",
       "      <td>male, white, elderly</td>\n",
       "    </tr>\n",
       "    <tr>\n",
       "      <th>4</th>\n",
       "      <td>14</td>\n",
       "      <td>0.666667</td>\n",
       "      <td>0.666667</td>\n",
       "      <td>male, black or african american, elderly</td>\n",
       "    </tr>\n",
       "    <tr>\n",
       "      <th>5</th>\n",
       "      <td>21</td>\n",
       "      <td>0.000000</td>\n",
       "      <td>0.000000</td>\n",
       "      <td>female, white, young adult</td>\n",
       "    </tr>\n",
       "    <tr>\n",
       "      <th>6</th>\n",
       "      <td>22</td>\n",
       "      <td>1.000000</td>\n",
       "      <td>1.000000</td>\n",
       "      <td>female, black or african american, young adult</td>\n",
       "    </tr>\n",
       "    <tr>\n",
       "      <th>7</th>\n",
       "      <td>25</td>\n",
       "      <td>0.571429</td>\n",
       "      <td>0.428571</td>\n",
       "      <td>female, white, adult</td>\n",
       "    </tr>\n",
       "    <tr>\n",
       "      <th>8</th>\n",
       "      <td>26</td>\n",
       "      <td>0.000000</td>\n",
       "      <td>0.000000</td>\n",
       "      <td>female, black or african american, adult</td>\n",
       "    </tr>\n",
       "    <tr>\n",
       "      <th>9</th>\n",
       "      <td>29</td>\n",
       "      <td>1.000000</td>\n",
       "      <td>1.000000</td>\n",
       "      <td>female, white, elderly</td>\n",
       "    </tr>\n",
       "    <tr>\n",
       "      <th>10</th>\n",
       "      <td>30</td>\n",
       "      <td>0.000000</td>\n",
       "      <td>0.000000</td>\n",
       "      <td>female, black or african american, elderly</td>\n",
       "    </tr>\n",
       "  </tbody>\n",
       "</table>\n",
       "</div>"
      ],
      "text/plain": [
       "    demographic  sensitivity_SMOTE  sensitivity_norm   \n",
       "0             5           0.000000          0.000000  \\\n",
       "1             9           0.928571          0.928571   \n",
       "2            10           1.000000          1.000000   \n",
       "3            13           0.777778          0.777778   \n",
       "4            14           0.666667          0.666667   \n",
       "5            21           0.000000          0.000000   \n",
       "6            22           1.000000          1.000000   \n",
       "7            25           0.571429          0.428571   \n",
       "8            26           0.000000          0.000000   \n",
       "9            29           1.000000          1.000000   \n",
       "10           30           0.000000          0.000000   \n",
       "\n",
       "                                 demographic names  \n",
       "0                         male, white, young adult  \n",
       "1                               male, white, adult  \n",
       "2           male, black or african american, adult  \n",
       "3                             male, white, elderly  \n",
       "4         male, black or african american, elderly  \n",
       "5                       female, white, young adult  \n",
       "6   female, black or african american, young adult  \n",
       "7                             female, white, adult  \n",
       "8         female, black or african american, adult  \n",
       "9                           female, white, elderly  \n",
       "10      female, black or african american, elderly  "
      ]
     },
     "execution_count": 59,
     "metadata": {},
     "output_type": "execute_result"
    }
   ],
   "source": [
    "sensitivity_per_demo_SMOTE = pd.DataFrame(sensitivity_per_demo_SMOTE)\n",
    "sensitivity_per_demo_SMOTE.columns = ['demographic', 'sensitivity_SMOTE']\n",
    "\n",
    "\n",
    "sensitivity_per_demo = sensitivity_per_demo_SMOTE.merge(sensitivity_per_demo_norm, on = 'demographic', how = 'left')\n",
    "sensitivity_per_demo['demographic names'] = sensitivity_per_demo['demographic'].map(swapped_demo_mapping)\n",
    "sensitivity_per_demo"
   ]
  },
  {
   "cell_type": "code",
   "execution_count": 60,
   "id": "94777bb1-e531-4ebd-a386-f94afdfc95cb",
   "metadata": {},
   "outputs": [
    {
     "data": {
      "image/png": "[encoded data removed]",
      "text/plain": [
       "<Figure size 1000x500 with 1 Axes>"
      ]
     },
     "metadata": {},
     "output_type": "display_data"
    }
   ],
   "source": [
    "x = np.arange(len(sensitivity_per_demo['demographic']))  # Numeric positions for categories\n",
    "width = 0.4\n",
    "\n",
    "plt.figure(figsize=(10, 5))\n",
    "plt.bar(x - width/2, sensitivity_per_demo['sensitivity_SMOTE'], width, label='SMOTE')\n",
    "plt.bar(x + width/2, sensitivity_per_demo['sensitivity_norm'], width, label='Normal')\n",
    "\n",
    "plt.xlabel('Demographic')\n",
    "plt.ylabel('Sensitivity')\n",
    "plt.title('Sensitivity per Demographic')\n",
    "plt.xticks(ticks=x, labels=sensitivity_per_demo['demographic'], rotation=45)  # Properly label x-axis\n",
    "plt.legend()\n",
    "plt.grid(axis='y', linestyle='--', alpha=0.7)  # Add a horizontal grid for better readability\n",
    "\n",
    "plt.show()"
   ]
  },
  {
   "cell_type": "markdown",
   "id": "fa8f1048-303b-4219-a50d-14e6e833c361",
   "metadata": {},
   "source": [
    "### ROC curve"
   ]
  },
  {
   "cell_type": "code",
   "execution_count": 62,
   "id": "c0d02eeb-bbb5-40b4-a8eb-92284aa2feac",
   "metadata": {},
   "outputs": [
    {
     "data": {
      "image/png": "[encoded data removed]",
      "text/plain": [
       "<Figure size 640x480 with 1 Axes>"
      ]
     },
     "metadata": {},
     "output_type": "display_data"
    }
   ],
   "source": [
    "from sklearn.metrics import roc_curve, auc\n",
    "\n",
    "# Compute ROC curve\n",
    "fpr, tpr, thresholds = roc_curve(results_df['actual'], results_df['predicted'])\n",
    "\n",
    "# Compute AUC (Area Under Curve)\n",
    "roc_auc = auc(fpr, tpr)\n",
    "\n",
    "# Plotting\n",
    "plt.figure()\n",
    "plt.plot(fpr, tpr, color='darkorange', lw=2, label=f'ROC curve (AUC = {roc_auc:.2f})')\n",
    "plt.plot([0, 1], [0, 1], color='navy', lw=2, linestyle='--')  # chance line\n",
    "plt.xlabel('False Positive Rate')\n",
    "plt.ylabel('True Positive Rate')\n",
    "plt.title('ROC Curve XGBoost')\n",
    "plt.legend(loc=\"lower right\")\n",
    "plt.grid(True)\n",
    "plt.show()"
   ]
  },
  {
   "cell_type": "code",
   "execution_count": 63,
   "id": "d70883cd-52ab-4597-a1ef-8ad7efdcc484",
   "metadata": {},
   "outputs": [
    {
     "name": "stderr",
     "output_type": "stream",
     "text": [
      "/Users/mollydonaghey/opt/anaconda3/lib/python3.9/site-packages/sklearn/metrics/_ranking.py:1133: UndefinedMetricWarning: No positive samples in y_true, true positive value should be meaningless\n",
      "  warnings.warn(\n",
      "/Users/mollydonaghey/opt/anaconda3/lib/python3.9/site-packages/sklearn/metrics/_ranking.py:1124: UndefinedMetricWarning: No negative samples in y_true, false positive value should be meaningless\n",
      "  warnings.warn(\n",
      "/Users/mollydonaghey/opt/anaconda3/lib/python3.9/site-packages/sklearn/metrics/_ranking.py:1124: UndefinedMetricWarning: No negative samples in y_true, false positive value should be meaningless\n",
      "  warnings.warn(\n",
      "/Users/mollydonaghey/opt/anaconda3/lib/python3.9/site-packages/sklearn/metrics/_ranking.py:1133: UndefinedMetricWarning: No positive samples in y_true, true positive value should be meaningless\n",
      "  warnings.warn(\n",
      "/Users/mollydonaghey/opt/anaconda3/lib/python3.9/site-packages/sklearn/metrics/_ranking.py:1124: UndefinedMetricWarning: No negative samples in y_true, false positive value should be meaningless\n",
      "  warnings.warn(\n",
      "/Users/mollydonaghey/opt/anaconda3/lib/python3.9/site-packages/sklearn/metrics/_ranking.py:1133: UndefinedMetricWarning: No positive samples in y_true, true positive value should be meaningless\n",
      "  warnings.warn(\n"
     ]
    },
    {
     "data": {
      "text/html": [
       "<div>\n",
       "<style scoped>\n",
       "    .dataframe tbody tr th:only-of-type {\n",
       "        vertical-align: middle;\n",
       "    }\n",
       "\n",
       "    .dataframe tbody tr th {\n",
       "        vertical-align: top;\n",
       "    }\n",
       "\n",
       "    .dataframe thead th {\n",
       "        text-align: right;\n",
       "    }\n",
       "</style>\n",
       "<table border=\"1\" class=\"dataframe\">\n",
       "  <thead>\n",
       "    <tr style=\"text-align: right;\">\n",
       "      <th></th>\n",
       "      <th>AUC</th>\n",
       "    </tr>\n",
       "  </thead>\n",
       "  <tbody>\n",
       "    <tr>\n",
       "      <th>5</th>\n",
       "      <td>NaN</td>\n",
       "    </tr>\n",
       "    <tr>\n",
       "      <th>9</th>\n",
       "      <td>0.750000</td>\n",
       "    </tr>\n",
       "    <tr>\n",
       "      <th>10</th>\n",
       "      <td>NaN</td>\n",
       "    </tr>\n",
       "    <tr>\n",
       "      <th>13</th>\n",
       "      <td>0.638889</td>\n",
       "    </tr>\n",
       "    <tr>\n",
       "      <th>14</th>\n",
       "      <td>NaN</td>\n",
       "    </tr>\n",
       "    <tr>\n",
       "      <th>21</th>\n",
       "      <td>0.444444</td>\n",
       "    </tr>\n",
       "    <tr>\n",
       "      <th>22</th>\n",
       "      <td>1.000000</td>\n",
       "    </tr>\n",
       "    <tr>\n",
       "      <th>25</th>\n",
       "      <td>0.623377</td>\n",
       "    </tr>\n",
       "    <tr>\n",
       "      <th>26</th>\n",
       "      <td>NaN</td>\n",
       "    </tr>\n",
       "    <tr>\n",
       "      <th>29</th>\n",
       "      <td>NaN</td>\n",
       "    </tr>\n",
       "    <tr>\n",
       "      <th>30</th>\n",
       "      <td>NaN</td>\n",
       "    </tr>\n",
       "  </tbody>\n",
       "</table>\n",
       "</div>"
      ],
      "text/plain": [
       "         AUC\n",
       "5        NaN\n",
       "9   0.750000\n",
       "10       NaN\n",
       "13  0.638889\n",
       "14       NaN\n",
       "21  0.444444\n",
       "22  1.000000\n",
       "25  0.623377\n",
       "26       NaN\n",
       "29       NaN\n",
       "30       NaN"
      ]
     },
     "execution_count": 63,
     "metadata": {},
     "output_type": "execute_result"
    }
   ],
   "source": [
    "from sklearn.metrics import roc_curve, auc\n",
    "\n",
    "# Create an empty dictionary to hold the AUC for each demographic\n",
    "auc_per_demo = {}\n",
    "\n",
    "# Group by demographic and compute AUC for each group\n",
    "for demo, group in results_df.groupby('demographic'):\n",
    "    fpr, tpr, _ = roc_curve(group['actual'], group['predicted'])\n",
    "    auc_score = auc(fpr, tpr)\n",
    "    auc_per_demo[demo] = auc_score\n",
    "\n",
    "# Optional: convert to a DataFrame\n",
    "auc_per_demo_df = pd.DataFrame.from_dict(auc_per_demo, orient='index', columns=['AUC'])\n",
    "auc_per_demo_df"
   ]
  },
  {
   "cell_type": "code",
   "execution_count": 64,
   "id": "5672e767-6747-429d-88af-15806a32409b",
   "metadata": {},
   "outputs": [
    {
     "data": {
      "image/png": "[encoded data removed]",
      "text/plain": [
       "<Figure size 640x480 with 1 Axes>"
      ]
     },
     "metadata": {},
     "output_type": "display_data"
    }
   ],
   "source": [
    "# Compute ROC curve\n",
    "fpr, tpr, thresholds = roc_curve(results_SMOTE_df['actual'], results_SMOTE_df['predicted'])\n",
    "\n",
    "# Compute AUC (Area Under Curve)\n",
    "roc_auc = auc(fpr, tpr)\n",
    "\n",
    "# Plotting\n",
    "plt.figure()\n",
    "plt.plot(fpr, tpr, color='darkorange', lw=2, label=f'ROC curve (AUC = {roc_auc:.2f})')\n",
    "plt.plot([0, 1], [0, 1], color='navy', lw=2, linestyle='--')  # chance line\n",
    "plt.xlabel('False Positive Rate')\n",
    "plt.ylabel('True Positive Rate')\n",
    "plt.title('ROC Curve SMOTE and XGBoost')\n",
    "plt.legend(loc=\"lower right\")\n",
    "plt.grid(True)\n",
    "plt.show()"
   ]
  },
  {
   "cell_type": "code",
   "execution_count": 65,
   "id": "3fe793cf-a04f-4170-b77f-f3fb218fcbef",
   "metadata": {},
   "outputs": [
    {
     "name": "stderr",
     "output_type": "stream",
     "text": [
      "/Users/mollydonaghey/opt/anaconda3/lib/python3.9/site-packages/sklearn/metrics/_ranking.py:1133: UndefinedMetricWarning: No positive samples in y_true, true positive value should be meaningless\n",
      "  warnings.warn(\n",
      "/Users/mollydonaghey/opt/anaconda3/lib/python3.9/site-packages/sklearn/metrics/_ranking.py:1124: UndefinedMetricWarning: No negative samples in y_true, false positive value should be meaningless\n",
      "  warnings.warn(\n",
      "/Users/mollydonaghey/opt/anaconda3/lib/python3.9/site-packages/sklearn/metrics/_ranking.py:1124: UndefinedMetricWarning: No negative samples in y_true, false positive value should be meaningless\n",
      "  warnings.warn(\n",
      "/Users/mollydonaghey/opt/anaconda3/lib/python3.9/site-packages/sklearn/metrics/_ranking.py:1133: UndefinedMetricWarning: No positive samples in y_true, true positive value should be meaningless\n",
      "  warnings.warn(\n",
      "/Users/mollydonaghey/opt/anaconda3/lib/python3.9/site-packages/sklearn/metrics/_ranking.py:1124: UndefinedMetricWarning: No negative samples in y_true, false positive value should be meaningless\n",
      "  warnings.warn(\n",
      "/Users/mollydonaghey/opt/anaconda3/lib/python3.9/site-packages/sklearn/metrics/_ranking.py:1133: UndefinedMetricWarning: No positive samples in y_true, true positive value should be meaningless\n",
      "  warnings.warn(\n"
     ]
    },
    {
     "data": {
      "text/html": [
       "<div>\n",
       "<style scoped>\n",
       "    .dataframe tbody tr th:only-of-type {\n",
       "        vertical-align: middle;\n",
       "    }\n",
       "\n",
       "    .dataframe tbody tr th {\n",
       "        vertical-align: top;\n",
       "    }\n",
       "\n",
       "    .dataframe thead th {\n",
       "        text-align: right;\n",
       "    }\n",
       "</style>\n",
       "<table border=\"1\" class=\"dataframe\">\n",
       "  <thead>\n",
       "    <tr style=\"text-align: right;\">\n",
       "      <th></th>\n",
       "      <th>AUC</th>\n",
       "    </tr>\n",
       "  </thead>\n",
       "  <tbody>\n",
       "    <tr>\n",
       "      <th>5</th>\n",
       "      <td>NaN</td>\n",
       "    </tr>\n",
       "    <tr>\n",
       "      <th>9</th>\n",
       "      <td>0.750000</td>\n",
       "    </tr>\n",
       "    <tr>\n",
       "      <th>10</th>\n",
       "      <td>NaN</td>\n",
       "    </tr>\n",
       "    <tr>\n",
       "      <th>13</th>\n",
       "      <td>0.638889</td>\n",
       "    </tr>\n",
       "    <tr>\n",
       "      <th>14</th>\n",
       "      <td>NaN</td>\n",
       "    </tr>\n",
       "    <tr>\n",
       "      <th>21</th>\n",
       "      <td>0.444444</td>\n",
       "    </tr>\n",
       "    <tr>\n",
       "      <th>22</th>\n",
       "      <td>1.000000</td>\n",
       "    </tr>\n",
       "    <tr>\n",
       "      <th>25</th>\n",
       "      <td>0.694805</td>\n",
       "    </tr>\n",
       "    <tr>\n",
       "      <th>26</th>\n",
       "      <td>NaN</td>\n",
       "    </tr>\n",
       "    <tr>\n",
       "      <th>29</th>\n",
       "      <td>NaN</td>\n",
       "    </tr>\n",
       "    <tr>\n",
       "      <th>30</th>\n",
       "      <td>NaN</td>\n",
       "    </tr>\n",
       "  </tbody>\n",
       "</table>\n",
       "</div>"
      ],
      "text/plain": [
       "         AUC\n",
       "5        NaN\n",
       "9   0.750000\n",
       "10       NaN\n",
       "13  0.638889\n",
       "14       NaN\n",
       "21  0.444444\n",
       "22  1.000000\n",
       "25  0.694805\n",
       "26       NaN\n",
       "29       NaN\n",
       "30       NaN"
      ]
     },
     "execution_count": 65,
     "metadata": {},
     "output_type": "execute_result"
    }
   ],
   "source": [
    "from sklearn.metrics import roc_curve, auc\n",
    "\n",
    "# Create an empty dictionary to hold the AUC for each demographic\n",
    "auc_per_demo_SMOTE = {}\n",
    "\n",
    "# Group by demographic and compute AUC for each group\n",
    "for demo, group in results_SMOTE_df.groupby('demographic'):\n",
    "    fpr, tpr, _ = roc_curve(group['actual'], group['predicted'])\n",
    "    auc_score = auc(fpr, tpr)\n",
    "    auc_per_demo_SMOTE[demo] = auc_score\n",
    "\n",
    "# Optional: convert to a DataFrame\n",
    "auc_per_demo_SMOTE_df = pd.DataFrame.from_dict(auc_per_demo_SMOTE, orient='index', columns=['AUC'])\n",
    "auc_per_demo_SMOTE_df"
   ]
  }
 ],
 "metadata": {
  "kernelspec": {
   "display_name": "Python [conda env:anaconda3]",
   "language": "python",
   "name": "conda-env-anaconda3-py"
  },
  "language_info": {
   "codemirror_mode": {
    "name": "ipython",
    "version": 3
   },
   "file_extension": ".py",
   "mimetype": "text/x-python",
   "name": "python",
   "nbconvert_exporter": "python",
   "pygments_lexer": "ipython3",
   "version": "3.9.13"
  }
 },
 "nbformat": 4,
 "nbformat_minor": 5
}
